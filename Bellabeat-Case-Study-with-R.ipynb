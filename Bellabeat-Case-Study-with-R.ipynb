{
 "cells": [
  {
   "cell_type": "markdown",
   "id": "88a199c4",
   "metadata": {
    "papermill": {
     "duration": 0.132186,
     "end_time": "2022-07-15T08:45:31.851499",
     "exception": false,
     "start_time": "2022-07-15T08:45:31.719313",
     "status": "completed"
    },
    "tags": []
   },
   "source": [
    "# **Bellabeat Case Study with R**\n",
    "# *** FitBit Fitness Tracker Data***\n",
    "\n",
    "### Elliot Manuel Sithole\n",
    "### 14/7/2022\n",
    "<br>\n",
    "\n",
    "\n",
    "# Introduction\n",
    "## Scenario \n",
    "You are a junior data analyst working on the marketing analyst team at Bellabeat, a high-tech manufacturer of health-focused products for women. Bellabeat is a successful small company, but they have the potential to become a larger player in the global smart device market. Urška Sršen, cofounder and Chief Creative Officer of Bellabeat, believes that analyzing smart device fitness data could help unlock new growth opportunities for the company. You have been asked to focus on one of Bellabeat’s products and analyze smart device data to gain insight into how consumers are using their smart devices. The insights you discover will then help guide marketing strategy for the company. You will present your analysis to the Bellabeat executive team along with your high-level recommendations for Bellabeat’s marketing strategy\n",
    "<br><br>\n",
    "\n",
    "## About the company\n",
    "Urška Sršen and Sando Mur founded Bellabeat, a high-tech company that manufactures health-focused smart products. Sršen used her background as an artist to develop beautifully designed technology that informs and inspires women around the world. Collecting data on activity, sleep, stress, and reproductive health has allowed Bellabeat to empower women with knowledge about their own health and habits. Since it was founded in 2013, Bellabeat has grown rapidly and quickly positioned itself as a tech-driven wellness company for women.\n",
    "\n",
    "By 2016, Bellabeat had opened offices around the world and launched multiple products. Bellabeat products became available through a growing number of online retailers in addition to their own e-commerce channel on their website. The company has invested in traditional advertising media, such as radio, out-of-home billboards, print, and television, but focuses on digital marketing extensively. Bellabeat invests year-round in Google Search, maintaining active Facebook and Instagram pages, and consistently engages consumers on Twitter. Additionally, Bellabeat runs video ads on Youtube and display ads on the Google Display Network to support campaigns around key marketing dates.\n",
    "\n",
    "Sršen knows that an analysis of Bellabeat’s available consumer data would reveal more opportunities for growth. She has asked the marketing analytics team to focus on a Bellabeat product and analyze smart device usage data in order to gain insight into how people are already using their smart devices. Then, using this information, she would like high-level recommendations for how these trends can inform Bellabeat marketing strategy.\n",
    "<br><br>\n",
    "\n",
    "## Characters and teams\n",
    "* **Urška Sršen**: Bellabeat’s cofounder and Chief Creative Officer\n",
    "\n",
    "* **Sando Mur**: Mathematician and Bellabeat’s cofounder; key member of the Bellabeat executive team\n",
    "\n",
    "* **Bellabeat marketing analytics team**: A team of data analysts responsible for collecting, analyzing, and reporting data that helps guide Bellabeat’s marketing strategy. You joined this team six months ago and have been busy learning about Bellabeat’’s mission and business goals — as well as how you, as a junior data analyst, can help Bellabeat achieve them.\n",
    "\n",
    "## Products\n",
    "* **Bellabeat app**: The Bellabeat app provides users with health data related to their activity, sleep, stress, menstrual cycle, and mindfulness habits. This data can help users better understand their current habits and make healthy decisions. The Bellabeat app connects to their line of smart wellness products.\n",
    "\n",
    "* **Leaf**: Bellabeat’s classic wellness tracker can be worn as a bracelet, necklace, or clip. The Leaf tracker connects to the Bellabeat app to track activity, sleep, and stress.\n",
    "\n",
    "* **Time**: This wellness watch combines the timeless look of a classic timepiece with smart technology to track user activity, sleep, and stress. The Time watch connects to the Bellabeat app to provide you with insights into your daily wellness.\n",
    "\n",
    "* **Spring**: This is a water bottle that tracks daily water intake using smart technology to ensure that you are appropriately hydrated throughout the day. The Spring bottle connects to the Bellabeat app to track your hydration levels.\n",
    "\n",
    "* **Bellabeat membership**: Bellabeat also offers a subscription-based membership program for users. Membership gives users 24/7 access to fully personalized guidance on nutrition, activity, sleep, health and beauty, and mindfulness based on their lifestyle and goals.\n",
    "<br><br>\n",
    "\n",
    "## Ask\n",
    "  1. What are some trends in smart device usage?\n",
    "  2. How could these trends apply to Bellabeat customers?\n",
    "  3. How could these trends help influence Bellabeat marketing strategy?\n",
    "<br><br>\n",
    "\n",
    "## Key deliverables\n",
    "  1. A clear summary of the business task\n",
    "  2. A description of all data sources used\n",
    "  3. Documentation of any cleaning or manipulation of data\n",
    "  4. A summary of your analysis\n",
    "  5. Supporting visualizations and key findings\n",
    "  6. Your top high-level content recommendations based on your analysis"
   ]
  },
  {
   "cell_type": "markdown",
   "id": "dcef4bd7",
   "metadata": {
    "papermill": {
     "duration": 0.133785,
     "end_time": "2022-07-15T08:45:32.116652",
     "exception": false,
     "start_time": "2022-07-15T08:45:31.982867",
     "status": "completed"
    },
    "tags": []
   },
   "source": [
    "# Load R Environment"
   ]
  },
  {
   "cell_type": "code",
   "execution_count": 1,
   "id": "ab5f76ad",
   "metadata": {
    "_execution_state": "idle",
    "_kg_hide-output": true,
    "_uuid": "051d70d956493feee0c6d64651c6a088724dca2a",
    "execution": {
     "iopub.execute_input": "2022-07-15T08:45:32.385302Z",
     "iopub.status.busy": "2022-07-15T08:45:32.383223Z",
     "iopub.status.idle": "2022-07-15T08:45:34.494591Z",
     "shell.execute_reply": "2022-07-15T08:45:34.492989Z"
    },
    "papermill": {
     "duration": 2.247708,
     "end_time": "2022-07-15T08:45:34.494775",
     "exception": false,
     "start_time": "2022-07-15T08:45:32.247067",
     "status": "completed"
    },
    "tags": []
   },
   "outputs": [
    {
     "name": "stderr",
     "output_type": "stream",
     "text": [
      "Loading required package: ggplot2\n",
      "\n",
      "── \u001b[1mAttaching packages\u001b[22m ─────────────────────────────────────── tidyverse 1.3.1 ──\n",
      "\n",
      "\u001b[32m✔\u001b[39m \u001b[34mtibble \u001b[39m 3.1.5     \u001b[32m✔\u001b[39m \u001b[34mdplyr  \u001b[39m 1.0.7\n",
      "\u001b[32m✔\u001b[39m \u001b[34mtidyr  \u001b[39m 1.1.4     \u001b[32m✔\u001b[39m \u001b[34mstringr\u001b[39m 1.4.0\n",
      "\u001b[32m✔\u001b[39m \u001b[34mreadr  \u001b[39m 2.0.2     \u001b[32m✔\u001b[39m \u001b[34mforcats\u001b[39m 0.5.1\n",
      "\u001b[32m✔\u001b[39m \u001b[34mpurrr  \u001b[39m 0.3.4     \n",
      "\n",
      "── \u001b[1mConflicts\u001b[22m ────────────────────────────────────────── tidyverse_conflicts() ──\n",
      "\u001b[31m✖\u001b[39m \u001b[34mdplyr\u001b[39m::\u001b[32mfilter()\u001b[39m masks \u001b[34mstats\u001b[39m::filter()\n",
      "\u001b[31m✖\u001b[39m \u001b[34mdplyr\u001b[39m::\u001b[32mlag()\u001b[39m    masks \u001b[34mstats\u001b[39m::lag()\n",
      "\n",
      "here() starts at /kaggle/working\n",
      "\n",
      "\n",
      "Attaching package: ‘janitor’\n",
      "\n",
      "\n",
      "The following objects are masked from ‘package:stats’:\n",
      "\n",
      "    chisq.test, fisher.test\n",
      "\n",
      "\n",
      "\n",
      "Attaching package: ‘lubridate’\n",
      "\n",
      "\n",
      "The following objects are masked from ‘package:base’:\n",
      "\n",
      "    date, intersect, setdiff, union\n",
      "\n",
      "\n",
      "\n",
      "Attaching package: ‘reshape2’\n",
      "\n",
      "\n",
      "The following object is masked from ‘package:tidyr’:\n",
      "\n",
      "    smiths\n",
      "\n",
      "\n",
      "\n",
      "Attaching package: ‘scales’\n",
      "\n",
      "\n",
      "The following object is masked from ‘package:purrr’:\n",
      "\n",
      "    discard\n",
      "\n",
      "\n",
      "The following object is masked from ‘package:readr’:\n",
      "\n",
      "    col_factor\n",
      "\n",
      "\n"
     ]
    }
   ],
   "source": [
    "# Setting up my R environment\n",
    "library(ggpubr)\n",
    "library(tidyverse)\n",
    "library(here)\n",
    "library(skimr)\n",
    "library(janitor)\n",
    "library(lubridate)\n",
    "library(ggrepel)\n",
    "library(ggplot2)\n",
    "library(reshape2)\n",
    "library(scales)"
   ]
  },
  {
   "cell_type": "markdown",
   "id": "5b536536",
   "metadata": {
    "papermill": {
     "duration": 0.144154,
     "end_time": "2022-07-15T08:45:34.791412",
     "exception": false,
     "start_time": "2022-07-15T08:45:34.647258",
     "status": "completed"
    },
    "tags": []
   },
   "source": [
    "# Import Datasets"
   ]
  },
  {
   "cell_type": "code",
   "execution_count": 2,
   "id": "b96b74f1",
   "metadata": {
    "execution": {
     "iopub.execute_input": "2022-07-15T08:45:35.166596Z",
     "iopub.status.busy": "2022-07-15T08:45:35.102643Z",
     "iopub.status.idle": "2022-07-15T08:45:42.632299Z",
     "shell.execute_reply": "2022-07-15T08:45:42.630539Z"
    },
    "papermill": {
     "duration": 7.685032,
     "end_time": "2022-07-15T08:45:42.632508",
     "exception": false,
     "start_time": "2022-07-15T08:45:34.947476",
     "status": "completed"
    },
    "tags": []
   },
   "outputs": [],
   "source": [
    "# Upload raw data\n",
    "daily_activity <- read.csv(\"../input/fitbit/Fitabase Data 4.12.16-5.12.16/dailyActivity_merged.csv\")\n",
    "hourly_calories <- read.csv(\"../input/fitbit/Fitabase Data 4.12.16-5.12.16/hourlyCalories_merged.csv\")\n",
    "hourly_intensities <- read.csv(\"../input/fitbit/Fitabase Data 4.12.16-5.12.16/hourlyIntensities_merged.csv\")\n",
    "sleep_day <- read.csv(\"../input/fitbit/Fitabase Data 4.12.16-5.12.16/sleepDay_merged.csv\")\n",
    "weight_log <- read.csv(\"../input/fitbit/Fitabase Data 4.12.16-5.12.16/weightLogInfo_merged.csv\")\n",
    "heart_rate <- read.csv(\"../input/fitbit/Fitabase Data 4.12.16-5.12.16/heartrate_seconds_merged.csv\")"
   ]
  },
  {
   "cell_type": "markdown",
   "id": "55a1b378",
   "metadata": {
    "papermill": {
     "duration": 0.148364,
     "end_time": "2022-07-15T08:45:42.926262",
     "exception": false,
     "start_time": "2022-07-15T08:45:42.777898",
     "status": "completed"
    },
    "tags": []
   },
   "source": [
    "# Inspect and Clean Dataframes"
   ]
  },
  {
   "cell_type": "code",
   "execution_count": 3,
   "id": "869594ec",
   "metadata": {
    "execution": {
     "iopub.execute_input": "2022-07-15T08:45:43.222939Z",
     "iopub.status.busy": "2022-07-15T08:45:43.220943Z",
     "iopub.status.idle": "2022-07-15T08:45:43.350209Z",
     "shell.execute_reply": "2022-07-15T08:45:43.348809Z"
    },
    "papermill": {
     "duration": 0.277184,
     "end_time": "2022-07-15T08:45:43.350355",
     "exception": false,
     "start_time": "2022-07-15T08:45:43.073171",
     "status": "completed"
    },
    "tags": []
   },
   "outputs": [
    {
     "name": "stdout",
     "output_type": "stream",
     "text": [
      "[1] \"Daily Activity\"\n"
     ]
    },
    {
     "data": {
      "text/html": [
       "<table class=\"dataframe\">\n",
       "<caption>A data.frame: 6 × 15</caption>\n",
       "<thead>\n",
       "\t<tr><th></th><th scope=col>Id</th><th scope=col>ActivityDate</th><th scope=col>TotalSteps</th><th scope=col>TotalDistance</th><th scope=col>TrackerDistance</th><th scope=col>LoggedActivitiesDistance</th><th scope=col>VeryActiveDistance</th><th scope=col>ModeratelyActiveDistance</th><th scope=col>LightActiveDistance</th><th scope=col>SedentaryActiveDistance</th><th scope=col>VeryActiveMinutes</th><th scope=col>FairlyActiveMinutes</th><th scope=col>LightlyActiveMinutes</th><th scope=col>SedentaryMinutes</th><th scope=col>Calories</th></tr>\n",
       "\t<tr><th></th><th scope=col>&lt;dbl&gt;</th><th scope=col>&lt;chr&gt;</th><th scope=col>&lt;int&gt;</th><th scope=col>&lt;dbl&gt;</th><th scope=col>&lt;dbl&gt;</th><th scope=col>&lt;dbl&gt;</th><th scope=col>&lt;dbl&gt;</th><th scope=col>&lt;dbl&gt;</th><th scope=col>&lt;dbl&gt;</th><th scope=col>&lt;dbl&gt;</th><th scope=col>&lt;int&gt;</th><th scope=col>&lt;int&gt;</th><th scope=col>&lt;int&gt;</th><th scope=col>&lt;int&gt;</th><th scope=col>&lt;int&gt;</th></tr>\n",
       "</thead>\n",
       "<tbody>\n",
       "\t<tr><th scope=row>1</th><td>1503960366</td><td>4/12/2016</td><td>13162</td><td>8.50</td><td>8.50</td><td>0</td><td>1.88</td><td>0.55</td><td>6.06</td><td>0</td><td>25</td><td>13</td><td>328</td><td> 728</td><td>1985</td></tr>\n",
       "\t<tr><th scope=row>2</th><td>1503960366</td><td>4/13/2016</td><td>10735</td><td>6.97</td><td>6.97</td><td>0</td><td>1.57</td><td>0.69</td><td>4.71</td><td>0</td><td>21</td><td>19</td><td>217</td><td> 776</td><td>1797</td></tr>\n",
       "\t<tr><th scope=row>3</th><td>1503960366</td><td>4/14/2016</td><td>10460</td><td>6.74</td><td>6.74</td><td>0</td><td>2.44</td><td>0.40</td><td>3.91</td><td>0</td><td>30</td><td>11</td><td>181</td><td>1218</td><td>1776</td></tr>\n",
       "\t<tr><th scope=row>4</th><td>1503960366</td><td>4/15/2016</td><td> 9762</td><td>6.28</td><td>6.28</td><td>0</td><td>2.14</td><td>1.26</td><td>2.83</td><td>0</td><td>29</td><td>34</td><td>209</td><td> 726</td><td>1745</td></tr>\n",
       "\t<tr><th scope=row>5</th><td>1503960366</td><td>4/16/2016</td><td>12669</td><td>8.16</td><td>8.16</td><td>0</td><td>2.71</td><td>0.41</td><td>5.04</td><td>0</td><td>36</td><td>10</td><td>221</td><td> 773</td><td>1863</td></tr>\n",
       "\t<tr><th scope=row>6</th><td>1503960366</td><td>4/17/2016</td><td> 9705</td><td>6.48</td><td>6.48</td><td>0</td><td>3.19</td><td>0.78</td><td>2.51</td><td>0</td><td>38</td><td>20</td><td>164</td><td> 539</td><td>1728</td></tr>\n",
       "</tbody>\n",
       "</table>\n"
      ],
      "text/latex": [
       "A data.frame: 6 × 15\n",
       "\\begin{tabular}{r|lllllllllllllll}\n",
       "  & Id & ActivityDate & TotalSteps & TotalDistance & TrackerDistance & LoggedActivitiesDistance & VeryActiveDistance & ModeratelyActiveDistance & LightActiveDistance & SedentaryActiveDistance & VeryActiveMinutes & FairlyActiveMinutes & LightlyActiveMinutes & SedentaryMinutes & Calories\\\\\n",
       "  & <dbl> & <chr> & <int> & <dbl> & <dbl> & <dbl> & <dbl> & <dbl> & <dbl> & <dbl> & <int> & <int> & <int> & <int> & <int>\\\\\n",
       "\\hline\n",
       "\t1 & 1503960366 & 4/12/2016 & 13162 & 8.50 & 8.50 & 0 & 1.88 & 0.55 & 6.06 & 0 & 25 & 13 & 328 &  728 & 1985\\\\\n",
       "\t2 & 1503960366 & 4/13/2016 & 10735 & 6.97 & 6.97 & 0 & 1.57 & 0.69 & 4.71 & 0 & 21 & 19 & 217 &  776 & 1797\\\\\n",
       "\t3 & 1503960366 & 4/14/2016 & 10460 & 6.74 & 6.74 & 0 & 2.44 & 0.40 & 3.91 & 0 & 30 & 11 & 181 & 1218 & 1776\\\\\n",
       "\t4 & 1503960366 & 4/15/2016 &  9762 & 6.28 & 6.28 & 0 & 2.14 & 1.26 & 2.83 & 0 & 29 & 34 & 209 &  726 & 1745\\\\\n",
       "\t5 & 1503960366 & 4/16/2016 & 12669 & 8.16 & 8.16 & 0 & 2.71 & 0.41 & 5.04 & 0 & 36 & 10 & 221 &  773 & 1863\\\\\n",
       "\t6 & 1503960366 & 4/17/2016 &  9705 & 6.48 & 6.48 & 0 & 3.19 & 0.78 & 2.51 & 0 & 38 & 20 & 164 &  539 & 1728\\\\\n",
       "\\end{tabular}\n"
      ],
      "text/markdown": [
       "\n",
       "A data.frame: 6 × 15\n",
       "\n",
       "| <!--/--> | Id &lt;dbl&gt; | ActivityDate &lt;chr&gt; | TotalSteps &lt;int&gt; | TotalDistance &lt;dbl&gt; | TrackerDistance &lt;dbl&gt; | LoggedActivitiesDistance &lt;dbl&gt; | VeryActiveDistance &lt;dbl&gt; | ModeratelyActiveDistance &lt;dbl&gt; | LightActiveDistance &lt;dbl&gt; | SedentaryActiveDistance &lt;dbl&gt; | VeryActiveMinutes &lt;int&gt; | FairlyActiveMinutes &lt;int&gt; | LightlyActiveMinutes &lt;int&gt; | SedentaryMinutes &lt;int&gt; | Calories &lt;int&gt; |\n",
       "|---|---|---|---|---|---|---|---|---|---|---|---|---|---|---|---|\n",
       "| 1 | 1503960366 | 4/12/2016 | 13162 | 8.50 | 8.50 | 0 | 1.88 | 0.55 | 6.06 | 0 | 25 | 13 | 328 |  728 | 1985 |\n",
       "| 2 | 1503960366 | 4/13/2016 | 10735 | 6.97 | 6.97 | 0 | 1.57 | 0.69 | 4.71 | 0 | 21 | 19 | 217 |  776 | 1797 |\n",
       "| 3 | 1503960366 | 4/14/2016 | 10460 | 6.74 | 6.74 | 0 | 2.44 | 0.40 | 3.91 | 0 | 30 | 11 | 181 | 1218 | 1776 |\n",
       "| 4 | 1503960366 | 4/15/2016 |  9762 | 6.28 | 6.28 | 0 | 2.14 | 1.26 | 2.83 | 0 | 29 | 34 | 209 |  726 | 1745 |\n",
       "| 5 | 1503960366 | 4/16/2016 | 12669 | 8.16 | 8.16 | 0 | 2.71 | 0.41 | 5.04 | 0 | 36 | 10 | 221 |  773 | 1863 |\n",
       "| 6 | 1503960366 | 4/17/2016 |  9705 | 6.48 | 6.48 | 0 | 3.19 | 0.78 | 2.51 | 0 | 38 | 20 | 164 |  539 | 1728 |\n",
       "\n"
      ],
      "text/plain": [
       "  Id         ActivityDate TotalSteps TotalDistance TrackerDistance\n",
       "1 1503960366 4/12/2016    13162      8.50          8.50           \n",
       "2 1503960366 4/13/2016    10735      6.97          6.97           \n",
       "3 1503960366 4/14/2016    10460      6.74          6.74           \n",
       "4 1503960366 4/15/2016     9762      6.28          6.28           \n",
       "5 1503960366 4/16/2016    12669      8.16          8.16           \n",
       "6 1503960366 4/17/2016     9705      6.48          6.48           \n",
       "  LoggedActivitiesDistance VeryActiveDistance ModeratelyActiveDistance\n",
       "1 0                        1.88               0.55                    \n",
       "2 0                        1.57               0.69                    \n",
       "3 0                        2.44               0.40                    \n",
       "4 0                        2.14               1.26                    \n",
       "5 0                        2.71               0.41                    \n",
       "6 0                        3.19               0.78                    \n",
       "  LightActiveDistance SedentaryActiveDistance VeryActiveMinutes\n",
       "1 6.06                0                       25               \n",
       "2 4.71                0                       21               \n",
       "3 3.91                0                       30               \n",
       "4 2.83                0                       29               \n",
       "5 5.04                0                       36               \n",
       "6 2.51                0                       38               \n",
       "  FairlyActiveMinutes LightlyActiveMinutes SedentaryMinutes Calories\n",
       "1 13                  328                   728             1985    \n",
       "2 19                  217                   776             1797    \n",
       "3 11                  181                  1218             1776    \n",
       "4 34                  209                   726             1745    \n",
       "5 10                  221                   773             1863    \n",
       "6 20                  164                   539             1728    "
      ]
     },
     "metadata": {},
     "output_type": "display_data"
    },
    {
     "name": "stdout",
     "output_type": "stream",
     "text": [
      "[1] \"Hourly Calories\"\n"
     ]
    },
    {
     "data": {
      "text/html": [
       "<table class=\"dataframe\">\n",
       "<caption>A data.frame: 6 × 3</caption>\n",
       "<thead>\n",
       "\t<tr><th></th><th scope=col>Id</th><th scope=col>ActivityHour</th><th scope=col>Calories</th></tr>\n",
       "\t<tr><th></th><th scope=col>&lt;dbl&gt;</th><th scope=col>&lt;chr&gt;</th><th scope=col>&lt;int&gt;</th></tr>\n",
       "</thead>\n",
       "<tbody>\n",
       "\t<tr><th scope=row>1</th><td>1503960366</td><td>4/12/2016 12:00:00 AM</td><td>81</td></tr>\n",
       "\t<tr><th scope=row>2</th><td>1503960366</td><td>4/12/2016 1:00:00 AM </td><td>61</td></tr>\n",
       "\t<tr><th scope=row>3</th><td>1503960366</td><td>4/12/2016 2:00:00 AM </td><td>59</td></tr>\n",
       "\t<tr><th scope=row>4</th><td>1503960366</td><td>4/12/2016 3:00:00 AM </td><td>47</td></tr>\n",
       "\t<tr><th scope=row>5</th><td>1503960366</td><td>4/12/2016 4:00:00 AM </td><td>48</td></tr>\n",
       "\t<tr><th scope=row>6</th><td>1503960366</td><td>4/12/2016 5:00:00 AM </td><td>48</td></tr>\n",
       "</tbody>\n",
       "</table>\n"
      ],
      "text/latex": [
       "A data.frame: 6 × 3\n",
       "\\begin{tabular}{r|lll}\n",
       "  & Id & ActivityHour & Calories\\\\\n",
       "  & <dbl> & <chr> & <int>\\\\\n",
       "\\hline\n",
       "\t1 & 1503960366 & 4/12/2016 12:00:00 AM & 81\\\\\n",
       "\t2 & 1503960366 & 4/12/2016 1:00:00 AM  & 61\\\\\n",
       "\t3 & 1503960366 & 4/12/2016 2:00:00 AM  & 59\\\\\n",
       "\t4 & 1503960366 & 4/12/2016 3:00:00 AM  & 47\\\\\n",
       "\t5 & 1503960366 & 4/12/2016 4:00:00 AM  & 48\\\\\n",
       "\t6 & 1503960366 & 4/12/2016 5:00:00 AM  & 48\\\\\n",
       "\\end{tabular}\n"
      ],
      "text/markdown": [
       "\n",
       "A data.frame: 6 × 3\n",
       "\n",
       "| <!--/--> | Id &lt;dbl&gt; | ActivityHour &lt;chr&gt; | Calories &lt;int&gt; |\n",
       "|---|---|---|---|\n",
       "| 1 | 1503960366 | 4/12/2016 12:00:00 AM | 81 |\n",
       "| 2 | 1503960366 | 4/12/2016 1:00:00 AM  | 61 |\n",
       "| 3 | 1503960366 | 4/12/2016 2:00:00 AM  | 59 |\n",
       "| 4 | 1503960366 | 4/12/2016 3:00:00 AM  | 47 |\n",
       "| 5 | 1503960366 | 4/12/2016 4:00:00 AM  | 48 |\n",
       "| 6 | 1503960366 | 4/12/2016 5:00:00 AM  | 48 |\n",
       "\n"
      ],
      "text/plain": [
       "  Id         ActivityHour          Calories\n",
       "1 1503960366 4/12/2016 12:00:00 AM 81      \n",
       "2 1503960366 4/12/2016 1:00:00 AM  61      \n",
       "3 1503960366 4/12/2016 2:00:00 AM  59      \n",
       "4 1503960366 4/12/2016 3:00:00 AM  47      \n",
       "5 1503960366 4/12/2016 4:00:00 AM  48      \n",
       "6 1503960366 4/12/2016 5:00:00 AM  48      "
      ]
     },
     "metadata": {},
     "output_type": "display_data"
    },
    {
     "name": "stdout",
     "output_type": "stream",
     "text": [
      "[1] \"Hourly Intensities\"\n"
     ]
    },
    {
     "data": {
      "text/html": [
       "<table class=\"dataframe\">\n",
       "<caption>A data.frame: 6 × 4</caption>\n",
       "<thead>\n",
       "\t<tr><th></th><th scope=col>Id</th><th scope=col>ActivityHour</th><th scope=col>TotalIntensity</th><th scope=col>AverageIntensity</th></tr>\n",
       "\t<tr><th></th><th scope=col>&lt;dbl&gt;</th><th scope=col>&lt;chr&gt;</th><th scope=col>&lt;int&gt;</th><th scope=col>&lt;dbl&gt;</th></tr>\n",
       "</thead>\n",
       "<tbody>\n",
       "\t<tr><th scope=row>1</th><td>1503960366</td><td>4/12/2016 12:00:00 AM</td><td>20</td><td>0.333333</td></tr>\n",
       "\t<tr><th scope=row>2</th><td>1503960366</td><td>4/12/2016 1:00:00 AM </td><td> 8</td><td>0.133333</td></tr>\n",
       "\t<tr><th scope=row>3</th><td>1503960366</td><td>4/12/2016 2:00:00 AM </td><td> 7</td><td>0.116667</td></tr>\n",
       "\t<tr><th scope=row>4</th><td>1503960366</td><td>4/12/2016 3:00:00 AM </td><td> 0</td><td>0.000000</td></tr>\n",
       "\t<tr><th scope=row>5</th><td>1503960366</td><td>4/12/2016 4:00:00 AM </td><td> 0</td><td>0.000000</td></tr>\n",
       "\t<tr><th scope=row>6</th><td>1503960366</td><td>4/12/2016 5:00:00 AM </td><td> 0</td><td>0.000000</td></tr>\n",
       "</tbody>\n",
       "</table>\n"
      ],
      "text/latex": [
       "A data.frame: 6 × 4\n",
       "\\begin{tabular}{r|llll}\n",
       "  & Id & ActivityHour & TotalIntensity & AverageIntensity\\\\\n",
       "  & <dbl> & <chr> & <int> & <dbl>\\\\\n",
       "\\hline\n",
       "\t1 & 1503960366 & 4/12/2016 12:00:00 AM & 20 & 0.333333\\\\\n",
       "\t2 & 1503960366 & 4/12/2016 1:00:00 AM  &  8 & 0.133333\\\\\n",
       "\t3 & 1503960366 & 4/12/2016 2:00:00 AM  &  7 & 0.116667\\\\\n",
       "\t4 & 1503960366 & 4/12/2016 3:00:00 AM  &  0 & 0.000000\\\\\n",
       "\t5 & 1503960366 & 4/12/2016 4:00:00 AM  &  0 & 0.000000\\\\\n",
       "\t6 & 1503960366 & 4/12/2016 5:00:00 AM  &  0 & 0.000000\\\\\n",
       "\\end{tabular}\n"
      ],
      "text/markdown": [
       "\n",
       "A data.frame: 6 × 4\n",
       "\n",
       "| <!--/--> | Id &lt;dbl&gt; | ActivityHour &lt;chr&gt; | TotalIntensity &lt;int&gt; | AverageIntensity &lt;dbl&gt; |\n",
       "|---|---|---|---|---|\n",
       "| 1 | 1503960366 | 4/12/2016 12:00:00 AM | 20 | 0.333333 |\n",
       "| 2 | 1503960366 | 4/12/2016 1:00:00 AM  |  8 | 0.133333 |\n",
       "| 3 | 1503960366 | 4/12/2016 2:00:00 AM  |  7 | 0.116667 |\n",
       "| 4 | 1503960366 | 4/12/2016 3:00:00 AM  |  0 | 0.000000 |\n",
       "| 5 | 1503960366 | 4/12/2016 4:00:00 AM  |  0 | 0.000000 |\n",
       "| 6 | 1503960366 | 4/12/2016 5:00:00 AM  |  0 | 0.000000 |\n",
       "\n"
      ],
      "text/plain": [
       "  Id         ActivityHour          TotalIntensity AverageIntensity\n",
       "1 1503960366 4/12/2016 12:00:00 AM 20             0.333333        \n",
       "2 1503960366 4/12/2016 1:00:00 AM   8             0.133333        \n",
       "3 1503960366 4/12/2016 2:00:00 AM   7             0.116667        \n",
       "4 1503960366 4/12/2016 3:00:00 AM   0             0.000000        \n",
       "5 1503960366 4/12/2016 4:00:00 AM   0             0.000000        \n",
       "6 1503960366 4/12/2016 5:00:00 AM   0             0.000000        "
      ]
     },
     "metadata": {},
     "output_type": "display_data"
    },
    {
     "name": "stdout",
     "output_type": "stream",
     "text": [
      "[1] \"Sleep Day\"\n"
     ]
    },
    {
     "data": {
      "text/html": [
       "<table class=\"dataframe\">\n",
       "<caption>A data.frame: 6 × 5</caption>\n",
       "<thead>\n",
       "\t<tr><th></th><th scope=col>Id</th><th scope=col>SleepDay</th><th scope=col>TotalSleepRecords</th><th scope=col>TotalMinutesAsleep</th><th scope=col>TotalTimeInBed</th></tr>\n",
       "\t<tr><th></th><th scope=col>&lt;dbl&gt;</th><th scope=col>&lt;chr&gt;</th><th scope=col>&lt;int&gt;</th><th scope=col>&lt;int&gt;</th><th scope=col>&lt;int&gt;</th></tr>\n",
       "</thead>\n",
       "<tbody>\n",
       "\t<tr><th scope=row>1</th><td>1503960366</td><td>4/12/2016 12:00:00 AM</td><td>1</td><td>327</td><td>346</td></tr>\n",
       "\t<tr><th scope=row>2</th><td>1503960366</td><td>4/13/2016 12:00:00 AM</td><td>2</td><td>384</td><td>407</td></tr>\n",
       "\t<tr><th scope=row>3</th><td>1503960366</td><td>4/15/2016 12:00:00 AM</td><td>1</td><td>412</td><td>442</td></tr>\n",
       "\t<tr><th scope=row>4</th><td>1503960366</td><td>4/16/2016 12:00:00 AM</td><td>2</td><td>340</td><td>367</td></tr>\n",
       "\t<tr><th scope=row>5</th><td>1503960366</td><td>4/17/2016 12:00:00 AM</td><td>1</td><td>700</td><td>712</td></tr>\n",
       "\t<tr><th scope=row>6</th><td>1503960366</td><td>4/19/2016 12:00:00 AM</td><td>1</td><td>304</td><td>320</td></tr>\n",
       "</tbody>\n",
       "</table>\n"
      ],
      "text/latex": [
       "A data.frame: 6 × 5\n",
       "\\begin{tabular}{r|lllll}\n",
       "  & Id & SleepDay & TotalSleepRecords & TotalMinutesAsleep & TotalTimeInBed\\\\\n",
       "  & <dbl> & <chr> & <int> & <int> & <int>\\\\\n",
       "\\hline\n",
       "\t1 & 1503960366 & 4/12/2016 12:00:00 AM & 1 & 327 & 346\\\\\n",
       "\t2 & 1503960366 & 4/13/2016 12:00:00 AM & 2 & 384 & 407\\\\\n",
       "\t3 & 1503960366 & 4/15/2016 12:00:00 AM & 1 & 412 & 442\\\\\n",
       "\t4 & 1503960366 & 4/16/2016 12:00:00 AM & 2 & 340 & 367\\\\\n",
       "\t5 & 1503960366 & 4/17/2016 12:00:00 AM & 1 & 700 & 712\\\\\n",
       "\t6 & 1503960366 & 4/19/2016 12:00:00 AM & 1 & 304 & 320\\\\\n",
       "\\end{tabular}\n"
      ],
      "text/markdown": [
       "\n",
       "A data.frame: 6 × 5\n",
       "\n",
       "| <!--/--> | Id &lt;dbl&gt; | SleepDay &lt;chr&gt; | TotalSleepRecords &lt;int&gt; | TotalMinutesAsleep &lt;int&gt; | TotalTimeInBed &lt;int&gt; |\n",
       "|---|---|---|---|---|---|\n",
       "| 1 | 1503960366 | 4/12/2016 12:00:00 AM | 1 | 327 | 346 |\n",
       "| 2 | 1503960366 | 4/13/2016 12:00:00 AM | 2 | 384 | 407 |\n",
       "| 3 | 1503960366 | 4/15/2016 12:00:00 AM | 1 | 412 | 442 |\n",
       "| 4 | 1503960366 | 4/16/2016 12:00:00 AM | 2 | 340 | 367 |\n",
       "| 5 | 1503960366 | 4/17/2016 12:00:00 AM | 1 | 700 | 712 |\n",
       "| 6 | 1503960366 | 4/19/2016 12:00:00 AM | 1 | 304 | 320 |\n",
       "\n"
      ],
      "text/plain": [
       "  Id         SleepDay              TotalSleepRecords TotalMinutesAsleep\n",
       "1 1503960366 4/12/2016 12:00:00 AM 1                 327               \n",
       "2 1503960366 4/13/2016 12:00:00 AM 2                 384               \n",
       "3 1503960366 4/15/2016 12:00:00 AM 1                 412               \n",
       "4 1503960366 4/16/2016 12:00:00 AM 2                 340               \n",
       "5 1503960366 4/17/2016 12:00:00 AM 1                 700               \n",
       "6 1503960366 4/19/2016 12:00:00 AM 1                 304               \n",
       "  TotalTimeInBed\n",
       "1 346           \n",
       "2 407           \n",
       "3 442           \n",
       "4 367           \n",
       "5 712           \n",
       "6 320           "
      ]
     },
     "metadata": {},
     "output_type": "display_data"
    },
    {
     "name": "stdout",
     "output_type": "stream",
     "text": [
      "[1] \"Weight Log\"\n"
     ]
    },
    {
     "data": {
      "text/html": [
       "<table class=\"dataframe\">\n",
       "<caption>A data.frame: 6 × 8</caption>\n",
       "<thead>\n",
       "\t<tr><th></th><th scope=col>Id</th><th scope=col>Date</th><th scope=col>WeightKg</th><th scope=col>WeightPounds</th><th scope=col>Fat</th><th scope=col>BMI</th><th scope=col>IsManualReport</th><th scope=col>LogId</th></tr>\n",
       "\t<tr><th></th><th scope=col>&lt;dbl&gt;</th><th scope=col>&lt;chr&gt;</th><th scope=col>&lt;dbl&gt;</th><th scope=col>&lt;dbl&gt;</th><th scope=col>&lt;int&gt;</th><th scope=col>&lt;dbl&gt;</th><th scope=col>&lt;chr&gt;</th><th scope=col>&lt;dbl&gt;</th></tr>\n",
       "</thead>\n",
       "<tbody>\n",
       "\t<tr><th scope=row>1</th><td>1503960366</td><td>5/2/2016 11:59:59 PM </td><td> 52.6</td><td>115.9631</td><td>22</td><td>22.65</td><td>True </td><td>1.462234e+12</td></tr>\n",
       "\t<tr><th scope=row>2</th><td>1503960366</td><td>5/3/2016 11:59:59 PM </td><td> 52.6</td><td>115.9631</td><td>NA</td><td>22.65</td><td>True </td><td>1.462320e+12</td></tr>\n",
       "\t<tr><th scope=row>3</th><td>1927972279</td><td>4/13/2016 1:08:52 AM </td><td>133.5</td><td>294.3171</td><td>NA</td><td>47.54</td><td>False</td><td>1.460510e+12</td></tr>\n",
       "\t<tr><th scope=row>4</th><td>2873212765</td><td>4/21/2016 11:59:59 PM</td><td> 56.7</td><td>125.0021</td><td>NA</td><td>21.45</td><td>True </td><td>1.461283e+12</td></tr>\n",
       "\t<tr><th scope=row>5</th><td>2873212765</td><td>5/12/2016 11:59:59 PM</td><td> 57.3</td><td>126.3249</td><td>NA</td><td>21.69</td><td>True </td><td>1.463098e+12</td></tr>\n",
       "\t<tr><th scope=row>6</th><td>4319703577</td><td>4/17/2016 11:59:59 PM</td><td> 72.4</td><td>159.6147</td><td>25</td><td>27.45</td><td>True </td><td>1.460938e+12</td></tr>\n",
       "</tbody>\n",
       "</table>\n"
      ],
      "text/latex": [
       "A data.frame: 6 × 8\n",
       "\\begin{tabular}{r|llllllll}\n",
       "  & Id & Date & WeightKg & WeightPounds & Fat & BMI & IsManualReport & LogId\\\\\n",
       "  & <dbl> & <chr> & <dbl> & <dbl> & <int> & <dbl> & <chr> & <dbl>\\\\\n",
       "\\hline\n",
       "\t1 & 1503960366 & 5/2/2016 11:59:59 PM  &  52.6 & 115.9631 & 22 & 22.65 & True  & 1.462234e+12\\\\\n",
       "\t2 & 1503960366 & 5/3/2016 11:59:59 PM  &  52.6 & 115.9631 & NA & 22.65 & True  & 1.462320e+12\\\\\n",
       "\t3 & 1927972279 & 4/13/2016 1:08:52 AM  & 133.5 & 294.3171 & NA & 47.54 & False & 1.460510e+12\\\\\n",
       "\t4 & 2873212765 & 4/21/2016 11:59:59 PM &  56.7 & 125.0021 & NA & 21.45 & True  & 1.461283e+12\\\\\n",
       "\t5 & 2873212765 & 5/12/2016 11:59:59 PM &  57.3 & 126.3249 & NA & 21.69 & True  & 1.463098e+12\\\\\n",
       "\t6 & 4319703577 & 4/17/2016 11:59:59 PM &  72.4 & 159.6147 & 25 & 27.45 & True  & 1.460938e+12\\\\\n",
       "\\end{tabular}\n"
      ],
      "text/markdown": [
       "\n",
       "A data.frame: 6 × 8\n",
       "\n",
       "| <!--/--> | Id &lt;dbl&gt; | Date &lt;chr&gt; | WeightKg &lt;dbl&gt; | WeightPounds &lt;dbl&gt; | Fat &lt;int&gt; | BMI &lt;dbl&gt; | IsManualReport &lt;chr&gt; | LogId &lt;dbl&gt; |\n",
       "|---|---|---|---|---|---|---|---|---|\n",
       "| 1 | 1503960366 | 5/2/2016 11:59:59 PM  |  52.6 | 115.9631 | 22 | 22.65 | True  | 1.462234e+12 |\n",
       "| 2 | 1503960366 | 5/3/2016 11:59:59 PM  |  52.6 | 115.9631 | NA | 22.65 | True  | 1.462320e+12 |\n",
       "| 3 | 1927972279 | 4/13/2016 1:08:52 AM  | 133.5 | 294.3171 | NA | 47.54 | False | 1.460510e+12 |\n",
       "| 4 | 2873212765 | 4/21/2016 11:59:59 PM |  56.7 | 125.0021 | NA | 21.45 | True  | 1.461283e+12 |\n",
       "| 5 | 2873212765 | 5/12/2016 11:59:59 PM |  57.3 | 126.3249 | NA | 21.69 | True  | 1.463098e+12 |\n",
       "| 6 | 4319703577 | 4/17/2016 11:59:59 PM |  72.4 | 159.6147 | 25 | 27.45 | True  | 1.460938e+12 |\n",
       "\n"
      ],
      "text/plain": [
       "  Id         Date                  WeightKg WeightPounds Fat BMI  \n",
       "1 1503960366 5/2/2016 11:59:59 PM   52.6    115.9631     22  22.65\n",
       "2 1503960366 5/3/2016 11:59:59 PM   52.6    115.9631     NA  22.65\n",
       "3 1927972279 4/13/2016 1:08:52 AM  133.5    294.3171     NA  47.54\n",
       "4 2873212765 4/21/2016 11:59:59 PM  56.7    125.0021     NA  21.45\n",
       "5 2873212765 5/12/2016 11:59:59 PM  57.3    126.3249     NA  21.69\n",
       "6 4319703577 4/17/2016 11:59:59 PM  72.4    159.6147     25  27.45\n",
       "  IsManualReport LogId       \n",
       "1 True           1.462234e+12\n",
       "2 True           1.462320e+12\n",
       "3 False          1.460510e+12\n",
       "4 True           1.461283e+12\n",
       "5 True           1.463098e+12\n",
       "6 True           1.460938e+12"
      ]
     },
     "metadata": {},
     "output_type": "display_data"
    },
    {
     "name": "stdout",
     "output_type": "stream",
     "text": [
      "[1] \"Heart Rate\"\n"
     ]
    },
    {
     "data": {
      "text/html": [
       "<table class=\"dataframe\">\n",
       "<caption>A data.frame: 6 × 3</caption>\n",
       "<thead>\n",
       "\t<tr><th></th><th scope=col>Id</th><th scope=col>Time</th><th scope=col>Value</th></tr>\n",
       "\t<tr><th></th><th scope=col>&lt;dbl&gt;</th><th scope=col>&lt;chr&gt;</th><th scope=col>&lt;int&gt;</th></tr>\n",
       "</thead>\n",
       "<tbody>\n",
       "\t<tr><th scope=row>1</th><td>2022484408</td><td>4/12/2016 7:21:00 AM</td><td> 97</td></tr>\n",
       "\t<tr><th scope=row>2</th><td>2022484408</td><td>4/12/2016 7:21:05 AM</td><td>102</td></tr>\n",
       "\t<tr><th scope=row>3</th><td>2022484408</td><td>4/12/2016 7:21:10 AM</td><td>105</td></tr>\n",
       "\t<tr><th scope=row>4</th><td>2022484408</td><td>4/12/2016 7:21:20 AM</td><td>103</td></tr>\n",
       "\t<tr><th scope=row>5</th><td>2022484408</td><td>4/12/2016 7:21:25 AM</td><td>101</td></tr>\n",
       "\t<tr><th scope=row>6</th><td>2022484408</td><td>4/12/2016 7:22:05 AM</td><td> 95</td></tr>\n",
       "</tbody>\n",
       "</table>\n"
      ],
      "text/latex": [
       "A data.frame: 6 × 3\n",
       "\\begin{tabular}{r|lll}\n",
       "  & Id & Time & Value\\\\\n",
       "  & <dbl> & <chr> & <int>\\\\\n",
       "\\hline\n",
       "\t1 & 2022484408 & 4/12/2016 7:21:00 AM &  97\\\\\n",
       "\t2 & 2022484408 & 4/12/2016 7:21:05 AM & 102\\\\\n",
       "\t3 & 2022484408 & 4/12/2016 7:21:10 AM & 105\\\\\n",
       "\t4 & 2022484408 & 4/12/2016 7:21:20 AM & 103\\\\\n",
       "\t5 & 2022484408 & 4/12/2016 7:21:25 AM & 101\\\\\n",
       "\t6 & 2022484408 & 4/12/2016 7:22:05 AM &  95\\\\\n",
       "\\end{tabular}\n"
      ],
      "text/markdown": [
       "\n",
       "A data.frame: 6 × 3\n",
       "\n",
       "| <!--/--> | Id &lt;dbl&gt; | Time &lt;chr&gt; | Value &lt;int&gt; |\n",
       "|---|---|---|---|\n",
       "| 1 | 2022484408 | 4/12/2016 7:21:00 AM |  97 |\n",
       "| 2 | 2022484408 | 4/12/2016 7:21:05 AM | 102 |\n",
       "| 3 | 2022484408 | 4/12/2016 7:21:10 AM | 105 |\n",
       "| 4 | 2022484408 | 4/12/2016 7:21:20 AM | 103 |\n",
       "| 5 | 2022484408 | 4/12/2016 7:21:25 AM | 101 |\n",
       "| 6 | 2022484408 | 4/12/2016 7:22:05 AM |  95 |\n",
       "\n"
      ],
      "text/plain": [
       "  Id         Time                 Value\n",
       "1 2022484408 4/12/2016 7:21:00 AM  97  \n",
       "2 2022484408 4/12/2016 7:21:05 AM 102  \n",
       "3 2022484408 4/12/2016 7:21:10 AM 105  \n",
       "4 2022484408 4/12/2016 7:21:20 AM 103  \n",
       "5 2022484408 4/12/2016 7:21:25 AM 101  \n",
       "6 2022484408 4/12/2016 7:22:05 AM  95  "
      ]
     },
     "metadata": {},
     "output_type": "display_data"
    }
   ],
   "source": [
    "print(\"Daily Activity\")\n",
    "head(daily_activity)\n",
    "\n",
    "print(\"Hourly Calories\")\n",
    "head(hourly_calories)\n",
    "\n",
    "print(\"Hourly Intensities\")\n",
    "head(hourly_intensities)\n",
    "\n",
    "print(\"Sleep Day\")\n",
    "head(sleep_day)\n",
    "\n",
    "print(\"Weight Log\")\n",
    "head(weight_log)\n",
    "\n",
    "print(\"Heart Rate\")\n",
    "head(heart_rate)"
   ]
  },
  {
   "cell_type": "code",
   "execution_count": 4,
   "id": "96261149",
   "metadata": {
    "execution": {
     "iopub.execute_input": "2022-07-15T08:45:43.696979Z",
     "iopub.status.busy": "2022-07-15T08:45:43.694815Z",
     "iopub.status.idle": "2022-07-15T08:45:43.907754Z",
     "shell.execute_reply": "2022-07-15T08:45:43.906331Z"
    },
    "papermill": {
     "duration": 0.388123,
     "end_time": "2022-07-15T08:45:43.907987",
     "exception": false,
     "start_time": "2022-07-15T08:45:43.519864",
     "status": "completed"
    },
    "tags": []
   },
   "outputs": [],
   "source": [
    "# Mutate ActivtyHour data type to date / time and create new time, date, and month columns in df\n",
    "hourly_intensities$ActivityHour=as.POSIXct(hourly_intensities$ActivityHour, format=\"%m/%d/%Y %I:%M:%S %p\", tz=Sys.timezone())\n",
    "hourly_intensities$time <- format(hourly_intensities$ActivityHour, format = \"%H:%M:%S\")\n",
    "hourly_intensities$date <- format(hourly_intensities$ActivityHour, format = \"%m/%d/%y\")\n",
    "hourly_intensities$month <- format(hourly_intensities$ActivityHour, format = \"%B\")"
   ]
  },
  {
   "cell_type": "code",
   "execution_count": 5,
   "id": "68684db7",
   "metadata": {
    "execution": {
     "iopub.execute_input": "2022-07-15T08:45:44.255049Z",
     "iopub.status.busy": "2022-07-15T08:45:44.253643Z",
     "iopub.status.idle": "2022-07-15T08:45:44.331498Z",
     "shell.execute_reply": "2022-07-15T08:45:44.330281Z"
    },
    "papermill": {
     "duration": 0.251986,
     "end_time": "2022-07-15T08:45:44.331664",
     "exception": false,
     "start_time": "2022-07-15T08:45:44.079678",
     "status": "completed"
    },
    "tags": []
   },
   "outputs": [],
   "source": [
    "# Mutate ActivtyHour data type to date / time and create new time, date, and month columns in df\n",
    "hourly_calories$ActivityHour=as.POSIXct(hourly_calories$ActivityHour, format=\"%m/%d/%Y %I:%M:%S %p\", tz=Sys.timezone())\n",
    "hourly_calories$time <- format(hourly_calories$ActivityHour, format = \"%H:%M:%S\")\n",
    "hourly_calories$date <- format(hourly_calories$ActivityHour, format = \"%m/%d/%y\")\n",
    "hourly_calories$month <- format(hourly_calories$ActivityHour, format = \"%B\")"
   ]
  },
  {
   "cell_type": "code",
   "execution_count": 6,
   "id": "93c5683a",
   "metadata": {
    "execution": {
     "iopub.execute_input": "2022-07-15T08:45:44.673805Z",
     "iopub.status.busy": "2022-07-15T08:45:44.672130Z",
     "iopub.status.idle": "2022-07-15T08:45:44.696838Z",
     "shell.execute_reply": "2022-07-15T08:45:44.695447Z"
    },
    "papermill": {
     "duration": 0.197346,
     "end_time": "2022-07-15T08:45:44.696994",
     "exception": false,
     "start_time": "2022-07-15T08:45:44.499648",
     "status": "completed"
    },
    "tags": []
   },
   "outputs": [],
   "source": [
    "# Mutate ActivtyHour data type to date / time and create new time, date, month, and weekday columns in df\n",
    "daily_activity$ActivityDate=as.POSIXct(daily_activity$ActivityDate, format=\"%m/%d/%Y\", tz=Sys.timezone())\n",
    "daily_activity$date <- format(daily_activity$ActivityDate, format = \"%m/%d/%y\")\n",
    "daily_activity$month <- format(daily_activity$ActivityDate, format = \"%B\")\n",
    "daily_activity$day <- format(daily_activity$ActivityDate, format = \"%d\")\n",
    "daily_activity$weekday <- format(daily_activity$ActivityDate, format = \"%A\")"
   ]
  },
  {
   "cell_type": "code",
   "execution_count": 7,
   "id": "cfa1fa03",
   "metadata": {
    "execution": {
     "iopub.execute_input": "2022-07-15T08:45:45.050085Z",
     "iopub.status.busy": "2022-07-15T08:45:45.048717Z",
     "iopub.status.idle": "2022-07-15T08:45:45.067110Z",
     "shell.execute_reply": "2022-07-15T08:45:45.065871Z"
    },
    "papermill": {
     "duration": 0.199892,
     "end_time": "2022-07-15T08:45:45.067262",
     "exception": false,
     "start_time": "2022-07-15T08:45:44.867370",
     "status": "completed"
    },
    "tags": []
   },
   "outputs": [],
   "source": [
    "# Mutate SleepDay data type to date / time and create new date and month columns in df\n",
    "sleep_day$SleepDay=as.POSIXct(sleep_day$SleepDay, format=\"%m/%d/%Y %I:%M:%S %p\", tz=Sys.timezone())\n",
    "sleep_day$date <- format(sleep_day$SleepDay, format = \"%m/%d/%y\")\n",
    "sleep_day$month <- format(sleep_day$SleepDay, format = \"%B\")"
   ]
  },
  {
   "cell_type": "code",
   "execution_count": 8,
   "id": "38683fa4",
   "metadata": {
    "execution": {
     "iopub.execute_input": "2022-07-15T08:45:45.424058Z",
     "iopub.status.busy": "2022-07-15T08:45:45.421973Z",
     "iopub.status.idle": "2022-07-15T08:45:45.445175Z",
     "shell.execute_reply": "2022-07-15T08:45:45.443422Z"
    },
    "papermill": {
     "duration": 0.20605,
     "end_time": "2022-07-15T08:45:45.445372",
     "exception": false,
     "start_time": "2022-07-15T08:45:45.239322",
     "status": "completed"
    },
    "tags": []
   },
   "outputs": [],
   "source": [
    "# Mutate Date data type to date / time and create new time, date, and month columns in df\n",
    "weight_log$Date=as.POSIXct(weight_log$Date, format=\"%m/%d/%Y %I:%M:%S %p\", tz=Sys.timezone())\n",
    "weight_log$date <- format(weight_log$Date, format = \"%m/%d/%y\")\n",
    "weight_log$time <- format(weight_log$Date, format = \"%H:%M:%S\")\n",
    "weight_log$month <- format(weight_log$Date, format = \"%B\")"
   ]
  },
  {
   "cell_type": "code",
   "execution_count": 9,
   "id": "e6b74e8d",
   "metadata": {
    "execution": {
     "iopub.execute_input": "2022-07-15T08:45:45.803431Z",
     "iopub.status.busy": "2022-07-15T08:45:45.801638Z",
     "iopub.status.idle": "2022-07-15T08:45:53.479361Z",
     "shell.execute_reply": "2022-07-15T08:45:53.477982Z"
    },
    "papermill": {
     "duration": 7.855501,
     "end_time": "2022-07-15T08:45:53.479556",
     "exception": false,
     "start_time": "2022-07-15T08:45:45.624055",
     "status": "completed"
    },
    "tags": []
   },
   "outputs": [],
   "source": [
    "# Mutate Time data type to date / time and create new time, date, and month columns in df\n",
    "heart_rate$Time=as.POSIXct(heart_rate$Time, format=\"%m/%d/%Y %I:%M:%S %p\", tz=Sys.timezone())\n",
    "heart_rate$date <- format(heart_rate$Time, format = \"%m/%d/%y\")\n",
    "heart_rate$time <- format(heart_rate$Time, format = \"%H\")\n",
    "heart_rate$month <- format(heart_rate$Time, format = \"%B\")"
   ]
  },
  {
   "cell_type": "code",
   "execution_count": 10,
   "id": "ab693cc2",
   "metadata": {
    "execution": {
     "iopub.execute_input": "2022-07-15T08:45:53.819122Z",
     "iopub.status.busy": "2022-07-15T08:45:53.817788Z",
     "iopub.status.idle": "2022-07-15T08:45:53.943599Z",
     "shell.execute_reply": "2022-07-15T08:45:53.942201Z"
    },
    "papermill": {
     "duration": 0.296679,
     "end_time": "2022-07-15T08:45:53.943730",
     "exception": false,
     "start_time": "2022-07-15T08:45:53.647051",
     "status": "completed"
    },
    "tags": []
   },
   "outputs": [
    {
     "name": "stdout",
     "output_type": "stream",
     "text": [
      "[1] \"Daily Activity\"\n"
     ]
    },
    {
     "data": {
      "text/html": [
       "<table class=\"dataframe\">\n",
       "<caption>A data.frame: 6 × 19</caption>\n",
       "<thead>\n",
       "\t<tr><th></th><th scope=col>Id</th><th scope=col>ActivityDate</th><th scope=col>TotalSteps</th><th scope=col>TotalDistance</th><th scope=col>TrackerDistance</th><th scope=col>LoggedActivitiesDistance</th><th scope=col>VeryActiveDistance</th><th scope=col>ModeratelyActiveDistance</th><th scope=col>LightActiveDistance</th><th scope=col>SedentaryActiveDistance</th><th scope=col>VeryActiveMinutes</th><th scope=col>FairlyActiveMinutes</th><th scope=col>LightlyActiveMinutes</th><th scope=col>SedentaryMinutes</th><th scope=col>Calories</th><th scope=col>date</th><th scope=col>month</th><th scope=col>day</th><th scope=col>weekday</th></tr>\n",
       "\t<tr><th></th><th scope=col>&lt;dbl&gt;</th><th scope=col>&lt;dttm&gt;</th><th scope=col>&lt;int&gt;</th><th scope=col>&lt;dbl&gt;</th><th scope=col>&lt;dbl&gt;</th><th scope=col>&lt;dbl&gt;</th><th scope=col>&lt;dbl&gt;</th><th scope=col>&lt;dbl&gt;</th><th scope=col>&lt;dbl&gt;</th><th scope=col>&lt;dbl&gt;</th><th scope=col>&lt;int&gt;</th><th scope=col>&lt;int&gt;</th><th scope=col>&lt;int&gt;</th><th scope=col>&lt;int&gt;</th><th scope=col>&lt;int&gt;</th><th scope=col>&lt;chr&gt;</th><th scope=col>&lt;chr&gt;</th><th scope=col>&lt;chr&gt;</th><th scope=col>&lt;chr&gt;</th></tr>\n",
       "</thead>\n",
       "<tbody>\n",
       "\t<tr><th scope=row>1</th><td>1503960366</td><td>2016-04-12</td><td>13162</td><td>8.50</td><td>8.50</td><td>0</td><td>1.88</td><td>0.55</td><td>6.06</td><td>0</td><td>25</td><td>13</td><td>328</td><td> 728</td><td>1985</td><td>04/12/16</td><td>April</td><td>12</td><td>Tuesday  </td></tr>\n",
       "\t<tr><th scope=row>2</th><td>1503960366</td><td>2016-04-13</td><td>10735</td><td>6.97</td><td>6.97</td><td>0</td><td>1.57</td><td>0.69</td><td>4.71</td><td>0</td><td>21</td><td>19</td><td>217</td><td> 776</td><td>1797</td><td>04/13/16</td><td>April</td><td>13</td><td>Wednesday</td></tr>\n",
       "\t<tr><th scope=row>3</th><td>1503960366</td><td>2016-04-14</td><td>10460</td><td>6.74</td><td>6.74</td><td>0</td><td>2.44</td><td>0.40</td><td>3.91</td><td>0</td><td>30</td><td>11</td><td>181</td><td>1218</td><td>1776</td><td>04/14/16</td><td>April</td><td>14</td><td>Thursday </td></tr>\n",
       "\t<tr><th scope=row>4</th><td>1503960366</td><td>2016-04-15</td><td> 9762</td><td>6.28</td><td>6.28</td><td>0</td><td>2.14</td><td>1.26</td><td>2.83</td><td>0</td><td>29</td><td>34</td><td>209</td><td> 726</td><td>1745</td><td>04/15/16</td><td>April</td><td>15</td><td>Friday   </td></tr>\n",
       "\t<tr><th scope=row>5</th><td>1503960366</td><td>2016-04-16</td><td>12669</td><td>8.16</td><td>8.16</td><td>0</td><td>2.71</td><td>0.41</td><td>5.04</td><td>0</td><td>36</td><td>10</td><td>221</td><td> 773</td><td>1863</td><td>04/16/16</td><td>April</td><td>16</td><td>Saturday </td></tr>\n",
       "\t<tr><th scope=row>6</th><td>1503960366</td><td>2016-04-17</td><td> 9705</td><td>6.48</td><td>6.48</td><td>0</td><td>3.19</td><td>0.78</td><td>2.51</td><td>0</td><td>38</td><td>20</td><td>164</td><td> 539</td><td>1728</td><td>04/17/16</td><td>April</td><td>17</td><td>Sunday   </td></tr>\n",
       "</tbody>\n",
       "</table>\n"
      ],
      "text/latex": [
       "A data.frame: 6 × 19\n",
       "\\begin{tabular}{r|lllllllllllllllllll}\n",
       "  & Id & ActivityDate & TotalSteps & TotalDistance & TrackerDistance & LoggedActivitiesDistance & VeryActiveDistance & ModeratelyActiveDistance & LightActiveDistance & SedentaryActiveDistance & VeryActiveMinutes & FairlyActiveMinutes & LightlyActiveMinutes & SedentaryMinutes & Calories & date & month & day & weekday\\\\\n",
       "  & <dbl> & <dttm> & <int> & <dbl> & <dbl> & <dbl> & <dbl> & <dbl> & <dbl> & <dbl> & <int> & <int> & <int> & <int> & <int> & <chr> & <chr> & <chr> & <chr>\\\\\n",
       "\\hline\n",
       "\t1 & 1503960366 & 2016-04-12 & 13162 & 8.50 & 8.50 & 0 & 1.88 & 0.55 & 6.06 & 0 & 25 & 13 & 328 &  728 & 1985 & 04/12/16 & April & 12 & Tuesday  \\\\\n",
       "\t2 & 1503960366 & 2016-04-13 & 10735 & 6.97 & 6.97 & 0 & 1.57 & 0.69 & 4.71 & 0 & 21 & 19 & 217 &  776 & 1797 & 04/13/16 & April & 13 & Wednesday\\\\\n",
       "\t3 & 1503960366 & 2016-04-14 & 10460 & 6.74 & 6.74 & 0 & 2.44 & 0.40 & 3.91 & 0 & 30 & 11 & 181 & 1218 & 1776 & 04/14/16 & April & 14 & Thursday \\\\\n",
       "\t4 & 1503960366 & 2016-04-15 &  9762 & 6.28 & 6.28 & 0 & 2.14 & 1.26 & 2.83 & 0 & 29 & 34 & 209 &  726 & 1745 & 04/15/16 & April & 15 & Friday   \\\\\n",
       "\t5 & 1503960366 & 2016-04-16 & 12669 & 8.16 & 8.16 & 0 & 2.71 & 0.41 & 5.04 & 0 & 36 & 10 & 221 &  773 & 1863 & 04/16/16 & April & 16 & Saturday \\\\\n",
       "\t6 & 1503960366 & 2016-04-17 &  9705 & 6.48 & 6.48 & 0 & 3.19 & 0.78 & 2.51 & 0 & 38 & 20 & 164 &  539 & 1728 & 04/17/16 & April & 17 & Sunday   \\\\\n",
       "\\end{tabular}\n"
      ],
      "text/markdown": [
       "\n",
       "A data.frame: 6 × 19\n",
       "\n",
       "| <!--/--> | Id &lt;dbl&gt; | ActivityDate &lt;dttm&gt; | TotalSteps &lt;int&gt; | TotalDistance &lt;dbl&gt; | TrackerDistance &lt;dbl&gt; | LoggedActivitiesDistance &lt;dbl&gt; | VeryActiveDistance &lt;dbl&gt; | ModeratelyActiveDistance &lt;dbl&gt; | LightActiveDistance &lt;dbl&gt; | SedentaryActiveDistance &lt;dbl&gt; | VeryActiveMinutes &lt;int&gt; | FairlyActiveMinutes &lt;int&gt; | LightlyActiveMinutes &lt;int&gt; | SedentaryMinutes &lt;int&gt; | Calories &lt;int&gt; | date &lt;chr&gt; | month &lt;chr&gt; | day &lt;chr&gt; | weekday &lt;chr&gt; |\n",
       "|---|---|---|---|---|---|---|---|---|---|---|---|---|---|---|---|---|---|---|---|\n",
       "| 1 | 1503960366 | 2016-04-12 | 13162 | 8.50 | 8.50 | 0 | 1.88 | 0.55 | 6.06 | 0 | 25 | 13 | 328 |  728 | 1985 | 04/12/16 | April | 12 | Tuesday   |\n",
       "| 2 | 1503960366 | 2016-04-13 | 10735 | 6.97 | 6.97 | 0 | 1.57 | 0.69 | 4.71 | 0 | 21 | 19 | 217 |  776 | 1797 | 04/13/16 | April | 13 | Wednesday |\n",
       "| 3 | 1503960366 | 2016-04-14 | 10460 | 6.74 | 6.74 | 0 | 2.44 | 0.40 | 3.91 | 0 | 30 | 11 | 181 | 1218 | 1776 | 04/14/16 | April | 14 | Thursday  |\n",
       "| 4 | 1503960366 | 2016-04-15 |  9762 | 6.28 | 6.28 | 0 | 2.14 | 1.26 | 2.83 | 0 | 29 | 34 | 209 |  726 | 1745 | 04/15/16 | April | 15 | Friday    |\n",
       "| 5 | 1503960366 | 2016-04-16 | 12669 | 8.16 | 8.16 | 0 | 2.71 | 0.41 | 5.04 | 0 | 36 | 10 | 221 |  773 | 1863 | 04/16/16 | April | 16 | Saturday  |\n",
       "| 6 | 1503960366 | 2016-04-17 |  9705 | 6.48 | 6.48 | 0 | 3.19 | 0.78 | 2.51 | 0 | 38 | 20 | 164 |  539 | 1728 | 04/17/16 | April | 17 | Sunday    |\n",
       "\n"
      ],
      "text/plain": [
       "  Id         ActivityDate TotalSteps TotalDistance TrackerDistance\n",
       "1 1503960366 2016-04-12   13162      8.50          8.50           \n",
       "2 1503960366 2016-04-13   10735      6.97          6.97           \n",
       "3 1503960366 2016-04-14   10460      6.74          6.74           \n",
       "4 1503960366 2016-04-15    9762      6.28          6.28           \n",
       "5 1503960366 2016-04-16   12669      8.16          8.16           \n",
       "6 1503960366 2016-04-17    9705      6.48          6.48           \n",
       "  LoggedActivitiesDistance VeryActiveDistance ModeratelyActiveDistance\n",
       "1 0                        1.88               0.55                    \n",
       "2 0                        1.57               0.69                    \n",
       "3 0                        2.44               0.40                    \n",
       "4 0                        2.14               1.26                    \n",
       "5 0                        2.71               0.41                    \n",
       "6 0                        3.19               0.78                    \n",
       "  LightActiveDistance SedentaryActiveDistance VeryActiveMinutes\n",
       "1 6.06                0                       25               \n",
       "2 4.71                0                       21               \n",
       "3 3.91                0                       30               \n",
       "4 2.83                0                       29               \n",
       "5 5.04                0                       36               \n",
       "6 2.51                0                       38               \n",
       "  FairlyActiveMinutes LightlyActiveMinutes SedentaryMinutes Calories date    \n",
       "1 13                  328                   728             1985     04/12/16\n",
       "2 19                  217                   776             1797     04/13/16\n",
       "3 11                  181                  1218             1776     04/14/16\n",
       "4 34                  209                   726             1745     04/15/16\n",
       "5 10                  221                   773             1863     04/16/16\n",
       "6 20                  164                   539             1728     04/17/16\n",
       "  month day weekday  \n",
       "1 April 12  Tuesday  \n",
       "2 April 13  Wednesday\n",
       "3 April 14  Thursday \n",
       "4 April 15  Friday   \n",
       "5 April 16  Saturday \n",
       "6 April 17  Sunday   "
      ]
     },
     "metadata": {},
     "output_type": "display_data"
    },
    {
     "name": "stdout",
     "output_type": "stream",
     "text": [
      "[1] \"Hourly Calories\"\n"
     ]
    },
    {
     "data": {
      "text/html": [
       "<table class=\"dataframe\">\n",
       "<caption>A data.frame: 6 × 6</caption>\n",
       "<thead>\n",
       "\t<tr><th></th><th scope=col>Id</th><th scope=col>ActivityHour</th><th scope=col>Calories</th><th scope=col>time</th><th scope=col>date</th><th scope=col>month</th></tr>\n",
       "\t<tr><th></th><th scope=col>&lt;dbl&gt;</th><th scope=col>&lt;dttm&gt;</th><th scope=col>&lt;int&gt;</th><th scope=col>&lt;chr&gt;</th><th scope=col>&lt;chr&gt;</th><th scope=col>&lt;chr&gt;</th></tr>\n",
       "</thead>\n",
       "<tbody>\n",
       "\t<tr><th scope=row>1</th><td>1503960366</td><td>2016-04-12 00:00:00</td><td>81</td><td>00:00:00</td><td>04/12/16</td><td>April</td></tr>\n",
       "\t<tr><th scope=row>2</th><td>1503960366</td><td>2016-04-12 01:00:00</td><td>61</td><td>01:00:00</td><td>04/12/16</td><td>April</td></tr>\n",
       "\t<tr><th scope=row>3</th><td>1503960366</td><td>2016-04-12 02:00:00</td><td>59</td><td>02:00:00</td><td>04/12/16</td><td>April</td></tr>\n",
       "\t<tr><th scope=row>4</th><td>1503960366</td><td>2016-04-12 03:00:00</td><td>47</td><td>03:00:00</td><td>04/12/16</td><td>April</td></tr>\n",
       "\t<tr><th scope=row>5</th><td>1503960366</td><td>2016-04-12 04:00:00</td><td>48</td><td>04:00:00</td><td>04/12/16</td><td>April</td></tr>\n",
       "\t<tr><th scope=row>6</th><td>1503960366</td><td>2016-04-12 05:00:00</td><td>48</td><td>05:00:00</td><td>04/12/16</td><td>April</td></tr>\n",
       "</tbody>\n",
       "</table>\n"
      ],
      "text/latex": [
       "A data.frame: 6 × 6\n",
       "\\begin{tabular}{r|llllll}\n",
       "  & Id & ActivityHour & Calories & time & date & month\\\\\n",
       "  & <dbl> & <dttm> & <int> & <chr> & <chr> & <chr>\\\\\n",
       "\\hline\n",
       "\t1 & 1503960366 & 2016-04-12 00:00:00 & 81 & 00:00:00 & 04/12/16 & April\\\\\n",
       "\t2 & 1503960366 & 2016-04-12 01:00:00 & 61 & 01:00:00 & 04/12/16 & April\\\\\n",
       "\t3 & 1503960366 & 2016-04-12 02:00:00 & 59 & 02:00:00 & 04/12/16 & April\\\\\n",
       "\t4 & 1503960366 & 2016-04-12 03:00:00 & 47 & 03:00:00 & 04/12/16 & April\\\\\n",
       "\t5 & 1503960366 & 2016-04-12 04:00:00 & 48 & 04:00:00 & 04/12/16 & April\\\\\n",
       "\t6 & 1503960366 & 2016-04-12 05:00:00 & 48 & 05:00:00 & 04/12/16 & April\\\\\n",
       "\\end{tabular}\n"
      ],
      "text/markdown": [
       "\n",
       "A data.frame: 6 × 6\n",
       "\n",
       "| <!--/--> | Id &lt;dbl&gt; | ActivityHour &lt;dttm&gt; | Calories &lt;int&gt; | time &lt;chr&gt; | date &lt;chr&gt; | month &lt;chr&gt; |\n",
       "|---|---|---|---|---|---|---|\n",
       "| 1 | 1503960366 | 2016-04-12 00:00:00 | 81 | 00:00:00 | 04/12/16 | April |\n",
       "| 2 | 1503960366 | 2016-04-12 01:00:00 | 61 | 01:00:00 | 04/12/16 | April |\n",
       "| 3 | 1503960366 | 2016-04-12 02:00:00 | 59 | 02:00:00 | 04/12/16 | April |\n",
       "| 4 | 1503960366 | 2016-04-12 03:00:00 | 47 | 03:00:00 | 04/12/16 | April |\n",
       "| 5 | 1503960366 | 2016-04-12 04:00:00 | 48 | 04:00:00 | 04/12/16 | April |\n",
       "| 6 | 1503960366 | 2016-04-12 05:00:00 | 48 | 05:00:00 | 04/12/16 | April |\n",
       "\n"
      ],
      "text/plain": [
       "  Id         ActivityHour        Calories time     date     month\n",
       "1 1503960366 2016-04-12 00:00:00 81       00:00:00 04/12/16 April\n",
       "2 1503960366 2016-04-12 01:00:00 61       01:00:00 04/12/16 April\n",
       "3 1503960366 2016-04-12 02:00:00 59       02:00:00 04/12/16 April\n",
       "4 1503960366 2016-04-12 03:00:00 47       03:00:00 04/12/16 April\n",
       "5 1503960366 2016-04-12 04:00:00 48       04:00:00 04/12/16 April\n",
       "6 1503960366 2016-04-12 05:00:00 48       05:00:00 04/12/16 April"
      ]
     },
     "metadata": {},
     "output_type": "display_data"
    },
    {
     "name": "stdout",
     "output_type": "stream",
     "text": [
      "[1] \"Hourly Intensities\"\n"
     ]
    },
    {
     "data": {
      "text/html": [
       "<table class=\"dataframe\">\n",
       "<caption>A data.frame: 6 × 7</caption>\n",
       "<thead>\n",
       "\t<tr><th></th><th scope=col>Id</th><th scope=col>ActivityHour</th><th scope=col>TotalIntensity</th><th scope=col>AverageIntensity</th><th scope=col>time</th><th scope=col>date</th><th scope=col>month</th></tr>\n",
       "\t<tr><th></th><th scope=col>&lt;dbl&gt;</th><th scope=col>&lt;dttm&gt;</th><th scope=col>&lt;int&gt;</th><th scope=col>&lt;dbl&gt;</th><th scope=col>&lt;chr&gt;</th><th scope=col>&lt;chr&gt;</th><th scope=col>&lt;chr&gt;</th></tr>\n",
       "</thead>\n",
       "<tbody>\n",
       "\t<tr><th scope=row>1</th><td>1503960366</td><td>2016-04-12 00:00:00</td><td>20</td><td>0.333333</td><td>00:00:00</td><td>04/12/16</td><td>April</td></tr>\n",
       "\t<tr><th scope=row>2</th><td>1503960366</td><td>2016-04-12 01:00:00</td><td> 8</td><td>0.133333</td><td>01:00:00</td><td>04/12/16</td><td>April</td></tr>\n",
       "\t<tr><th scope=row>3</th><td>1503960366</td><td>2016-04-12 02:00:00</td><td> 7</td><td>0.116667</td><td>02:00:00</td><td>04/12/16</td><td>April</td></tr>\n",
       "\t<tr><th scope=row>4</th><td>1503960366</td><td>2016-04-12 03:00:00</td><td> 0</td><td>0.000000</td><td>03:00:00</td><td>04/12/16</td><td>April</td></tr>\n",
       "\t<tr><th scope=row>5</th><td>1503960366</td><td>2016-04-12 04:00:00</td><td> 0</td><td>0.000000</td><td>04:00:00</td><td>04/12/16</td><td>April</td></tr>\n",
       "\t<tr><th scope=row>6</th><td>1503960366</td><td>2016-04-12 05:00:00</td><td> 0</td><td>0.000000</td><td>05:00:00</td><td>04/12/16</td><td>April</td></tr>\n",
       "</tbody>\n",
       "</table>\n"
      ],
      "text/latex": [
       "A data.frame: 6 × 7\n",
       "\\begin{tabular}{r|lllllll}\n",
       "  & Id & ActivityHour & TotalIntensity & AverageIntensity & time & date & month\\\\\n",
       "  & <dbl> & <dttm> & <int> & <dbl> & <chr> & <chr> & <chr>\\\\\n",
       "\\hline\n",
       "\t1 & 1503960366 & 2016-04-12 00:00:00 & 20 & 0.333333 & 00:00:00 & 04/12/16 & April\\\\\n",
       "\t2 & 1503960366 & 2016-04-12 01:00:00 &  8 & 0.133333 & 01:00:00 & 04/12/16 & April\\\\\n",
       "\t3 & 1503960366 & 2016-04-12 02:00:00 &  7 & 0.116667 & 02:00:00 & 04/12/16 & April\\\\\n",
       "\t4 & 1503960366 & 2016-04-12 03:00:00 &  0 & 0.000000 & 03:00:00 & 04/12/16 & April\\\\\n",
       "\t5 & 1503960366 & 2016-04-12 04:00:00 &  0 & 0.000000 & 04:00:00 & 04/12/16 & April\\\\\n",
       "\t6 & 1503960366 & 2016-04-12 05:00:00 &  0 & 0.000000 & 05:00:00 & 04/12/16 & April\\\\\n",
       "\\end{tabular}\n"
      ],
      "text/markdown": [
       "\n",
       "A data.frame: 6 × 7\n",
       "\n",
       "| <!--/--> | Id &lt;dbl&gt; | ActivityHour &lt;dttm&gt; | TotalIntensity &lt;int&gt; | AverageIntensity &lt;dbl&gt; | time &lt;chr&gt; | date &lt;chr&gt; | month &lt;chr&gt; |\n",
       "|---|---|---|---|---|---|---|---|\n",
       "| 1 | 1503960366 | 2016-04-12 00:00:00 | 20 | 0.333333 | 00:00:00 | 04/12/16 | April |\n",
       "| 2 | 1503960366 | 2016-04-12 01:00:00 |  8 | 0.133333 | 01:00:00 | 04/12/16 | April |\n",
       "| 3 | 1503960366 | 2016-04-12 02:00:00 |  7 | 0.116667 | 02:00:00 | 04/12/16 | April |\n",
       "| 4 | 1503960366 | 2016-04-12 03:00:00 |  0 | 0.000000 | 03:00:00 | 04/12/16 | April |\n",
       "| 5 | 1503960366 | 2016-04-12 04:00:00 |  0 | 0.000000 | 04:00:00 | 04/12/16 | April |\n",
       "| 6 | 1503960366 | 2016-04-12 05:00:00 |  0 | 0.000000 | 05:00:00 | 04/12/16 | April |\n",
       "\n"
      ],
      "text/plain": [
       "  Id         ActivityHour        TotalIntensity AverageIntensity time    \n",
       "1 1503960366 2016-04-12 00:00:00 20             0.333333         00:00:00\n",
       "2 1503960366 2016-04-12 01:00:00  8             0.133333         01:00:00\n",
       "3 1503960366 2016-04-12 02:00:00  7             0.116667         02:00:00\n",
       "4 1503960366 2016-04-12 03:00:00  0             0.000000         03:00:00\n",
       "5 1503960366 2016-04-12 04:00:00  0             0.000000         04:00:00\n",
       "6 1503960366 2016-04-12 05:00:00  0             0.000000         05:00:00\n",
       "  date     month\n",
       "1 04/12/16 April\n",
       "2 04/12/16 April\n",
       "3 04/12/16 April\n",
       "4 04/12/16 April\n",
       "5 04/12/16 April\n",
       "6 04/12/16 April"
      ]
     },
     "metadata": {},
     "output_type": "display_data"
    },
    {
     "name": "stdout",
     "output_type": "stream",
     "text": [
      "[1] \"Sleep Day\"\n"
     ]
    },
    {
     "data": {
      "text/html": [
       "<table class=\"dataframe\">\n",
       "<caption>A data.frame: 6 × 7</caption>\n",
       "<thead>\n",
       "\t<tr><th></th><th scope=col>Id</th><th scope=col>SleepDay</th><th scope=col>TotalSleepRecords</th><th scope=col>TotalMinutesAsleep</th><th scope=col>TotalTimeInBed</th><th scope=col>date</th><th scope=col>month</th></tr>\n",
       "\t<tr><th></th><th scope=col>&lt;dbl&gt;</th><th scope=col>&lt;dttm&gt;</th><th scope=col>&lt;int&gt;</th><th scope=col>&lt;int&gt;</th><th scope=col>&lt;int&gt;</th><th scope=col>&lt;chr&gt;</th><th scope=col>&lt;chr&gt;</th></tr>\n",
       "</thead>\n",
       "<tbody>\n",
       "\t<tr><th scope=row>1</th><td>1503960366</td><td>2016-04-12</td><td>1</td><td>327</td><td>346</td><td>04/12/16</td><td>April</td></tr>\n",
       "\t<tr><th scope=row>2</th><td>1503960366</td><td>2016-04-13</td><td>2</td><td>384</td><td>407</td><td>04/13/16</td><td>April</td></tr>\n",
       "\t<tr><th scope=row>3</th><td>1503960366</td><td>2016-04-15</td><td>1</td><td>412</td><td>442</td><td>04/15/16</td><td>April</td></tr>\n",
       "\t<tr><th scope=row>4</th><td>1503960366</td><td>2016-04-16</td><td>2</td><td>340</td><td>367</td><td>04/16/16</td><td>April</td></tr>\n",
       "\t<tr><th scope=row>5</th><td>1503960366</td><td>2016-04-17</td><td>1</td><td>700</td><td>712</td><td>04/17/16</td><td>April</td></tr>\n",
       "\t<tr><th scope=row>6</th><td>1503960366</td><td>2016-04-19</td><td>1</td><td>304</td><td>320</td><td>04/19/16</td><td>April</td></tr>\n",
       "</tbody>\n",
       "</table>\n"
      ],
      "text/latex": [
       "A data.frame: 6 × 7\n",
       "\\begin{tabular}{r|lllllll}\n",
       "  & Id & SleepDay & TotalSleepRecords & TotalMinutesAsleep & TotalTimeInBed & date & month\\\\\n",
       "  & <dbl> & <dttm> & <int> & <int> & <int> & <chr> & <chr>\\\\\n",
       "\\hline\n",
       "\t1 & 1503960366 & 2016-04-12 & 1 & 327 & 346 & 04/12/16 & April\\\\\n",
       "\t2 & 1503960366 & 2016-04-13 & 2 & 384 & 407 & 04/13/16 & April\\\\\n",
       "\t3 & 1503960366 & 2016-04-15 & 1 & 412 & 442 & 04/15/16 & April\\\\\n",
       "\t4 & 1503960366 & 2016-04-16 & 2 & 340 & 367 & 04/16/16 & April\\\\\n",
       "\t5 & 1503960366 & 2016-04-17 & 1 & 700 & 712 & 04/17/16 & April\\\\\n",
       "\t6 & 1503960366 & 2016-04-19 & 1 & 304 & 320 & 04/19/16 & April\\\\\n",
       "\\end{tabular}\n"
      ],
      "text/markdown": [
       "\n",
       "A data.frame: 6 × 7\n",
       "\n",
       "| <!--/--> | Id &lt;dbl&gt; | SleepDay &lt;dttm&gt; | TotalSleepRecords &lt;int&gt; | TotalMinutesAsleep &lt;int&gt; | TotalTimeInBed &lt;int&gt; | date &lt;chr&gt; | month &lt;chr&gt; |\n",
       "|---|---|---|---|---|---|---|---|\n",
       "| 1 | 1503960366 | 2016-04-12 | 1 | 327 | 346 | 04/12/16 | April |\n",
       "| 2 | 1503960366 | 2016-04-13 | 2 | 384 | 407 | 04/13/16 | April |\n",
       "| 3 | 1503960366 | 2016-04-15 | 1 | 412 | 442 | 04/15/16 | April |\n",
       "| 4 | 1503960366 | 2016-04-16 | 2 | 340 | 367 | 04/16/16 | April |\n",
       "| 5 | 1503960366 | 2016-04-17 | 1 | 700 | 712 | 04/17/16 | April |\n",
       "| 6 | 1503960366 | 2016-04-19 | 1 | 304 | 320 | 04/19/16 | April |\n",
       "\n"
      ],
      "text/plain": [
       "  Id         SleepDay   TotalSleepRecords TotalMinutesAsleep TotalTimeInBed\n",
       "1 1503960366 2016-04-12 1                 327                346           \n",
       "2 1503960366 2016-04-13 2                 384                407           \n",
       "3 1503960366 2016-04-15 1                 412                442           \n",
       "4 1503960366 2016-04-16 2                 340                367           \n",
       "5 1503960366 2016-04-17 1                 700                712           \n",
       "6 1503960366 2016-04-19 1                 304                320           \n",
       "  date     month\n",
       "1 04/12/16 April\n",
       "2 04/13/16 April\n",
       "3 04/15/16 April\n",
       "4 04/16/16 April\n",
       "5 04/17/16 April\n",
       "6 04/19/16 April"
      ]
     },
     "metadata": {},
     "output_type": "display_data"
    },
    {
     "name": "stdout",
     "output_type": "stream",
     "text": [
      "[1] \"Weight Log\"\n"
     ]
    },
    {
     "data": {
      "text/html": [
       "<table class=\"dataframe\">\n",
       "<caption>A data.frame: 6 × 11</caption>\n",
       "<thead>\n",
       "\t<tr><th></th><th scope=col>Id</th><th scope=col>Date</th><th scope=col>WeightKg</th><th scope=col>WeightPounds</th><th scope=col>Fat</th><th scope=col>BMI</th><th scope=col>IsManualReport</th><th scope=col>LogId</th><th scope=col>date</th><th scope=col>time</th><th scope=col>month</th></tr>\n",
       "\t<tr><th></th><th scope=col>&lt;dbl&gt;</th><th scope=col>&lt;dttm&gt;</th><th scope=col>&lt;dbl&gt;</th><th scope=col>&lt;dbl&gt;</th><th scope=col>&lt;int&gt;</th><th scope=col>&lt;dbl&gt;</th><th scope=col>&lt;chr&gt;</th><th scope=col>&lt;dbl&gt;</th><th scope=col>&lt;chr&gt;</th><th scope=col>&lt;chr&gt;</th><th scope=col>&lt;chr&gt;</th></tr>\n",
       "</thead>\n",
       "<tbody>\n",
       "\t<tr><th scope=row>1</th><td>1503960366</td><td>2016-05-02 23:59:59</td><td> 52.6</td><td>115.9631</td><td>22</td><td>22.65</td><td>True </td><td>1.462234e+12</td><td>05/02/16</td><td>23:59:59</td><td>May  </td></tr>\n",
       "\t<tr><th scope=row>2</th><td>1503960366</td><td>2016-05-03 23:59:59</td><td> 52.6</td><td>115.9631</td><td>NA</td><td>22.65</td><td>True </td><td>1.462320e+12</td><td>05/03/16</td><td>23:59:59</td><td>May  </td></tr>\n",
       "\t<tr><th scope=row>3</th><td>1927972279</td><td>2016-04-13 01:08:52</td><td>133.5</td><td>294.3171</td><td>NA</td><td>47.54</td><td>False</td><td>1.460510e+12</td><td>04/13/16</td><td>01:08:52</td><td>April</td></tr>\n",
       "\t<tr><th scope=row>4</th><td>2873212765</td><td>2016-04-21 23:59:59</td><td> 56.7</td><td>125.0021</td><td>NA</td><td>21.45</td><td>True </td><td>1.461283e+12</td><td>04/21/16</td><td>23:59:59</td><td>April</td></tr>\n",
       "\t<tr><th scope=row>5</th><td>2873212765</td><td>2016-05-12 23:59:59</td><td> 57.3</td><td>126.3249</td><td>NA</td><td>21.69</td><td>True </td><td>1.463098e+12</td><td>05/12/16</td><td>23:59:59</td><td>May  </td></tr>\n",
       "\t<tr><th scope=row>6</th><td>4319703577</td><td>2016-04-17 23:59:59</td><td> 72.4</td><td>159.6147</td><td>25</td><td>27.45</td><td>True </td><td>1.460938e+12</td><td>04/17/16</td><td>23:59:59</td><td>April</td></tr>\n",
       "</tbody>\n",
       "</table>\n"
      ],
      "text/latex": [
       "A data.frame: 6 × 11\n",
       "\\begin{tabular}{r|lllllllllll}\n",
       "  & Id & Date & WeightKg & WeightPounds & Fat & BMI & IsManualReport & LogId & date & time & month\\\\\n",
       "  & <dbl> & <dttm> & <dbl> & <dbl> & <int> & <dbl> & <chr> & <dbl> & <chr> & <chr> & <chr>\\\\\n",
       "\\hline\n",
       "\t1 & 1503960366 & 2016-05-02 23:59:59 &  52.6 & 115.9631 & 22 & 22.65 & True  & 1.462234e+12 & 05/02/16 & 23:59:59 & May  \\\\\n",
       "\t2 & 1503960366 & 2016-05-03 23:59:59 &  52.6 & 115.9631 & NA & 22.65 & True  & 1.462320e+12 & 05/03/16 & 23:59:59 & May  \\\\\n",
       "\t3 & 1927972279 & 2016-04-13 01:08:52 & 133.5 & 294.3171 & NA & 47.54 & False & 1.460510e+12 & 04/13/16 & 01:08:52 & April\\\\\n",
       "\t4 & 2873212765 & 2016-04-21 23:59:59 &  56.7 & 125.0021 & NA & 21.45 & True  & 1.461283e+12 & 04/21/16 & 23:59:59 & April\\\\\n",
       "\t5 & 2873212765 & 2016-05-12 23:59:59 &  57.3 & 126.3249 & NA & 21.69 & True  & 1.463098e+12 & 05/12/16 & 23:59:59 & May  \\\\\n",
       "\t6 & 4319703577 & 2016-04-17 23:59:59 &  72.4 & 159.6147 & 25 & 27.45 & True  & 1.460938e+12 & 04/17/16 & 23:59:59 & April\\\\\n",
       "\\end{tabular}\n"
      ],
      "text/markdown": [
       "\n",
       "A data.frame: 6 × 11\n",
       "\n",
       "| <!--/--> | Id &lt;dbl&gt; | Date &lt;dttm&gt; | WeightKg &lt;dbl&gt; | WeightPounds &lt;dbl&gt; | Fat &lt;int&gt; | BMI &lt;dbl&gt; | IsManualReport &lt;chr&gt; | LogId &lt;dbl&gt; | date &lt;chr&gt; | time &lt;chr&gt; | month &lt;chr&gt; |\n",
       "|---|---|---|---|---|---|---|---|---|---|---|---|\n",
       "| 1 | 1503960366 | 2016-05-02 23:59:59 |  52.6 | 115.9631 | 22 | 22.65 | True  | 1.462234e+12 | 05/02/16 | 23:59:59 | May   |\n",
       "| 2 | 1503960366 | 2016-05-03 23:59:59 |  52.6 | 115.9631 | NA | 22.65 | True  | 1.462320e+12 | 05/03/16 | 23:59:59 | May   |\n",
       "| 3 | 1927972279 | 2016-04-13 01:08:52 | 133.5 | 294.3171 | NA | 47.54 | False | 1.460510e+12 | 04/13/16 | 01:08:52 | April |\n",
       "| 4 | 2873212765 | 2016-04-21 23:59:59 |  56.7 | 125.0021 | NA | 21.45 | True  | 1.461283e+12 | 04/21/16 | 23:59:59 | April |\n",
       "| 5 | 2873212765 | 2016-05-12 23:59:59 |  57.3 | 126.3249 | NA | 21.69 | True  | 1.463098e+12 | 05/12/16 | 23:59:59 | May   |\n",
       "| 6 | 4319703577 | 2016-04-17 23:59:59 |  72.4 | 159.6147 | 25 | 27.45 | True  | 1.460938e+12 | 04/17/16 | 23:59:59 | April |\n",
       "\n"
      ],
      "text/plain": [
       "  Id         Date                WeightKg WeightPounds Fat BMI   IsManualReport\n",
       "1 1503960366 2016-05-02 23:59:59  52.6    115.9631     22  22.65 True          \n",
       "2 1503960366 2016-05-03 23:59:59  52.6    115.9631     NA  22.65 True          \n",
       "3 1927972279 2016-04-13 01:08:52 133.5    294.3171     NA  47.54 False         \n",
       "4 2873212765 2016-04-21 23:59:59  56.7    125.0021     NA  21.45 True          \n",
       "5 2873212765 2016-05-12 23:59:59  57.3    126.3249     NA  21.69 True          \n",
       "6 4319703577 2016-04-17 23:59:59  72.4    159.6147     25  27.45 True          \n",
       "  LogId        date     time     month\n",
       "1 1.462234e+12 05/02/16 23:59:59 May  \n",
       "2 1.462320e+12 05/03/16 23:59:59 May  \n",
       "3 1.460510e+12 04/13/16 01:08:52 April\n",
       "4 1.461283e+12 04/21/16 23:59:59 April\n",
       "5 1.463098e+12 05/12/16 23:59:59 May  \n",
       "6 1.460938e+12 04/17/16 23:59:59 April"
      ]
     },
     "metadata": {},
     "output_type": "display_data"
    },
    {
     "name": "stdout",
     "output_type": "stream",
     "text": [
      "[1] \"Heart Rate\"\n"
     ]
    },
    {
     "data": {
      "text/html": [
       "<table class=\"dataframe\">\n",
       "<caption>A data.frame: 6 × 6</caption>\n",
       "<thead>\n",
       "\t<tr><th></th><th scope=col>Id</th><th scope=col>Time</th><th scope=col>Value</th><th scope=col>date</th><th scope=col>time</th><th scope=col>month</th></tr>\n",
       "\t<tr><th></th><th scope=col>&lt;dbl&gt;</th><th scope=col>&lt;dttm&gt;</th><th scope=col>&lt;int&gt;</th><th scope=col>&lt;chr&gt;</th><th scope=col>&lt;chr&gt;</th><th scope=col>&lt;chr&gt;</th></tr>\n",
       "</thead>\n",
       "<tbody>\n",
       "\t<tr><th scope=row>1</th><td>2022484408</td><td>2016-04-12 07:21:00</td><td> 97</td><td>04/12/16</td><td>07</td><td>April</td></tr>\n",
       "\t<tr><th scope=row>2</th><td>2022484408</td><td>2016-04-12 07:21:05</td><td>102</td><td>04/12/16</td><td>07</td><td>April</td></tr>\n",
       "\t<tr><th scope=row>3</th><td>2022484408</td><td>2016-04-12 07:21:10</td><td>105</td><td>04/12/16</td><td>07</td><td>April</td></tr>\n",
       "\t<tr><th scope=row>4</th><td>2022484408</td><td>2016-04-12 07:21:20</td><td>103</td><td>04/12/16</td><td>07</td><td>April</td></tr>\n",
       "\t<tr><th scope=row>5</th><td>2022484408</td><td>2016-04-12 07:21:25</td><td>101</td><td>04/12/16</td><td>07</td><td>April</td></tr>\n",
       "\t<tr><th scope=row>6</th><td>2022484408</td><td>2016-04-12 07:22:05</td><td> 95</td><td>04/12/16</td><td>07</td><td>April</td></tr>\n",
       "</tbody>\n",
       "</table>\n"
      ],
      "text/latex": [
       "A data.frame: 6 × 6\n",
       "\\begin{tabular}{r|llllll}\n",
       "  & Id & Time & Value & date & time & month\\\\\n",
       "  & <dbl> & <dttm> & <int> & <chr> & <chr> & <chr>\\\\\n",
       "\\hline\n",
       "\t1 & 2022484408 & 2016-04-12 07:21:00 &  97 & 04/12/16 & 07 & April\\\\\n",
       "\t2 & 2022484408 & 2016-04-12 07:21:05 & 102 & 04/12/16 & 07 & April\\\\\n",
       "\t3 & 2022484408 & 2016-04-12 07:21:10 & 105 & 04/12/16 & 07 & April\\\\\n",
       "\t4 & 2022484408 & 2016-04-12 07:21:20 & 103 & 04/12/16 & 07 & April\\\\\n",
       "\t5 & 2022484408 & 2016-04-12 07:21:25 & 101 & 04/12/16 & 07 & April\\\\\n",
       "\t6 & 2022484408 & 2016-04-12 07:22:05 &  95 & 04/12/16 & 07 & April\\\\\n",
       "\\end{tabular}\n"
      ],
      "text/markdown": [
       "\n",
       "A data.frame: 6 × 6\n",
       "\n",
       "| <!--/--> | Id &lt;dbl&gt; | Time &lt;dttm&gt; | Value &lt;int&gt; | date &lt;chr&gt; | time &lt;chr&gt; | month &lt;chr&gt; |\n",
       "|---|---|---|---|---|---|---|\n",
       "| 1 | 2022484408 | 2016-04-12 07:21:00 |  97 | 04/12/16 | 07 | April |\n",
       "| 2 | 2022484408 | 2016-04-12 07:21:05 | 102 | 04/12/16 | 07 | April |\n",
       "| 3 | 2022484408 | 2016-04-12 07:21:10 | 105 | 04/12/16 | 07 | April |\n",
       "| 4 | 2022484408 | 2016-04-12 07:21:20 | 103 | 04/12/16 | 07 | April |\n",
       "| 5 | 2022484408 | 2016-04-12 07:21:25 | 101 | 04/12/16 | 07 | April |\n",
       "| 6 | 2022484408 | 2016-04-12 07:22:05 |  95 | 04/12/16 | 07 | April |\n",
       "\n"
      ],
      "text/plain": [
       "  Id         Time                Value date     time month\n",
       "1 2022484408 2016-04-12 07:21:00  97   04/12/16 07   April\n",
       "2 2022484408 2016-04-12 07:21:05 102   04/12/16 07   April\n",
       "3 2022484408 2016-04-12 07:21:10 105   04/12/16 07   April\n",
       "4 2022484408 2016-04-12 07:21:20 103   04/12/16 07   April\n",
       "5 2022484408 2016-04-12 07:21:25 101   04/12/16 07   April\n",
       "6 2022484408 2016-04-12 07:22:05  95   04/12/16 07   April"
      ]
     },
     "metadata": {},
     "output_type": "display_data"
    }
   ],
   "source": [
    "print(\"Daily Activity\")\n",
    "head(daily_activity)\n",
    "\n",
    "print(\"Hourly Calories\")\n",
    "head(hourly_calories)\n",
    "\n",
    "print(\"Hourly Intensities\")\n",
    "head(hourly_intensities)\n",
    "\n",
    "print(\"Sleep Day\")\n",
    "head(sleep_day)\n",
    "\n",
    "print(\"Weight Log\")\n",
    "head(weight_log)\n",
    "\n",
    "print(\"Heart Rate\")\n",
    "head(heart_rate)"
   ]
  },
  {
   "cell_type": "code",
   "execution_count": 11,
   "id": "7c95a968",
   "metadata": {
    "execution": {
     "iopub.execute_input": "2022-07-15T08:45:54.330637Z",
     "iopub.status.busy": "2022-07-15T08:45:54.328964Z",
     "iopub.status.idle": "2022-07-15T08:45:54.362541Z",
     "shell.execute_reply": "2022-07-15T08:45:54.360941Z"
    },
    "papermill": {
     "duration": 0.22852,
     "end_time": "2022-07-15T08:45:54.362683",
     "exception": false,
     "start_time": "2022-07-15T08:45:54.134163",
     "status": "completed"
    },
    "tags": []
   },
   "outputs": [
    {
     "data": {
      "text/plain": [
       "  WeightPounds        BMI       \n",
       " Min.   :116.0   Min.   :21.45  \n",
       " 1st Qu.:135.4   1st Qu.:23.96  \n",
       " Median :137.8   Median :24.39  \n",
       " Mean   :158.8   Mean   :25.19  \n",
       " 3rd Qu.:187.5   3rd Qu.:25.56  \n",
       " Max.   :294.3   Max.   :47.54  "
      ]
     },
     "metadata": {},
     "output_type": "display_data"
    }
   ],
   "source": [
    "# Summary of weight in pounds and BMI\n",
    "weight_log %>%  \n",
    "  select(WeightPounds,\n",
    "         BMI) %>%\n",
    "  summary()"
   ]
  },
  {
   "cell_type": "code",
   "execution_count": 12,
   "id": "6593557b",
   "metadata": {
    "execution": {
     "iopub.execute_input": "2022-07-15T08:45:54.750359Z",
     "iopub.status.busy": "2022-07-15T08:45:54.748703Z",
     "iopub.status.idle": "2022-07-15T08:45:54.770530Z",
     "shell.execute_reply": "2022-07-15T08:45:54.768676Z"
    },
    "papermill": {
     "duration": 0.217167,
     "end_time": "2022-07-15T08:45:54.770812",
     "exception": false,
     "start_time": "2022-07-15T08:45:54.553645",
     "status": "completed"
    },
    "tags": []
   },
   "outputs": [
    {
     "data": {
      "text/plain": [
       " TotalMinutesAsleep TotalTimeInBed \n",
       " Min.   : 58.0      Min.   : 61.0  \n",
       " 1st Qu.:361.0      1st Qu.:403.0  \n",
       " Median :433.0      Median :463.0  \n",
       " Mean   :419.5      Mean   :458.6  \n",
       " 3rd Qu.:490.0      3rd Qu.:526.0  \n",
       " Max.   :796.0      Max.   :961.0  "
      ]
     },
     "metadata": {},
     "output_type": "display_data"
    }
   ],
   "source": [
    "# Summary of daily total minutes asleep and total time in bed (60 minutes = 1 hour)\n",
    "sleep_day %>%  \n",
    "  select(TotalMinutesAsleep,\n",
    "         TotalTimeInBed) %>%\n",
    "  summary()"
   ]
  },
  {
   "cell_type": "code",
   "execution_count": 13,
   "id": "efeed316",
   "metadata": {
    "execution": {
     "iopub.execute_input": "2022-07-15T08:45:55.168512Z",
     "iopub.status.busy": "2022-07-15T08:45:55.166528Z",
     "iopub.status.idle": "2022-07-15T08:45:55.188527Z",
     "shell.execute_reply": "2022-07-15T08:45:55.186844Z"
    },
    "papermill": {
     "duration": 0.220873,
     "end_time": "2022-07-15T08:45:55.188664",
     "exception": false,
     "start_time": "2022-07-15T08:45:54.967791",
     "status": "completed"
    },
    "tags": []
   },
   "outputs": [
    {
     "data": {
      "text/plain": [
       "    Calories     \n",
       " Min.   : 42.00  \n",
       " 1st Qu.: 63.00  \n",
       " Median : 83.00  \n",
       " Mean   : 97.39  \n",
       " 3rd Qu.:108.00  \n",
       " Max.   :948.00  "
      ]
     },
     "metadata": {},
     "output_type": "display_data"
    }
   ],
   "source": [
    "# Summary of number of calories burned per hour\n",
    "hourly_calories %>%  \n",
    "  select(Calories) %>%\n",
    "  summary()"
   ]
  },
  {
   "cell_type": "code",
   "execution_count": 14,
   "id": "c2d1b23f",
   "metadata": {
    "execution": {
     "iopub.execute_input": "2022-07-15T08:45:55.586682Z",
     "iopub.status.busy": "2022-07-15T08:45:55.584613Z",
     "iopub.status.idle": "2022-07-15T08:45:55.607849Z",
     "shell.execute_reply": "2022-07-15T08:45:55.606335Z"
    },
    "papermill": {
     "duration": 0.221691,
     "end_time": "2022-07-15T08:45:55.607996",
     "exception": false,
     "start_time": "2022-07-15T08:45:55.386305",
     "status": "completed"
    },
    "tags": []
   },
   "outputs": [
    {
     "data": {
      "text/plain": [
       "   TotalSteps    TotalDistance    SedentaryMinutes\n",
       " Min.   :    0   Min.   : 0.000   Min.   :   0.0  \n",
       " 1st Qu.: 3790   1st Qu.: 2.620   1st Qu.: 729.8  \n",
       " Median : 7406   Median : 5.245   Median :1057.5  \n",
       " Mean   : 7638   Mean   : 5.490   Mean   : 991.2  \n",
       " 3rd Qu.:10727   3rd Qu.: 7.713   3rd Qu.:1229.5  \n",
       " Max.   :36019   Max.   :28.030   Max.   :1440.0  "
      ]
     },
     "metadata": {},
     "output_type": "display_data"
    }
   ],
   "source": [
    "# Summary of daily total steps, total distance walked, and number of sedentary minutes\n",
    "daily_activity %>%  \n",
    "  select(TotalSteps,\n",
    "         TotalDistance,\n",
    "         SedentaryMinutes) %>%\n",
    "  summary()"
   ]
  },
  {
   "cell_type": "code",
   "execution_count": 15,
   "id": "59c8f853",
   "metadata": {
    "execution": {
     "iopub.execute_input": "2022-07-15T08:45:56.006315Z",
     "iopub.status.busy": "2022-07-15T08:45:56.004441Z",
     "iopub.status.idle": "2022-07-15T08:45:56.138659Z",
     "shell.execute_reply": "2022-07-15T08:45:56.137115Z"
    },
    "papermill": {
     "duration": 0.335135,
     "end_time": "2022-07-15T08:45:56.138810",
     "exception": false,
     "start_time": "2022-07-15T08:45:55.803675",
     "status": "completed"
    },
    "tags": []
   },
   "outputs": [
    {
     "data": {
      "text/plain": [
       "     Value       \n",
       " Min.   : 36.00  \n",
       " 1st Qu.: 63.00  \n",
       " Median : 73.00  \n",
       " Mean   : 77.33  \n",
       " 3rd Qu.: 88.00  \n",
       " Max.   :203.00  "
      ]
     },
     "metadata": {},
     "output_type": "display_data"
    }
   ],
   "source": [
    "# Summary of heart rate BPM\n",
    "heart_rate %>%  \n",
    "  select(Value) %>%\n",
    "  summary()"
   ]
  },
  {
   "cell_type": "code",
   "execution_count": 16,
   "id": "3e88a91f",
   "metadata": {
    "execution": {
     "iopub.execute_input": "2022-07-15T08:45:56.544349Z",
     "iopub.status.busy": "2022-07-15T08:45:56.542300Z",
     "iopub.status.idle": "2022-07-15T08:45:56.672967Z",
     "shell.execute_reply": "2022-07-15T08:45:56.671651Z"
    },
    "papermill": {
     "duration": 0.335638,
     "end_time": "2022-07-15T08:45:56.673118",
     "exception": false,
     "start_time": "2022-07-15T08:45:56.337480",
     "status": "completed"
    },
    "tags": []
   },
   "outputs": [
    {
     "data": {
      "text/html": [
       "33"
      ],
      "text/latex": [
       "33"
      ],
      "text/markdown": [
       "33"
      ],
      "text/plain": [
       "[1] 33"
      ]
     },
     "metadata": {},
     "output_type": "display_data"
    },
    {
     "data": {
      "text/html": [
       "33"
      ],
      "text/latex": [
       "33"
      ],
      "text/markdown": [
       "33"
      ],
      "text/plain": [
       "[1] 33"
      ]
     },
     "metadata": {},
     "output_type": "display_data"
    },
    {
     "data": {
      "text/html": [
       "33"
      ],
      "text/latex": [
       "33"
      ],
      "text/markdown": [
       "33"
      ],
      "text/plain": [
       "[1] 33"
      ]
     },
     "metadata": {},
     "output_type": "display_data"
    },
    {
     "data": {
      "text/html": [
       "24"
      ],
      "text/latex": [
       "24"
      ],
      "text/markdown": [
       "24"
      ],
      "text/plain": [
       "[1] 24"
      ]
     },
     "metadata": {},
     "output_type": "display_data"
    },
    {
     "data": {
      "text/html": [
       "8"
      ],
      "text/latex": [
       "8"
      ],
      "text/markdown": [
       "8"
      ],
      "text/plain": [
       "[1] 8"
      ]
     },
     "metadata": {},
     "output_type": "display_data"
    },
    {
     "data": {
      "text/html": [
       "14"
      ],
      "text/latex": [
       "14"
      ],
      "text/markdown": [
       "14"
      ],
      "text/plain": [
       "[1] 14"
      ]
     },
     "metadata": {},
     "output_type": "display_data"
    }
   ],
   "source": [
    "n_distinct(daily_activity$Id)\n",
    "n_distinct(hourly_calories$Id)\n",
    "n_distinct(hourly_intensities$Id)\n",
    "n_distinct(sleep_day$Id)\n",
    "n_distinct(weight_log$Id)\n",
    "n_distinct(heart_rate$Id)"
   ]
  },
  {
   "cell_type": "code",
   "execution_count": 17,
   "id": "e9d09687",
   "metadata": {
    "execution": {
     "iopub.execute_input": "2022-07-15T08:45:57.109009Z",
     "iopub.status.busy": "2022-07-15T08:45:57.108362Z",
     "iopub.status.idle": "2022-07-15T08:45:57.145807Z",
     "shell.execute_reply": "2022-07-15T08:45:57.144323Z"
    },
    "papermill": {
     "duration": 0.257363,
     "end_time": "2022-07-15T08:45:57.145940",
     "exception": false,
     "start_time": "2022-07-15T08:45:56.888577",
     "status": "completed"
    },
    "tags": []
   },
   "outputs": [
    {
     "data": {
      "text/html": [
       "940"
      ],
      "text/latex": [
       "940"
      ],
      "text/markdown": [
       "940"
      ],
      "text/plain": [
       "[1] 940"
      ]
     },
     "metadata": {},
     "output_type": "display_data"
    },
    {
     "data": {
      "text/html": [
       "22099"
      ],
      "text/latex": [
       "22099"
      ],
      "text/markdown": [
       "22099"
      ],
      "text/plain": [
       "[1] 22099"
      ]
     },
     "metadata": {},
     "output_type": "display_data"
    },
    {
     "data": {
      "text/html": [
       "22099"
      ],
      "text/latex": [
       "22099"
      ],
      "text/markdown": [
       "22099"
      ],
      "text/plain": [
       "[1] 22099"
      ]
     },
     "metadata": {},
     "output_type": "display_data"
    },
    {
     "data": {
      "text/html": [
       "413"
      ],
      "text/latex": [
       "413"
      ],
      "text/markdown": [
       "413"
      ],
      "text/plain": [
       "[1] 413"
      ]
     },
     "metadata": {},
     "output_type": "display_data"
    },
    {
     "data": {
      "text/html": [
       "67"
      ],
      "text/latex": [
       "67"
      ],
      "text/markdown": [
       "67"
      ],
      "text/plain": [
       "[1] 67"
      ]
     },
     "metadata": {},
     "output_type": "display_data"
    },
    {
     "data": {
      "text/html": [
       "2483658"
      ],
      "text/latex": [
       "2483658"
      ],
      "text/markdown": [
       "2483658"
      ],
      "text/plain": [
       "[1] 2483658"
      ]
     },
     "metadata": {},
     "output_type": "display_data"
    }
   ],
   "source": [
    "nrow(daily_activity)\n",
    "nrow(hourly_calories)\n",
    "nrow(hourly_intensities)\n",
    "nrow(sleep_day)\n",
    "nrow(weight_log)\n",
    "nrow(heart_rate)"
   ]
  },
  {
   "cell_type": "markdown",
   "id": "90702211",
   "metadata": {
    "papermill": {
     "duration": 0.231418,
     "end_time": "2022-07-15T08:45:57.607969",
     "exception": false,
     "start_time": "2022-07-15T08:45:57.376551",
     "status": "completed"
    },
    "tags": []
   },
   "source": [
    "# Visualizations"
   ]
  },
  {
   "cell_type": "code",
   "execution_count": 18,
   "id": "5fada841",
   "metadata": {
    "execution": {
     "iopub.execute_input": "2022-07-15T08:45:58.077900Z",
     "iopub.status.busy": "2022-07-15T08:45:58.075776Z",
     "iopub.status.idle": "2022-07-15T08:46:00.023736Z",
     "shell.execute_reply": "2022-07-15T08:46:00.024279Z"
    },
    "papermill": {
     "duration": 2.185217,
     "end_time": "2022-07-15T08:46:00.024520",
     "exception": false,
     "start_time": "2022-07-15T08:45:57.839303",
     "status": "completed"
    },
    "tags": []
   },
   "outputs": [
    {
     "data": {
      "image/png": "[encoded data removed]"
     },
     "metadata": {
      "image/png": {
       "height": 420,
       "width": 420
      }
     },
     "output_type": "display_data"
    }
   ],
   "source": [
    "# Create new df with daily active minutes\n",
    "daily_steps_activity <- daily_activity %>%\n",
    "mutate(TotalActiveMinutes = VeryActiveMinutes+FairlyActiveMinutes+LightlyActiveMinutes)\n",
    "\n",
    "# Plot relationship between number of daily steps and minutes active during the day\n",
    "sctr_steps <- ggplot(data=daily_steps_activity, aes(x=TotalSteps, y=TotalActiveMinutes)) + \n",
    "geom_point(color=\"#40916c\") + \n",
    "geom_smooth(method = 'loess', formula = y ~ x, span = 0.3) +\n",
    "labs(title=\"Daily Activity vs. Total Steps\", x=\"Total Daily Steps\", y=\"Total Time Active (Minutes)\")\n",
    "\n",
    "sctr_steps"
   ]
  },
  {
   "cell_type": "code",
   "execution_count": 19,
   "id": "9bafef85",
   "metadata": {
    "execution": {
     "iopub.execute_input": "2022-07-15T08:46:00.507738Z",
     "iopub.status.busy": "2022-07-15T08:46:00.505349Z",
     "iopub.status.idle": "2022-07-15T08:46:00.770543Z",
     "shell.execute_reply": "2022-07-15T08:46:00.769826Z"
    },
    "papermill": {
     "duration": 0.509203,
     "end_time": "2022-07-15T08:46:00.770701",
     "exception": false,
     "start_time": "2022-07-15T08:46:00.261498",
     "status": "completed"
    },
    "tags": []
   },
   "outputs": [
    {
     "data": {
      "image/png": "[encoded data removed]"
     },
     "metadata": {
      "image/png": {
       "height": 420,
       "width": 420
      }
     },
     "output_type": "display_data"
    }
   ],
   "source": [
    "# Plot relationship between time in bed and sleep length\n",
    "sctr_sleep <- ggplot(data=sleep_day, aes(x=TotalMinutesAsleep, y=TotalTimeInBed)) + \n",
    "geom_point(color=\"#014f86\") +\n",
    "labs(title=\"Time Asleep vs. Time In Bed\", x=\"Sleep Length (Minutes)\", y=\"Time In Bed (Minutes)\")\n",
    "\n",
    "sctr_sleep"
   ]
  },
  {
   "cell_type": "code",
   "execution_count": 20,
   "id": "72dd74c6",
   "metadata": {
    "execution": {
     "iopub.execute_input": "2022-07-15T08:46:01.265027Z",
     "iopub.status.busy": "2022-07-15T08:46:01.262745Z",
     "iopub.status.idle": "2022-07-15T08:46:01.700770Z",
     "shell.execute_reply": "2022-07-15T08:46:01.701308Z"
    },
    "papermill": {
     "duration": 0.688787,
     "end_time": "2022-07-15T08:46:01.701521",
     "exception": false,
     "start_time": "2022-07-15T08:46:01.012734",
     "status": "completed"
    },
    "tags": []
   },
   "outputs": [
    {
     "data": {
      "image/png": "[encoded data removed]"
     },
     "metadata": {
      "image/png": {
       "height": 420,
       "width": 420
      }
     },
     "output_type": "display_data"
    }
   ],
   "source": [
    "# Plot relationship between daily steps and calories burned\n",
    "sctr_steps_calories <- ggplot(data=daily_activity, aes(x=TotalSteps, y=Calories)) + \n",
    "geom_point(color=\"#ca6702\") + geom_smooth(method = 'loess', formula = y ~ x) + \n",
    "labs(title=\"Daily Steps vs. Calories Burned\", x=\"Total Steps\", y=\"Calories Burned\")\n",
    "\n",
    "sctr_steps_calories"
   ]
  },
  {
   "cell_type": "code",
   "execution_count": 21,
   "id": "d9aad939",
   "metadata": {
    "execution": {
     "iopub.execute_input": "2022-07-15T08:46:02.202606Z",
     "iopub.status.busy": "2022-07-15T08:46:02.200471Z",
     "iopub.status.idle": "2022-07-15T08:46:03.037238Z",
     "shell.execute_reply": "2022-07-15T08:46:03.036286Z"
    },
    "papermill": {
     "duration": 1.089676,
     "end_time": "2022-07-15T08:46:03.037415",
     "exception": false,
     "start_time": "2022-07-15T08:46:01.947739",
     "status": "completed"
    },
    "tags": []
   },
   "outputs": [
    {
     "data": {
      "image/png": "[encoded data removed]"
     },
     "metadata": {
      "image/png": {
       "height": 420,
       "width": 420
      }
     },
     "output_type": "display_data"
    }
   ],
   "source": [
    "# Create new df with average heart rate, grouped by the time, and na values dropped\n",
    "hourly_hr <- heart_rate %>%\n",
    "  group_by(time) %>%\n",
    "  drop_na() %>%\n",
    "  summarise(mean_total_hr = mean(Value))\n",
    "\n",
    "# Plot relationship between average heart rate and time of day\n",
    "bar_heart_rate <- ggplot(data=hourly_hr, aes(x=time, y=mean_total_hr)) + \n",
    "geom_bar(stat = \"identity\", fill='deepskyblue4') +\n",
    "theme(axis.text.x = element_text(angle = 90)) +\n",
    "labs(title=\"Heart Rate by Time of Day\", x=\"Time of Day (Hour)\", y=\"Average Heart Rate (BPM)\")\n",
    "\n",
    "bar_heart_rate"
   ]
  },
  {
   "cell_type": "code",
   "execution_count": 22,
   "id": "84b7e561",
   "metadata": {
    "execution": {
     "iopub.execute_input": "2022-07-15T08:46:03.546913Z",
     "iopub.status.busy": "2022-07-15T08:46:03.545140Z",
     "iopub.status.idle": "2022-07-15T08:46:03.692187Z",
     "shell.execute_reply": "2022-07-15T08:46:03.691061Z"
    },
    "papermill": {
     "duration": 0.402619,
     "end_time": "2022-07-15T08:46:03.692407",
     "exception": false,
     "start_time": "2022-07-15T08:46:03.289788",
     "status": "completed"
    },
    "tags": []
   },
   "outputs": [
    {
     "name": "stdout",
     "output_type": "stream",
     "text": [
      "Rows: 22,099\n",
      "Columns: 24\n",
      "$ Id                       \u001b[3m\u001b[90m<dbl>\u001b[39m\u001b[23m 1503960366, 1503960366, 1503960366, 150396036…\n",
      "$ date                     \u001b[3m\u001b[90m<chr>\u001b[39m\u001b[23m \"04/12/16\", \"04/12/16\", \"04/12/16\", \"04/12/16…\n",
      "$ ActivityDate             \u001b[3m\u001b[90m<dttm>\u001b[39m\u001b[23m 2016-04-12, 2016-04-12, 2016-04-12, 2016-04-…\n",
      "$ TotalSteps               \u001b[3m\u001b[90m<int>\u001b[39m\u001b[23m 13162, 13162, 13162, 13162, 13162, 13162, 131…\n",
      "$ TotalDistance            \u001b[3m\u001b[90m<dbl>\u001b[39m\u001b[23m 8.50, 8.50, 8.50, 8.50, 8.50, 8.50, 8.50, 8.5…\n",
      "$ TrackerDistance          \u001b[3m\u001b[90m<dbl>\u001b[39m\u001b[23m 8.50, 8.50, 8.50, 8.50, 8.50, 8.50, 8.50, 8.5…\n",
      "$ LoggedActivitiesDistance \u001b[3m\u001b[90m<dbl>\u001b[39m\u001b[23m 0, 0, 0, 0, 0, 0, 0, 0, 0, 0, 0, 0, 0, 0, 0, …\n",
      "$ VeryActiveDistance       \u001b[3m\u001b[90m<dbl>\u001b[39m\u001b[23m 1.88, 1.88, 1.88, 1.88, 1.88, 1.88, 1.88, 1.8…\n",
      "$ ModeratelyActiveDistance \u001b[3m\u001b[90m<dbl>\u001b[39m\u001b[23m 0.55, 0.55, 0.55, 0.55, 0.55, 0.55, 0.55, 0.5…\n",
      "$ LightActiveDistance      \u001b[3m\u001b[90m<dbl>\u001b[39m\u001b[23m 6.06, 6.06, 6.06, 6.06, 6.06, 6.06, 6.06, 6.0…\n",
      "$ SedentaryActiveDistance  \u001b[3m\u001b[90m<dbl>\u001b[39m\u001b[23m 0, 0, 0, 0, 0, 0, 0, 0, 0, 0, 0, 0, 0, 0, 0, …\n",
      "$ VeryActiveMinutes        \u001b[3m\u001b[90m<int>\u001b[39m\u001b[23m 25, 25, 25, 25, 25, 25, 25, 25, 25, 25, 25, 2…\n",
      "$ FairlyActiveMinutes      \u001b[3m\u001b[90m<int>\u001b[39m\u001b[23m 13, 13, 13, 13, 13, 13, 13, 13, 13, 13, 13, 1…\n",
      "$ LightlyActiveMinutes     \u001b[3m\u001b[90m<int>\u001b[39m\u001b[23m 328, 328, 328, 328, 328, 328, 328, 328, 328, …\n",
      "$ SedentaryMinutes         \u001b[3m\u001b[90m<int>\u001b[39m\u001b[23m 728, 728, 728, 728, 728, 728, 728, 728, 728, …\n",
      "$ Calories                 \u001b[3m\u001b[90m<int>\u001b[39m\u001b[23m 1985, 1985, 1985, 1985, 1985, 1985, 1985, 198…\n",
      "$ month.x                  \u001b[3m\u001b[90m<chr>\u001b[39m\u001b[23m \"April\", \"April\", \"April\", \"April\", \"April\", …\n",
      "$ day                      \u001b[3m\u001b[90m<chr>\u001b[39m\u001b[23m \"12\", \"12\", \"12\", \"12\", \"12\", \"12\", \"12\", \"12…\n",
      "$ weekday                  \u001b[3m\u001b[90m<chr>\u001b[39m\u001b[23m \"Tuesday\", \"Tuesday\", \"Tuesday\", \"Tuesday\", \"…\n",
      "$ ActivityHour             \u001b[3m\u001b[90m<dttm>\u001b[39m\u001b[23m 2016-04-12 00:00:00, 2016-04-12 01:00:00, 20…\n",
      "$ TotalIntensity           \u001b[3m\u001b[90m<int>\u001b[39m\u001b[23m 20, 8, 7, 0, 0, 0, 0, 0, 13, 30, 29, 12, 11, …\n",
      "$ AverageIntensity         \u001b[3m\u001b[90m<dbl>\u001b[39m\u001b[23m 0.333333, 0.133333, 0.116667, 0.000000, 0.000…\n",
      "$ time                     \u001b[3m\u001b[90m<chr>\u001b[39m\u001b[23m \"00:00:00\", \"01:00:00\", \"02:00:00\", \"03:00:00…\n",
      "$ month.y                  \u001b[3m\u001b[90m<chr>\u001b[39m\u001b[23m \"April\", \"April\", \"April\", \"April\", \"April\", …\n"
     ]
    }
   ],
   "source": [
    "# Merge daily activity and hourly intensities by id and date, and save as new df\n",
    "d_activity_hr_intensities <- merge(daily_activity, hourly_intensities, by=c('Id', 'date'))\n",
    "glimpse(d_activity_hr_intensities)"
   ]
  },
  {
   "cell_type": "code",
   "execution_count": 23,
   "id": "44f48a0f",
   "metadata": {
    "execution": {
     "iopub.execute_input": "2022-07-15T08:46:04.272977Z",
     "iopub.status.busy": "2022-07-15T08:46:04.199480Z",
     "iopub.status.idle": "2022-07-15T08:46:04.565909Z",
     "shell.execute_reply": "2022-07-15T08:46:04.565214Z"
    },
    "papermill": {
     "duration": 0.620789,
     "end_time": "2022-07-15T08:46:04.566041",
     "exception": false,
     "start_time": "2022-07-15T08:46:03.945252",
     "status": "completed"
    },
    "tags": []
   },
   "outputs": [
    {
     "data": {
      "image/png": "[encoded data removed]"
     },
     "metadata": {
      "image/png": {
       "height": 420,
       "width": 420
      }
     },
     "output_type": "display_data"
    }
   ],
   "source": [
    "# Create new df with average intensity, grouped by the time, and na values dropped\n",
    "hourly_intensity <- d_activity_hr_intensities %>%\n",
    "  group_by(time) %>%\n",
    "  drop_na() %>%\n",
    "  summarise(mean_total_int = mean(TotalIntensity))\n",
    "\n",
    "# Plot relationship between average intensity and time of day\n",
    "bar_intensity <- ggplot(data=hourly_intensity, aes(x=time, y=mean_total_int)) + \n",
    "geom_bar(stat = \"identity\", fill='#66b2b2') +\n",
    "theme(axis.text.x = element_text(angle = 90)) +\n",
    "labs(title=\"Average Total Intensity vs. Time\", y=\"Average Intensity\", x=\"Time of Day\")\n",
    "\n",
    "bar_intensity"
   ]
  },
  {
   "cell_type": "code",
   "execution_count": 24,
   "id": "3d10b020",
   "metadata": {
    "execution": {
     "iopub.execute_input": "2022-07-15T08:46:05.079593Z",
     "iopub.status.busy": "2022-07-15T08:46:05.077434Z",
     "iopub.status.idle": "2022-07-15T08:46:05.120426Z",
     "shell.execute_reply": "2022-07-15T08:46:05.118112Z"
    },
    "papermill": {
     "duration": 0.300667,
     "end_time": "2022-07-15T08:46:05.120682",
     "exception": false,
     "start_time": "2022-07-15T08:46:04.820015",
     "status": "completed"
    },
    "tags": []
   },
   "outputs": [
    {
     "name": "stdout",
     "output_type": "stream",
     "text": [
      "Rows: 413\n",
      "Columns: 23\n",
      "$ Id                       \u001b[3m\u001b[90m<dbl>\u001b[39m\u001b[23m 1503960366, 1503960366, 1503960366, 150396036…\n",
      "$ date                     \u001b[3m\u001b[90m<chr>\u001b[39m\u001b[23m \"04/12/16\", \"04/13/16\", \"04/15/16\", \"04/16/16…\n",
      "$ ActivityDate             \u001b[3m\u001b[90m<dttm>\u001b[39m\u001b[23m 2016-04-12, 2016-04-13, 2016-04-15, 2016-04-…\n",
      "$ TotalSteps               \u001b[3m\u001b[90m<int>\u001b[39m\u001b[23m 13162, 10735, 9762, 12669, 9705, 15506, 10544…\n",
      "$ TotalDistance            \u001b[3m\u001b[90m<dbl>\u001b[39m\u001b[23m 8.50, 6.97, 6.28, 8.16, 6.48, 9.88, 6.68, 6.3…\n",
      "$ TrackerDistance          \u001b[3m\u001b[90m<dbl>\u001b[39m\u001b[23m 8.50, 6.97, 6.28, 8.16, 6.48, 9.88, 6.68, 6.3…\n",
      "$ LoggedActivitiesDistance \u001b[3m\u001b[90m<dbl>\u001b[39m\u001b[23m 0, 0, 0, 0, 0, 0, 0, 0, 0, 0, 0, 0, 0, 0, 0, …\n",
      "$ VeryActiveDistance       \u001b[3m\u001b[90m<dbl>\u001b[39m\u001b[23m 1.88, 1.57, 2.14, 2.71, 3.19, 3.53, 1.96, 1.3…\n",
      "$ ModeratelyActiveDistance \u001b[3m\u001b[90m<dbl>\u001b[39m\u001b[23m 0.55, 0.69, 1.26, 0.41, 0.78, 1.32, 0.48, 0.3…\n",
      "$ LightActiveDistance      \u001b[3m\u001b[90m<dbl>\u001b[39m\u001b[23m 6.06, 4.71, 2.83, 5.04, 2.51, 5.03, 4.24, 4.6…\n",
      "$ SedentaryActiveDistance  \u001b[3m\u001b[90m<dbl>\u001b[39m\u001b[23m 0, 0, 0, 0, 0, 0, 0, 0, 0, 0, 0, 0, 0, 0, 0, …\n",
      "$ VeryActiveMinutes        \u001b[3m\u001b[90m<int>\u001b[39m\u001b[23m 25, 21, 29, 36, 38, 50, 28, 19, 41, 39, 73, 3…\n",
      "$ FairlyActiveMinutes      \u001b[3m\u001b[90m<int>\u001b[39m\u001b[23m 13, 19, 34, 10, 20, 31, 12, 8, 21, 5, 14, 23,…\n",
      "$ LightlyActiveMinutes     \u001b[3m\u001b[90m<int>\u001b[39m\u001b[23m 328, 217, 209, 221, 164, 264, 205, 211, 262, …\n",
      "$ SedentaryMinutes         \u001b[3m\u001b[90m<int>\u001b[39m\u001b[23m 728, 776, 726, 773, 539, 775, 818, 838, 732, …\n",
      "$ Calories                 \u001b[3m\u001b[90m<int>\u001b[39m\u001b[23m 1985, 1797, 1745, 1863, 1728, 2035, 1786, 177…\n",
      "$ month.x                  \u001b[3m\u001b[90m<chr>\u001b[39m\u001b[23m \"April\", \"April\", \"April\", \"April\", \"April\", …\n",
      "$ day                      \u001b[3m\u001b[90m<chr>\u001b[39m\u001b[23m \"12\", \"13\", \"15\", \"16\", \"17\", \"19\", \"20\", \"21…\n",
      "$ weekday                  \u001b[3m\u001b[90m<chr>\u001b[39m\u001b[23m \"Tuesday\", \"Wednesday\", \"Friday\", \"Saturday\",…\n",
      "$ SleepDay                 \u001b[3m\u001b[90m<dttm>\u001b[39m\u001b[23m 2016-04-12, 2016-04-13, 2016-04-15, 2016-04-…\n",
      "$ TotalSleepRecords        \u001b[3m\u001b[90m<int>\u001b[39m\u001b[23m 1, 2, 1, 2, 1, 1, 1, 1, 1, 1, 1, 1, 1, 1, 1, …\n",
      "$ TotalMinutesAsleep       \u001b[3m\u001b[90m<int>\u001b[39m\u001b[23m 327, 384, 412, 340, 700, 304, 360, 325, 361, …\n",
      "$ TotalTimeInBed           \u001b[3m\u001b[90m<int>\u001b[39m\u001b[23m 346, 407, 442, 367, 712, 320, 377, 364, 384, …\n"
     ]
    }
   ],
   "source": [
    "# Merge daily activity and sleep duration by id and date, and save as new df\n",
    "d_activity_d_sleep <- merge(daily_activity, sleep_day, by=c (\"Id\", \"date\"))\n",
    "d_activity_d_sleep <- d_activity_d_sleep %>% select(-c(\"month.y\"))\n",
    "glimpse(d_activity_d_sleep)"
   ]
  },
  {
   "cell_type": "code",
   "execution_count": 25,
   "id": "2316f436",
   "metadata": {
    "execution": {
     "iopub.execute_input": "2022-07-15T08:46:05.642204Z",
     "iopub.status.busy": "2022-07-15T08:46:05.640558Z",
     "iopub.status.idle": "2022-07-15T08:46:05.660904Z",
     "shell.execute_reply": "2022-07-15T08:46:05.659700Z"
    },
    "papermill": {
     "duration": 0.284444,
     "end_time": "2022-07-15T08:46:05.661038",
     "exception": false,
     "start_time": "2022-07-15T08:46:05.376594",
     "status": "completed"
    },
    "tags": []
   },
   "outputs": [],
   "source": [
    "# Create new df with average hours asleep, average hours in bed, average calories burned, grouped by the time, and na values dropped\n",
    "avg_by_day <- d_activity_d_sleep %>%\n",
    "  group_by(Id) %>%\n",
    "  summarise (mean_hrs_asleep = mean(TotalMinutesAsleep)/60, \n",
    "             mean_hrs_in_bed = mean(TotalTimeInBed)/60, \n",
    "             mean_daily_calories = mean(Calories))"
   ]
  },
  {
   "cell_type": "code",
   "execution_count": 26,
   "id": "9c1a3619",
   "metadata": {
    "execution": {
     "iopub.execute_input": "2022-07-15T08:46:06.173732Z",
     "iopub.status.busy": "2022-07-15T08:46:06.171681Z",
     "iopub.status.idle": "2022-07-15T08:46:06.197792Z",
     "shell.execute_reply": "2022-07-15T08:46:06.196092Z"
    },
    "papermill": {
     "duration": 0.285645,
     "end_time": "2022-07-15T08:46:06.197939",
     "exception": false,
     "start_time": "2022-07-15T08:46:05.912294",
     "status": "completed"
    },
    "tags": []
   },
   "outputs": [
    {
     "data": {
      "text/html": [
       "<table class=\"dataframe\">\n",
       "<caption>A tibble: 6 × 4</caption>\n",
       "<thead>\n",
       "\t<tr><th scope=col>Id</th><th scope=col>mean_hrs_asleep</th><th scope=col>mean_hrs_in_bed</th><th scope=col>mean_daily_calories</th></tr>\n",
       "\t<tr><th scope=col>&lt;dbl&gt;</th><th scope=col>&lt;dbl&gt;</th><th scope=col>&lt;dbl&gt;</th><th scope=col>&lt;dbl&gt;</th></tr>\n",
       "</thead>\n",
       "<tbody>\n",
       "\t<tr><td>1503960366</td><td> 6.004667</td><td> 6.386667</td><td>1872.280</td></tr>\n",
       "\t<tr><td>1644430081</td><td> 4.900000</td><td> 5.766667</td><td>2977.750</td></tr>\n",
       "\t<tr><td>1844505072</td><td>10.866667</td><td>16.016667</td><td>1676.333</td></tr>\n",
       "\t<tr><td>1927972279</td><td> 6.950000</td><td> 7.296667</td><td>2316.200</td></tr>\n",
       "\t<tr><td>2026352035</td><td> 8.436310</td><td> 8.960714</td><td>1540.786</td></tr>\n",
       "\t<tr><td>2320127002</td><td> 1.016667</td><td> 1.150000</td><td>1804.000</td></tr>\n",
       "</tbody>\n",
       "</table>\n"
      ],
      "text/latex": [
       "A tibble: 6 × 4\n",
       "\\begin{tabular}{llll}\n",
       " Id & mean\\_hrs\\_asleep & mean\\_hrs\\_in\\_bed & mean\\_daily\\_calories\\\\\n",
       " <dbl> & <dbl> & <dbl> & <dbl>\\\\\n",
       "\\hline\n",
       "\t 1503960366 &  6.004667 &  6.386667 & 1872.280\\\\\n",
       "\t 1644430081 &  4.900000 &  5.766667 & 2977.750\\\\\n",
       "\t 1844505072 & 10.866667 & 16.016667 & 1676.333\\\\\n",
       "\t 1927972279 &  6.950000 &  7.296667 & 2316.200\\\\\n",
       "\t 2026352035 &  8.436310 &  8.960714 & 1540.786\\\\\n",
       "\t 2320127002 &  1.016667 &  1.150000 & 1804.000\\\\\n",
       "\\end{tabular}\n"
      ],
      "text/markdown": [
       "\n",
       "A tibble: 6 × 4\n",
       "\n",
       "| Id &lt;dbl&gt; | mean_hrs_asleep &lt;dbl&gt; | mean_hrs_in_bed &lt;dbl&gt; | mean_daily_calories &lt;dbl&gt; |\n",
       "|---|---|---|---|\n",
       "| 1503960366 |  6.004667 |  6.386667 | 1872.280 |\n",
       "| 1644430081 |  4.900000 |  5.766667 | 2977.750 |\n",
       "| 1844505072 | 10.866667 | 16.016667 | 1676.333 |\n",
       "| 1927972279 |  6.950000 |  7.296667 | 2316.200 |\n",
       "| 2026352035 |  8.436310 |  8.960714 | 1540.786 |\n",
       "| 2320127002 |  1.016667 |  1.150000 | 1804.000 |\n",
       "\n"
      ],
      "text/plain": [
       "  Id         mean_hrs_asleep mean_hrs_in_bed mean_daily_calories\n",
       "1 1503960366  6.004667        6.386667       1872.280           \n",
       "2 1644430081  4.900000        5.766667       2977.750           \n",
       "3 1844505072 10.866667       16.016667       1676.333           \n",
       "4 1927972279  6.950000        7.296667       2316.200           \n",
       "5 2026352035  8.436310        8.960714       1540.786           \n",
       "6 2320127002  1.016667        1.150000       1804.000           "
      ]
     },
     "metadata": {},
     "output_type": "display_data"
    }
   ],
   "source": [
    "head(avg_by_day)"
   ]
  },
  {
   "cell_type": "code",
   "execution_count": 27,
   "id": "febadc23",
   "metadata": {
    "execution": {
     "iopub.execute_input": "2022-07-15T08:46:06.713440Z",
     "iopub.status.busy": "2022-07-15T08:46:06.712431Z",
     "iopub.status.idle": "2022-07-15T08:46:06.730585Z",
     "shell.execute_reply": "2022-07-15T08:46:06.729213Z"
    },
    "papermill": {
     "duration": 0.277119,
     "end_time": "2022-07-15T08:46:06.730747",
     "exception": false,
     "start_time": "2022-07-15T08:46:06.453628",
     "status": "completed"
    },
    "tags": []
   },
   "outputs": [],
   "source": [
    "# Create new df and classify sleeper type by hours asleep\n",
    "sleeper_type_table <- avg_by_day %>%\n",
    "  mutate(sleeper_type = case_when(\n",
    "    mean_hrs_asleep < 4 ~ \"Unhealthy Sleeper\",\n",
    "    mean_hrs_asleep >= 4 & mean_hrs_asleep < 6 ~ \"Bad Sleeper\", \n",
    "    mean_hrs_asleep >= 6 & mean_hrs_asleep < 7 ~ \"Normal Sleeper\", \n",
    "    mean_hrs_asleep >= 7 ~ \"Good Sleeper\"\n",
    "  ))"
   ]
  },
  {
   "cell_type": "code",
   "execution_count": 28,
   "id": "a24b2394",
   "metadata": {
    "execution": {
     "iopub.execute_input": "2022-07-15T08:46:07.249169Z",
     "iopub.status.busy": "2022-07-15T08:46:07.247780Z",
     "iopub.status.idle": "2022-07-15T08:46:07.271219Z",
     "shell.execute_reply": "2022-07-15T08:46:07.269629Z"
    },
    "papermill": {
     "duration": 0.282992,
     "end_time": "2022-07-15T08:46:07.271360",
     "exception": false,
     "start_time": "2022-07-15T08:46:06.988368",
     "status": "completed"
    },
    "tags": []
   },
   "outputs": [
    {
     "data": {
      "text/html": [
       "<table class=\"dataframe\">\n",
       "<caption>A tibble: 6 × 5</caption>\n",
       "<thead>\n",
       "\t<tr><th scope=col>Id</th><th scope=col>mean_hrs_asleep</th><th scope=col>mean_hrs_in_bed</th><th scope=col>mean_daily_calories</th><th scope=col>sleeper_type</th></tr>\n",
       "\t<tr><th scope=col>&lt;dbl&gt;</th><th scope=col>&lt;dbl&gt;</th><th scope=col>&lt;dbl&gt;</th><th scope=col>&lt;dbl&gt;</th><th scope=col>&lt;chr&gt;</th></tr>\n",
       "</thead>\n",
       "<tbody>\n",
       "\t<tr><td>1503960366</td><td> 6.004667</td><td> 6.386667</td><td>1872.280</td><td>Normal Sleeper   </td></tr>\n",
       "\t<tr><td>1644430081</td><td> 4.900000</td><td> 5.766667</td><td>2977.750</td><td>Bad Sleeper      </td></tr>\n",
       "\t<tr><td>1844505072</td><td>10.866667</td><td>16.016667</td><td>1676.333</td><td>Good Sleeper     </td></tr>\n",
       "\t<tr><td>1927972279</td><td> 6.950000</td><td> 7.296667</td><td>2316.200</td><td>Normal Sleeper   </td></tr>\n",
       "\t<tr><td>2026352035</td><td> 8.436310</td><td> 8.960714</td><td>1540.786</td><td>Good Sleeper     </td></tr>\n",
       "\t<tr><td>2320127002</td><td> 1.016667</td><td> 1.150000</td><td>1804.000</td><td>Unhealthy Sleeper</td></tr>\n",
       "</tbody>\n",
       "</table>\n"
      ],
      "text/latex": [
       "A tibble: 6 × 5\n",
       "\\begin{tabular}{lllll}\n",
       " Id & mean\\_hrs\\_asleep & mean\\_hrs\\_in\\_bed & mean\\_daily\\_calories & sleeper\\_type\\\\\n",
       " <dbl> & <dbl> & <dbl> & <dbl> & <chr>\\\\\n",
       "\\hline\n",
       "\t 1503960366 &  6.004667 &  6.386667 & 1872.280 & Normal Sleeper   \\\\\n",
       "\t 1644430081 &  4.900000 &  5.766667 & 2977.750 & Bad Sleeper      \\\\\n",
       "\t 1844505072 & 10.866667 & 16.016667 & 1676.333 & Good Sleeper     \\\\\n",
       "\t 1927972279 &  6.950000 &  7.296667 & 2316.200 & Normal Sleeper   \\\\\n",
       "\t 2026352035 &  8.436310 &  8.960714 & 1540.786 & Good Sleeper     \\\\\n",
       "\t 2320127002 &  1.016667 &  1.150000 & 1804.000 & Unhealthy Sleeper\\\\\n",
       "\\end{tabular}\n"
      ],
      "text/markdown": [
       "\n",
       "A tibble: 6 × 5\n",
       "\n",
       "| Id &lt;dbl&gt; | mean_hrs_asleep &lt;dbl&gt; | mean_hrs_in_bed &lt;dbl&gt; | mean_daily_calories &lt;dbl&gt; | sleeper_type &lt;chr&gt; |\n",
       "|---|---|---|---|---|\n",
       "| 1503960366 |  6.004667 |  6.386667 | 1872.280 | Normal Sleeper    |\n",
       "| 1644430081 |  4.900000 |  5.766667 | 2977.750 | Bad Sleeper       |\n",
       "| 1844505072 | 10.866667 | 16.016667 | 1676.333 | Good Sleeper      |\n",
       "| 1927972279 |  6.950000 |  7.296667 | 2316.200 | Normal Sleeper    |\n",
       "| 2026352035 |  8.436310 |  8.960714 | 1540.786 | Good Sleeper      |\n",
       "| 2320127002 |  1.016667 |  1.150000 | 1804.000 | Unhealthy Sleeper |\n",
       "\n"
      ],
      "text/plain": [
       "  Id         mean_hrs_asleep mean_hrs_in_bed mean_daily_calories\n",
       "1 1503960366  6.004667        6.386667       1872.280           \n",
       "2 1644430081  4.900000        5.766667       2977.750           \n",
       "3 1844505072 10.866667       16.016667       1676.333           \n",
       "4 1927972279  6.950000        7.296667       2316.200           \n",
       "5 2026352035  8.436310        8.960714       1540.786           \n",
       "6 2320127002  1.016667        1.150000       1804.000           \n",
       "  sleeper_type     \n",
       "1 Normal Sleeper   \n",
       "2 Bad Sleeper      \n",
       "3 Good Sleeper     \n",
       "4 Normal Sleeper   \n",
       "5 Good Sleeper     \n",
       "6 Unhealthy Sleeper"
      ]
     },
     "metadata": {},
     "output_type": "display_data"
    }
   ],
   "source": [
    "head(sleeper_type_table)"
   ]
  },
  {
   "cell_type": "code",
   "execution_count": 29,
   "id": "43eae46c",
   "metadata": {
    "_kg_hide-output": false,
    "execution": {
     "iopub.execute_input": "2022-07-15T08:46:07.793625Z",
     "iopub.status.busy": "2022-07-15T08:46:07.792326Z",
     "iopub.status.idle": "2022-07-15T08:46:08.203553Z",
     "shell.execute_reply": "2022-07-15T08:46:08.202909Z"
    },
    "papermill": {
     "duration": 0.672893,
     "end_time": "2022-07-15T08:46:08.203697",
     "exception": false,
     "start_time": "2022-07-15T08:46:07.530804",
     "status": "completed"
    },
    "tags": []
   },
   "outputs": [
    {
     "data": {
      "text/html": [
       "<table class=\"dataframe\">\n",
       "<caption>A tibble: 4 × 2</caption>\n",
       "<thead>\n",
       "\t<tr><th scope=col>sleeper_type</th><th scope=col>total_percent</th></tr>\n",
       "\t<tr><th scope=col>&lt;fct&gt;</th><th scope=col>&lt;chr&gt;</th></tr>\n",
       "</thead>\n",
       "<tbody>\n",
       "\t<tr><td>Bad Sleeper      </td><td>21%</td></tr>\n",
       "\t<tr><td>Good Sleeper     </td><td>50%</td></tr>\n",
       "\t<tr><td>Normal Sleeper   </td><td>17%</td></tr>\n",
       "\t<tr><td>Unhealthy Sleeper</td><td>12%</td></tr>\n",
       "</tbody>\n",
       "</table>\n"
      ],
      "text/latex": [
       "A tibble: 4 × 2\n",
       "\\begin{tabular}{ll}\n",
       " sleeper\\_type & total\\_percent\\\\\n",
       " <fct> & <chr>\\\\\n",
       "\\hline\n",
       "\t Bad Sleeper       & 21\\%\\\\\n",
       "\t Good Sleeper      & 50\\%\\\\\n",
       "\t Normal Sleeper    & 17\\%\\\\\n",
       "\t Unhealthy Sleeper & 12\\%\\\\\n",
       "\\end{tabular}\n"
      ],
      "text/markdown": [
       "\n",
       "A tibble: 4 × 2\n",
       "\n",
       "| sleeper_type &lt;fct&gt; | total_percent &lt;chr&gt; |\n",
       "|---|---|\n",
       "| Bad Sleeper       | 21% |\n",
       "| Good Sleeper      | 50% |\n",
       "| Normal Sleeper    | 17% |\n",
       "| Unhealthy Sleeper | 12% |\n",
       "\n"
      ],
      "text/plain": [
       "  sleeper_type      total_percent\n",
       "1 Bad Sleeper       21%          \n",
       "2 Good Sleeper      50%          \n",
       "3 Normal Sleeper    17%          \n",
       "4 Unhealthy Sleeper 12%          "
      ]
     },
     "metadata": {},
     "output_type": "display_data"
    },
    {
     "data": {
      "image/png": "[encoded data removed]"
     },
     "metadata": {
      "image/png": {
       "height": 420,
       "width": 420
      }
     },
     "output_type": "display_data"
    }
   ],
   "source": [
    "# Create new df with percentage of each type of sleeper\n",
    "pct_sleeper_type <- sleeper_type_table %>%\n",
    "  group_by(sleeper_type) %>%\n",
    "  summarise(total = n()) %>%\n",
    "  mutate(totals = sum(total)) %>%\n",
    "  group_by(sleeper_type) %>%\n",
    "  summarise(total_percent = scales::percent(total / totals))\n",
    "\n",
    "# Create vector for each type of sleeper\n",
    "pct_sleeper_type$sleeper_type <- factor(pct_sleeper_type$sleeper_type , levels = c(\"Good Sleeper\", \"Normal Sleeper\", \"Bad Sleeper\", \"Unhealthy Sleeper\"))\n",
    "\n",
    "# Plot donut chart of percentage distribution of sleeper type\n",
    "donut_pst <- pct_sleeper_type %>%\n",
    "  ggplot(aes(x=\"\",y=total_percent, fill=sleeper_type)) +\n",
    "  geom_bar(stat = \"identity\", width = 1)+\n",
    "  coord_polar(\"y\", start=0)+\n",
    "  theme_minimal()+\n",
    "  theme(axis.title.x= element_blank(),\n",
    "        axis.title.y = element_blank(),\n",
    "        panel.border = element_blank(), \n",
    "        panel.grid = element_blank(), \n",
    "        axis.ticks = element_blank(),\n",
    "        axis.text.x = element_blank(),\n",
    "        plot.title = element_text(hjust = 0.5, size=14, face = \"bold\")) +\n",
    "  scale_fill_manual(values = c(\"#0075ab\",\"#aa6fc5\",\"#ff6583\",\"#ffa600\"),\n",
    "                   labels = c(\"Good Sleeper\", \"Normal Sleeper\", \"Bad Sleeper\", \"Unhealthy Sleeper\")) +\n",
    "  geom_text(aes(label = total_percent), color=\"white\",\n",
    "            position = position_stack(vjust = 0.5))+\n",
    "  labs(title=\"Sleeper type distribution\")\n",
    "\n",
    "head(pct_sleeper_type)\n",
    "donut_pst"
   ]
  },
  {
   "cell_type": "code",
   "execution_count": 30,
   "id": "3e54ad3f",
   "metadata": {
    "execution": {
     "iopub.execute_input": "2022-07-15T08:46:08.737583Z",
     "iopub.status.busy": "2022-07-15T08:46:08.736076Z",
     "iopub.status.idle": "2022-07-15T08:46:08.773788Z",
     "shell.execute_reply": "2022-07-15T08:46:08.772413Z"
    },
    "papermill": {
     "duration": 0.306212,
     "end_time": "2022-07-15T08:46:08.773919",
     "exception": false,
     "start_time": "2022-07-15T08:46:08.467707",
     "status": "completed"
    },
    "tags": []
   },
   "outputs": [
    {
     "data": {
      "text/html": [
       "<table class=\"dataframe\">\n",
       "<caption>A tibble: 6 × 3</caption>\n",
       "<thead>\n",
       "\t<tr><th scope=col>weekday</th><th scope=col>daily_steps</th><th scope=col>daily_sleep</th></tr>\n",
       "\t<tr><th scope=col>&lt;ord&gt;</th><th scope=col>&lt;dbl&gt;</th><th scope=col>&lt;dbl&gt;</th></tr>\n",
       "</thead>\n",
       "<tbody>\n",
       "\t<tr><td>Monday   </td><td>9339.851</td><td>6.980496</td></tr>\n",
       "\t<tr><td>Tuesday  </td><td>9182.692</td><td>6.742308</td></tr>\n",
       "\t<tr><td>Wednesday</td><td>8022.864</td><td>7.244697</td></tr>\n",
       "\t<tr><td>Thursday </td><td>8205.354</td><td>6.706154</td></tr>\n",
       "\t<tr><td>Friday   </td><td>7901.404</td><td>6.757018</td></tr>\n",
       "\t<tr><td>Saturday </td><td>9948.690</td><td>7.013506</td></tr>\n",
       "</tbody>\n",
       "</table>\n"
      ],
      "text/latex": [
       "A tibble: 6 × 3\n",
       "\\begin{tabular}{lll}\n",
       " weekday & daily\\_steps & daily\\_sleep\\\\\n",
       " <ord> & <dbl> & <dbl>\\\\\n",
       "\\hline\n",
       "\t Monday    & 9339.851 & 6.980496\\\\\n",
       "\t Tuesday   & 9182.692 & 6.742308\\\\\n",
       "\t Wednesday & 8022.864 & 7.244697\\\\\n",
       "\t Thursday  & 8205.354 & 6.706154\\\\\n",
       "\t Friday    & 7901.404 & 6.757018\\\\\n",
       "\t Saturday  & 9948.690 & 7.013506\\\\\n",
       "\\end{tabular}\n"
      ],
      "text/markdown": [
       "\n",
       "A tibble: 6 × 3\n",
       "\n",
       "| weekday &lt;ord&gt; | daily_steps &lt;dbl&gt; | daily_sleep &lt;dbl&gt; |\n",
       "|---|---|---|\n",
       "| Monday    | 9339.851 | 6.980496 |\n",
       "| Tuesday   | 9182.692 | 6.742308 |\n",
       "| Wednesday | 8022.864 | 7.244697 |\n",
       "| Thursday  | 8205.354 | 6.706154 |\n",
       "| Friday    | 7901.404 | 6.757018 |\n",
       "| Saturday  | 9948.690 | 7.013506 |\n",
       "\n"
      ],
      "text/plain": [
       "  weekday   daily_steps daily_sleep\n",
       "1 Monday    9339.851    6.980496   \n",
       "2 Tuesday   9182.692    6.742308   \n",
       "3 Wednesday 8022.864    7.244697   \n",
       "4 Thursday  8205.354    6.706154   \n",
       "5 Friday    7901.404    6.757018   \n",
       "6 Saturday  9948.690    7.013506   "
      ]
     },
     "metadata": {},
     "output_type": "display_data"
    }
   ],
   "source": [
    "# Create new df with the weekday name from the activity date\n",
    "weekday_steps_sleep <- d_activity_d_sleep %>%\n",
    "  mutate(weekday = weekdays(ActivityDate))\n",
    "\n",
    "# Create vector for the weekdays\n",
    "weekday_steps_sleep$weekday <-ordered(weekday_steps_sleep$weekday, levels=c(\"Monday\", \"Tuesday\", \"Wednesday\", \"Thursday\",\n",
    "\"Friday\", \"Saturday\", \"Sunday\"))\n",
    "\n",
    "# Create new df with summary of average steps, average hours asleep, and grouped by the weekday\n",
    " weekday_steps_sleep <- weekday_steps_sleep%>%\n",
    "  group_by(weekday) %>%\n",
    "  summarize(daily_steps = mean(TotalSteps), daily_sleep = mean(TotalMinutesAsleep)/60)\n",
    "\n",
    "head(weekday_steps_sleep)"
   ]
  },
  {
   "cell_type": "code",
   "execution_count": 31,
   "id": "11e4845f",
   "metadata": {
    "execution": {
     "iopub.execute_input": "2022-07-15T08:46:09.315635Z",
     "iopub.status.busy": "2022-07-15T08:46:09.313971Z",
     "iopub.status.idle": "2022-07-15T08:46:09.778102Z",
     "shell.execute_reply": "2022-07-15T08:46:09.776763Z"
    },
    "papermill": {
     "duration": 0.732983,
     "end_time": "2022-07-15T08:46:09.778273",
     "exception": false,
     "start_time": "2022-07-15T08:46:09.045290",
     "status": "completed"
    },
    "tags": []
   },
   "outputs": [
    {
     "data": {
      "image/png": "[encoded data removed]"
     },
     "metadata": {
      "image/png": {
       "height": 420,
       "width": 420
      }
     },
     "output_type": "display_data"
    },
    {
     "data": {
      "image/png": "[encoded data removed]"
     },
     "metadata": {
      "image/png": {
       "height": 420,
       "width": 420
      }
     },
     "output_type": "display_data"
    }
   ],
   "source": [
    "# Plot relationship between number of steps for each day of the week with horizontal line representing the national average number of steps a day\n",
    "column_steps_weekday <- ggplot(weekday_steps_sleep) +\n",
    "    geom_col(aes(weekday, daily_steps), fill = \"#0075ab\") +\n",
    "    geom_hline(yintercept = 10000, color=\"red\") +\n",
    "    labs(title = \"Daily steps per day of week\", x= \"\", y = \"\") +\n",
    "    theme(axis.text.x = element_text(angle = 90,vjust = 0.5, hjust = 1))\n",
    "\n",
    "# Plot relationship between hours of sleep for each day of the week with horizontal line representing the recommended number hours of sleep a day\n",
    "column_sleep_weekday <- ggplot(weekday_steps_sleep, aes(weekday, daily_sleep)) +\n",
    "    geom_col(fill = \"#aa6fc5\") +\n",
    "    geom_hline(yintercept = 8, color=\"red\") +\n",
    "    labs(title = \"Hours asleep per day of week\", x= \"\", y = \"\") +\n",
    "    theme(axis.text.x = element_text(angle = 90,vjust = 0.5, hjust = 1))\n",
    "\n",
    "column_steps_weekday\n",
    "column_sleep_weekday"
   ]
  },
  {
   "cell_type": "code",
   "execution_count": 32,
   "id": "8b036125",
   "metadata": {
    "execution": {
     "iopub.execute_input": "2022-07-15T08:46:10.333457Z",
     "iopub.status.busy": "2022-07-15T08:46:10.331708Z",
     "iopub.status.idle": "2022-07-15T08:46:10.372589Z",
     "shell.execute_reply": "2022-07-15T08:46:10.370342Z"
    },
    "papermill": {
     "duration": 0.318562,
     "end_time": "2022-07-15T08:46:10.372775",
     "exception": false,
     "start_time": "2022-07-15T08:46:10.054213",
     "status": "completed"
    },
    "tags": []
   },
   "outputs": [
    {
     "name": "stdout",
     "output_type": "stream",
     "text": [
      "Rows: 67\n",
      "Columns: 24\n",
      "$ Id                       \u001b[3m\u001b[90m<dbl>\u001b[39m\u001b[23m 1503960366, 1503960366, 1927972279, 287321276…\n",
      "$ date                     \u001b[3m\u001b[90m<chr>\u001b[39m\u001b[23m \"05/02/16\", \"05/03/16\", \"04/13/16\", \"04/21/16…\n",
      "$ ActivityDate             \u001b[3m\u001b[90m<dttm>\u001b[39m\u001b[23m 2016-05-02, 2016-05-03, 2016-04-13, 2016-04-…\n",
      "$ TotalSteps               \u001b[3m\u001b[90m<int>\u001b[39m\u001b[23m 14727, 15103, 356, 8859, 7566, 29, 10429, 894…\n",
      "$ TotalDistance            \u001b[3m\u001b[90m<dbl>\u001b[39m\u001b[23m 9.71, 9.66, 0.25, 5.98, 5.11, 0.02, 7.02, 5.9…\n",
      "$ TrackerDistance          \u001b[3m\u001b[90m<dbl>\u001b[39m\u001b[23m 9.71, 9.66, 0.25, 5.98, 5.11, 0.02, 7.02, 5.9…\n",
      "$ LoggedActivitiesDistance \u001b[3m\u001b[90m<dbl>\u001b[39m\u001b[23m 0.000000, 0.000000, 0.000000, 0.000000, 0.000…\n",
      "$ VeryActiveDistance       \u001b[3m\u001b[90m<dbl>\u001b[39m\u001b[23m 3.21, 3.73, 0.00, 0.13, 0.00, 0.00, 0.59, 0.9…\n",
      "$ ModeratelyActiveDistance \u001b[3m\u001b[90m<dbl>\u001b[39m\u001b[23m 0.57, 1.05, 0.00, 0.37, 0.00, 0.00, 0.58, 0.9…\n",
      "$ LightActiveDistance      \u001b[3m\u001b[90m<dbl>\u001b[39m\u001b[23m 5.92, 4.88, 0.25, 5.47, 5.11, 0.02, 5.85, 4.0…\n",
      "$ SedentaryActiveDistance  \u001b[3m\u001b[90m<dbl>\u001b[39m\u001b[23m 0.00, 0.00, 0.00, 0.01, 0.00, 0.00, 0.00, 0.0…\n",
      "$ VeryActiveMinutes        \u001b[3m\u001b[90m<int>\u001b[39m\u001b[23m 41, 50, 0, 2, 0, 0, 8, 14, 18, 0, 0, 6, 200, …\n",
      "$ FairlyActiveMinutes      \u001b[3m\u001b[90m<int>\u001b[39m\u001b[23m 15, 24, 0, 10, 0, 0, 13, 15, 10, 0, 0, 30, 37…\n",
      "$ LightlyActiveMinutes     \u001b[3m\u001b[90m<int>\u001b[39m\u001b[23m 277, 254, 32, 371, 268, 3, 313, 331, 340, 190…\n",
      "$ SedentaryMinutes         \u001b[3m\u001b[90m<int>\u001b[39m\u001b[23m 798, 816, 986, 1057, 720, 1363, 1106, 1080, 9…\n",
      "$ Calories                 \u001b[3m\u001b[90m<int>\u001b[39m\u001b[23m 2004, 1990, 2151, 1970, 1431, 1464, 2282, 211…\n",
      "$ month.x                  \u001b[3m\u001b[90m<chr>\u001b[39m\u001b[23m \"May\", \"May\", \"April\", \"April\", \"May\", \"April…\n",
      "$ day                      \u001b[3m\u001b[90m<chr>\u001b[39m\u001b[23m \"02\", \"03\", \"13\", \"21\", \"12\", \"17\", \"04\", \"18…\n",
      "$ weekday                  \u001b[3m\u001b[90m<chr>\u001b[39m\u001b[23m \"Monday\", \"Tuesday\", \"Wednesday\", \"Thursday\",…\n",
      "$ Date                     \u001b[3m\u001b[90m<dttm>\u001b[39m\u001b[23m 2016-05-02 23:59:59, 2016-05-03 23:59:59, 20…\n",
      "$ WeightPounds             \u001b[3m\u001b[90m<dbl>\u001b[39m\u001b[23m 115.9631, 115.9631, 294.3171, 125.0021, 126.3…\n",
      "$ Fat                      \u001b[3m\u001b[90m<int>\u001b[39m\u001b[23m 22, NA, NA, NA, NA, 25, NA, NA, NA, NA, NA, N…\n",
      "$ BMI                      \u001b[3m\u001b[90m<dbl>\u001b[39m\u001b[23m 22.65, 22.65, 47.54, 21.45, 21.69, 27.45, 27.…\n",
      "$ time                     \u001b[3m\u001b[90m<chr>\u001b[39m\u001b[23m \"23:59:59\", \"23:59:59\", \"01:08:52\", \"23:59:59…\n"
     ]
    }
   ],
   "source": [
    "# Merge daily activity and weight log by id and date, and save as new df\n",
    "weight_bmi <- merge(daily_activity, weight_log, by=c('Id', 'date'))\n",
    "weight_bmi <- weight_bmi %>% select(-c(\"IsManualReport\",\"LogId\",\"WeightKg\",\"month.y\"))\n",
    "glimpse(weight_bmi)"
   ]
  },
  {
   "cell_type": "code",
   "execution_count": 33,
   "id": "05692f5e",
   "metadata": {
    "execution": {
     "iopub.execute_input": "2022-07-15T08:46:10.930848Z",
     "iopub.status.busy": "2022-07-15T08:46:10.928734Z",
     "iopub.status.idle": "2022-07-15T08:46:10.989101Z",
     "shell.execute_reply": "2022-07-15T08:46:10.987683Z"
    },
    "papermill": {
     "duration": 0.336219,
     "end_time": "2022-07-15T08:46:10.989248",
     "exception": false,
     "start_time": "2022-07-15T08:46:10.653029",
     "status": "completed"
    },
    "tags": []
   },
   "outputs": [
    {
     "data": {
      "text/html": [
       "<table class=\"dataframe\">\n",
       "<caption>A tibble: 6 × 3</caption>\n",
       "<thead>\n",
       "\t<tr><th scope=col>Id</th><th scope=col>mean_weight</th><th scope=col>mean_bmi</th></tr>\n",
       "\t<tr><th scope=col>&lt;dbl&gt;</th><th scope=col>&lt;dbl&gt;</th><th scope=col>&lt;dbl&gt;</th></tr>\n",
       "</thead>\n",
       "<tbody>\n",
       "\t<tr><td>1503960366</td><td>115.9631</td><td>22.650</td></tr>\n",
       "\t<tr><td>1927972279</td><td>294.3171</td><td>47.540</td></tr>\n",
       "\t<tr><td>2873212765</td><td>125.6635</td><td>21.570</td></tr>\n",
       "\t<tr><td>4319703577</td><td>159.5045</td><td>27.415</td></tr>\n",
       "\t<tr><td>4558609924</td><td>153.5299</td><td>27.214</td></tr>\n",
       "\t<tr><td>5577150313</td><td>199.9593</td><td>28.000</td></tr>\n",
       "</tbody>\n",
       "</table>\n"
      ],
      "text/latex": [
       "A tibble: 6 × 3\n",
       "\\begin{tabular}{lll}\n",
       " Id & mean\\_weight & mean\\_bmi\\\\\n",
       " <dbl> & <dbl> & <dbl>\\\\\n",
       "\\hline\n",
       "\t 1503960366 & 115.9631 & 22.650\\\\\n",
       "\t 1927972279 & 294.3171 & 47.540\\\\\n",
       "\t 2873212765 & 125.6635 & 21.570\\\\\n",
       "\t 4319703577 & 159.5045 & 27.415\\\\\n",
       "\t 4558609924 & 153.5299 & 27.214\\\\\n",
       "\t 5577150313 & 199.9593 & 28.000\\\\\n",
       "\\end{tabular}\n"
      ],
      "text/markdown": [
       "\n",
       "A tibble: 6 × 3\n",
       "\n",
       "| Id &lt;dbl&gt; | mean_weight &lt;dbl&gt; | mean_bmi &lt;dbl&gt; |\n",
       "|---|---|---|\n",
       "| 1503960366 | 115.9631 | 22.650 |\n",
       "| 1927972279 | 294.3171 | 47.540 |\n",
       "| 2873212765 | 125.6635 | 21.570 |\n",
       "| 4319703577 | 159.5045 | 27.415 |\n",
       "| 4558609924 | 153.5299 | 27.214 |\n",
       "| 5577150313 | 199.9593 | 28.000 |\n",
       "\n"
      ],
      "text/plain": [
       "  Id         mean_weight mean_bmi\n",
       "1 1503960366 115.9631    22.650  \n",
       "2 1927972279 294.3171    47.540  \n",
       "3 2873212765 125.6635    21.570  \n",
       "4 4319703577 159.5045    27.415  \n",
       "5 4558609924 153.5299    27.214  \n",
       "6 5577150313 199.9593    28.000  "
      ]
     },
     "metadata": {},
     "output_type": "display_data"
    },
    {
     "data": {
      "text/html": [
       "47.5400009155273"
      ],
      "text/latex": [
       "47.5400009155273"
      ],
      "text/markdown": [
       "47.5400009155273"
      ],
      "text/plain": [
       "[1] 47.54"
      ]
     },
     "metadata": {},
     "output_type": "display_data"
    },
    {
     "data": {
      "text/html": [
       "21.4500007629395"
      ],
      "text/latex": [
       "21.4500007629395"
      ],
      "text/markdown": [
       "21.4500007629395"
      ],
      "text/plain": [
       "[1] 21.45"
      ]
     },
     "metadata": {},
     "output_type": "display_data"
    }
   ],
   "source": [
    "# Create new df with average weight in pounds, average BMI, grouped by id, and na values dropped\n",
    "avg_weight_bmi <- weight_bmi %>%\n",
    "  group_by(Id) %>%\n",
    "  summarise (mean_weight = mean(WeightPounds), \n",
    "             mean_bmi = mean(BMI))\n",
    "\n",
    "head(avg_weight_bmi)\n",
    "max(weight_bmi$BMI)\n",
    "min(weight_bmi$BMI)"
   ]
  },
  {
   "cell_type": "code",
   "execution_count": 34,
   "id": "7212ba5e",
   "metadata": {
    "execution": {
     "iopub.execute_input": "2022-07-15T08:46:11.568658Z",
     "iopub.status.busy": "2022-07-15T08:46:11.567017Z",
     "iopub.status.idle": "2022-07-15T08:46:11.601190Z",
     "shell.execute_reply": "2022-07-15T08:46:11.599748Z"
    },
    "papermill": {
     "duration": 0.32719,
     "end_time": "2022-07-15T08:46:11.601362",
     "exception": false,
     "start_time": "2022-07-15T08:46:11.274172",
     "status": "completed"
    },
    "tags": []
   },
   "outputs": [
    {
     "data": {
      "text/html": [
       "<table class=\"dataframe\">\n",
       "<caption>A tibble: 6 × 4</caption>\n",
       "<thead>\n",
       "\t<tr><th scope=col>Id</th><th scope=col>mean_weight</th><th scope=col>mean_bmi</th><th scope=col>bmi_health</th></tr>\n",
       "\t<tr><th scope=col>&lt;dbl&gt;</th><th scope=col>&lt;dbl&gt;</th><th scope=col>&lt;dbl&gt;</th><th scope=col>&lt;chr&gt;</th></tr>\n",
       "</thead>\n",
       "<tbody>\n",
       "\t<tr><td>1503960366</td><td>115.9631</td><td>22.650</td><td>Normal Weight</td></tr>\n",
       "\t<tr><td>1927972279</td><td>294.3171</td><td>47.540</td><td>Obease       </td></tr>\n",
       "\t<tr><td>2873212765</td><td>125.6635</td><td>21.570</td><td>Normal Weight</td></tr>\n",
       "\t<tr><td>4319703577</td><td>159.5045</td><td>27.415</td><td>Overweight   </td></tr>\n",
       "\t<tr><td>4558609924</td><td>153.5299</td><td>27.214</td><td>Overweight   </td></tr>\n",
       "\t<tr><td>5577150313</td><td>199.9593</td><td>28.000</td><td>Overweight   </td></tr>\n",
       "</tbody>\n",
       "</table>\n"
      ],
      "text/latex": [
       "A tibble: 6 × 4\n",
       "\\begin{tabular}{llll}\n",
       " Id & mean\\_weight & mean\\_bmi & bmi\\_health\\\\\n",
       " <dbl> & <dbl> & <dbl> & <chr>\\\\\n",
       "\\hline\n",
       "\t 1503960366 & 115.9631 & 22.650 & Normal Weight\\\\\n",
       "\t 1927972279 & 294.3171 & 47.540 & Obease       \\\\\n",
       "\t 2873212765 & 125.6635 & 21.570 & Normal Weight\\\\\n",
       "\t 4319703577 & 159.5045 & 27.415 & Overweight   \\\\\n",
       "\t 4558609924 & 153.5299 & 27.214 & Overweight   \\\\\n",
       "\t 5577150313 & 199.9593 & 28.000 & Overweight   \\\\\n",
       "\\end{tabular}\n"
      ],
      "text/markdown": [
       "\n",
       "A tibble: 6 × 4\n",
       "\n",
       "| Id &lt;dbl&gt; | mean_weight &lt;dbl&gt; | mean_bmi &lt;dbl&gt; | bmi_health &lt;chr&gt; |\n",
       "|---|---|---|---|\n",
       "| 1503960366 | 115.9631 | 22.650 | Normal Weight |\n",
       "| 1927972279 | 294.3171 | 47.540 | Obease        |\n",
       "| 2873212765 | 125.6635 | 21.570 | Normal Weight |\n",
       "| 4319703577 | 159.5045 | 27.415 | Overweight    |\n",
       "| 4558609924 | 153.5299 | 27.214 | Overweight    |\n",
       "| 5577150313 | 199.9593 | 28.000 | Overweight    |\n",
       "\n"
      ],
      "text/plain": [
       "  Id         mean_weight mean_bmi bmi_health   \n",
       "1 1503960366 115.9631    22.650   Normal Weight\n",
       "2 1927972279 294.3171    47.540   Obease       \n",
       "3 2873212765 125.6635    21.570   Normal Weight\n",
       "4 4319703577 159.5045    27.415   Overweight   \n",
       "5 4558609924 153.5299    27.214   Overweight   \n",
       "6 5577150313 199.9593    28.000   Overweight   "
      ]
     },
     "metadata": {},
     "output_type": "display_data"
    }
   ],
   "source": [
    "# Create new df and classify weight type by BMI\n",
    "bmi_health_table <- avg_weight_bmi %>%\n",
    "mutate(bmi_health = case_when(\n",
    "    mean_bmi < 18.5 ~ \"Underweight\",\n",
    "    mean_bmi >= 18.5 & mean_bmi < 24.9 ~ \"Normal Weight\", \n",
    "    mean_bmi >= 25 & mean_bmi < 29.9 ~ \"Overweight\", \n",
    "    mean_bmi >= 30 ~ \"Obease\"\n",
    "  ))\n",
    "\n",
    "head(bmi_health_table)"
   ]
  },
  {
   "cell_type": "code",
   "execution_count": 35,
   "id": "63d6d3a9",
   "metadata": {
    "execution": {
     "iopub.execute_input": "2022-07-15T08:46:12.194839Z",
     "iopub.status.busy": "2022-07-15T08:46:12.193399Z",
     "iopub.status.idle": "2022-07-15T08:46:12.516789Z",
     "shell.execute_reply": "2022-07-15T08:46:12.516161Z"
    },
    "papermill": {
     "duration": 0.629325,
     "end_time": "2022-07-15T08:46:12.516923",
     "exception": false,
     "start_time": "2022-07-15T08:46:11.887598",
     "status": "completed"
    },
    "tags": []
   },
   "outputs": [
    {
     "data": {
      "text/html": [
       "<table class=\"dataframe\">\n",
       "<caption>A tibble: 3 × 2</caption>\n",
       "<thead>\n",
       "\t<tr><th scope=col>bmi_health</th><th scope=col>total_percent</th></tr>\n",
       "\t<tr><th scope=col>&lt;fct&gt;</th><th scope=col>&lt;chr&gt;</th></tr>\n",
       "</thead>\n",
       "<tbody>\n",
       "\t<tr><td>Normal Weight</td><td>38%</td></tr>\n",
       "\t<tr><td>Obease       </td><td>12%</td></tr>\n",
       "\t<tr><td>Overweight   </td><td>50%</td></tr>\n",
       "</tbody>\n",
       "</table>\n"
      ],
      "text/latex": [
       "A tibble: 3 × 2\n",
       "\\begin{tabular}{ll}\n",
       " bmi\\_health & total\\_percent\\\\\n",
       " <fct> & <chr>\\\\\n",
       "\\hline\n",
       "\t Normal Weight & 38\\%\\\\\n",
       "\t Obease        & 12\\%\\\\\n",
       "\t Overweight    & 50\\%\\\\\n",
       "\\end{tabular}\n"
      ],
      "text/markdown": [
       "\n",
       "A tibble: 3 × 2\n",
       "\n",
       "| bmi_health &lt;fct&gt; | total_percent &lt;chr&gt; |\n",
       "|---|---|\n",
       "| Normal Weight | 38% |\n",
       "| Obease        | 12% |\n",
       "| Overweight    | 50% |\n",
       "\n"
      ],
      "text/plain": [
       "  bmi_health    total_percent\n",
       "1 Normal Weight 38%          \n",
       "2 Obease        12%          \n",
       "3 Overweight    50%          "
      ]
     },
     "metadata": {},
     "output_type": "display_data"
    },
    {
     "data": {
      "image/png": "[encoded data removed]"
     },
     "metadata": {
      "image/png": {
       "height": 420,
       "width": 420
      }
     },
     "output_type": "display_data"
    }
   ],
   "source": [
    "# Create new df with percentage of each type of weight type\n",
    "pct_bmi_health <- bmi_health_table %>%\n",
    "  group_by(bmi_health) %>%\n",
    "  summarise(total = n()) %>%\n",
    "  mutate(totals = sum(total)) %>%\n",
    "  group_by(bmi_health) %>%\n",
    "  summarise(total_percent = scales::percent(total / totals))\n",
    "\n",
    "# Create vector for each weight type\n",
    "pct_bmi_health$bmi_health <- factor(pct_bmi_health$bmi_health , levels = c(\"Obease\", \"Overweight\", \"Normal Weight\", \"Underweight\"))\n",
    "\n",
    "# Plot donut chart of percentage distribution of weight type\n",
    "donut_pbh <- pct_bmi_health %>%\n",
    "  ggplot(aes(x=\"\",y=total_percent, fill=bmi_health)) +\n",
    "  geom_bar(stat = \"identity\", width = 1)+\n",
    "  coord_polar(\"y\", start=0)+\n",
    "  theme_minimal()+\n",
    "  theme(axis.title.x= element_blank(),\n",
    "        axis.title.y = element_blank(),\n",
    "        panel.border = element_blank(), \n",
    "        panel.grid = element_blank(), \n",
    "        axis.ticks = element_blank(),\n",
    "        axis.text.x = element_blank(),\n",
    "        plot.title = element_text(hjust = 0.5, size=14, face = \"bold\")) +\n",
    "  scale_fill_manual(values = c(\"#8173bd\",\"#ffa600\",\"#009d9f\"),\n",
    "                   labels = c(\"Obease\", \"Overweight\", \"Normal Weight\", \"Underweight\")) +\n",
    "  geom_text(aes(label = total_percent),color=\"white\",\n",
    "            position = position_stack(vjust = 0.5))+\n",
    "  labs(title=\"Weight type distribution\")\n",
    "\n",
    "head(pct_bmi_health)\n",
    "donut_pbh"
   ]
  },
  {
   "cell_type": "code",
   "execution_count": 36,
   "id": "3c46b81e",
   "metadata": {
    "execution": {
     "iopub.execute_input": "2022-07-15T08:46:13.114730Z",
     "iopub.status.busy": "2022-07-15T08:46:13.113264Z",
     "iopub.status.idle": "2022-07-15T08:46:13.150301Z",
     "shell.execute_reply": "2022-07-15T08:46:13.148721Z"
    },
    "papermill": {
     "duration": 0.338706,
     "end_time": "2022-07-15T08:46:13.150470",
     "exception": false,
     "start_time": "2022-07-15T08:46:12.811764",
     "status": "completed"
    },
    "tags": []
   },
   "outputs": [
    {
     "data": {
      "text/html": [
       "<table class=\"dataframe\">\n",
       "<caption>A tibble: 6 × 3</caption>\n",
       "<thead>\n",
       "\t<tr><th scope=col>Id</th><th scope=col>days_used</th><th scope=col>tracker_usage</th></tr>\n",
       "\t<tr><th scope=col>&lt;dbl&gt;</th><th scope=col>&lt;int&gt;</th><th scope=col>&lt;chr&gt;</th></tr>\n",
       "</thead>\n",
       "<tbody>\n",
       "\t<tr><td>1503960366</td><td>25</td><td>High Use </td></tr>\n",
       "\t<tr><td>1644430081</td><td> 4</td><td>Light Use</td></tr>\n",
       "\t<tr><td>1844505072</td><td> 3</td><td>Light Use</td></tr>\n",
       "\t<tr><td>1927972279</td><td> 5</td><td>Light Use</td></tr>\n",
       "\t<tr><td>2026352035</td><td>28</td><td>High Use </td></tr>\n",
       "\t<tr><td>2320127002</td><td> 1</td><td>Light Use</td></tr>\n",
       "</tbody>\n",
       "</table>\n"
      ],
      "text/latex": [
       "A tibble: 6 × 3\n",
       "\\begin{tabular}{lll}\n",
       " Id & days\\_used & tracker\\_usage\\\\\n",
       " <dbl> & <int> & <chr>\\\\\n",
       "\\hline\n",
       "\t 1503960366 & 25 & High Use \\\\\n",
       "\t 1644430081 &  4 & Light Use\\\\\n",
       "\t 1844505072 &  3 & Light Use\\\\\n",
       "\t 1927972279 &  5 & Light Use\\\\\n",
       "\t 2026352035 & 28 & High Use \\\\\n",
       "\t 2320127002 &  1 & Light Use\\\\\n",
       "\\end{tabular}\n"
      ],
      "text/markdown": [
       "\n",
       "A tibble: 6 × 3\n",
       "\n",
       "| Id &lt;dbl&gt; | days_used &lt;int&gt; | tracker_usage &lt;chr&gt; |\n",
       "|---|---|---|\n",
       "| 1503960366 | 25 | High Use  |\n",
       "| 1644430081 |  4 | Light Use |\n",
       "| 1844505072 |  3 | Light Use |\n",
       "| 1927972279 |  5 | Light Use |\n",
       "| 2026352035 | 28 | High Use  |\n",
       "| 2320127002 |  1 | Light Use |\n",
       "\n"
      ],
      "text/plain": [
       "  Id         days_used tracker_usage\n",
       "1 1503960366 25        High Use     \n",
       "2 1644430081  4        Light Use    \n",
       "3 1844505072  3        Light Use    \n",
       "4 1927972279  5        Light Use    \n",
       "5 2026352035 28        High Use     \n",
       "6 2320127002  1        Light Use    "
      ]
     },
     "metadata": {},
     "output_type": "display_data"
    }
   ],
   "source": [
    "# Create new df and classify wearable tracker user type\n",
    "daily_tracker_use_table <- d_activity_d_sleep %>%\n",
    "  group_by(Id) %>%\n",
    "  summarize(days_used=sum(n())) %>%\n",
    "  mutate(tracker_usage = case_when(\n",
    "    days_used < 11 ~ \"Light Use\",\n",
    "    days_used >= 11 & days_used <= 20 ~ \"Moderate Use\", \n",
    "    days_used >= 21 & days_used <= 31 ~ \"High Use\", \n",
    "  )) %>%\n",
    "drop_na()\n",
    "  \n",
    "head(daily_tracker_use_table)"
   ]
  },
  {
   "cell_type": "code",
   "execution_count": 37,
   "id": "fa90c26e",
   "metadata": {
    "execution": {
     "iopub.execute_input": "2022-07-15T08:46:13.739651Z",
     "iopub.status.busy": "2022-07-15T08:46:13.738046Z",
     "iopub.status.idle": "2022-07-15T08:46:14.098086Z",
     "shell.execute_reply": "2022-07-15T08:46:14.097477Z"
    },
    "papermill": {
     "duration": 0.655179,
     "end_time": "2022-07-15T08:46:14.098212",
     "exception": false,
     "start_time": "2022-07-15T08:46:13.443033",
     "status": "completed"
    },
    "tags": []
   },
   "outputs": [
    {
     "data": {
      "text/html": [
       "<table class=\"dataframe\">\n",
       "<caption>A tibble: 3 × 2</caption>\n",
       "<thead>\n",
       "\t<tr><th scope=col>tracker_usage</th><th scope=col>total_percent</th></tr>\n",
       "\t<tr><th scope=col>&lt;fct&gt;</th><th scope=col>&lt;chr&gt;</th></tr>\n",
       "</thead>\n",
       "<tbody>\n",
       "\t<tr><td>High Use    </td><td>48%</td></tr>\n",
       "\t<tr><td>Light Use   </td><td>39%</td></tr>\n",
       "\t<tr><td>Moderate Use</td><td>13%</td></tr>\n",
       "</tbody>\n",
       "</table>\n"
      ],
      "text/latex": [
       "A tibble: 3 × 2\n",
       "\\begin{tabular}{ll}\n",
       " tracker\\_usage & total\\_percent\\\\\n",
       " <fct> & <chr>\\\\\n",
       "\\hline\n",
       "\t High Use     & 48\\%\\\\\n",
       "\t Light Use    & 39\\%\\\\\n",
       "\t Moderate Use & 13\\%\\\\\n",
       "\\end{tabular}\n"
      ],
      "text/markdown": [
       "\n",
       "A tibble: 3 × 2\n",
       "\n",
       "| tracker_usage &lt;fct&gt; | total_percent &lt;chr&gt; |\n",
       "|---|---|\n",
       "| High Use     | 48% |\n",
       "| Light Use    | 39% |\n",
       "| Moderate Use | 13% |\n",
       "\n"
      ],
      "text/plain": [
       "  tracker_usage total_percent\n",
       "1 High Use      48%          \n",
       "2 Light Use     39%          \n",
       "3 Moderate Use  13%          "
      ]
     },
     "metadata": {},
     "output_type": "display_data"
    },
    {
     "data": {
      "image/png": "[encoded data removed]"
     },
     "metadata": {
      "image/png": {
       "height": 420,
       "width": 420
      }
     },
     "output_type": "display_data"
    }
   ],
   "source": [
    "# Create new df with percentage of wearable tracker usage\n",
    "pct_daily_tracker_use <- daily_tracker_use_table %>%\n",
    "  group_by(tracker_usage) %>%\n",
    "  summarise(total = n()) %>%\n",
    "  mutate(totals = sum(total)) %>%\n",
    "  group_by(tracker_usage) %>%\n",
    "  summarise(total_percent = scales::percent(total / totals))\n",
    "\n",
    "# Create vector for each wearable tracker user type\n",
    "pct_daily_tracker_use$tracker_usage <- factor(pct_daily_tracker_use$tracker_usage , levels = c(\"High Use\", \"Moderate Use\", \"Light Use\"))\n",
    "\n",
    "# Plot donut chart of percentage distribution of wearable tracker user type\n",
    "donut_pdtu <- pct_daily_tracker_use %>%\n",
    "  ggplot(aes(x=\"\",y=total_percent, fill=tracker_usage)) +\n",
    "  geom_bar(stat = \"identity\", width = 1)+\n",
    "  coord_polar(\"y\", start=0)+\n",
    "  theme_minimal()+\n",
    "  theme(axis.title.x= element_blank(),\n",
    "        axis.title.y = element_blank(),\n",
    "        panel.border = element_blank(), \n",
    "        panel.grid = element_blank(), \n",
    "        axis.ticks = element_blank(),\n",
    "        axis.text.x = element_blank(),\n",
    "        plot.title = element_text(hjust = 0.5, size=14, face = \"bold\")) +\n",
    "  scale_fill_manual(values = c(\"#2a9d8f\",\"#e9c46a\",\"#e76f51\"),\n",
    "                   labels = c(\"High Use\", \"Moderate Use\", \"Light Use\")) +\n",
    "  geom_text(aes(label = total_percent),color=\"white\",\n",
    "            position = position_stack(vjust = 0.5))+\n",
    "  labs(title=\"Daily tracker use\")\n",
    "\n",
    "head(pct_daily_tracker_use)\n",
    "donut_pdtu"
   ]
  },
  {
   "cell_type": "code",
   "execution_count": 38,
   "id": "8d50520a",
   "metadata": {
    "execution": {
     "iopub.execute_input": "2022-07-15T08:46:14.703121Z",
     "iopub.status.busy": "2022-07-15T08:46:14.701553Z",
     "iopub.status.idle": "2022-07-15T08:46:14.738219Z",
     "shell.execute_reply": "2022-07-15T08:46:14.736579Z"
    },
    "papermill": {
     "duration": 0.340649,
     "end_time": "2022-07-15T08:46:14.738363",
     "exception": false,
     "start_time": "2022-07-15T08:46:14.397714",
     "status": "completed"
    },
    "tags": []
   },
   "outputs": [
    {
     "data": {
      "text/html": [
       "<table class=\"dataframe\">\n",
       "<caption>A data.frame: 6 × 21</caption>\n",
       "<thead>\n",
       "\t<tr><th></th><th scope=col>Id</th><th scope=col>ActivityDate</th><th scope=col>TotalSteps</th><th scope=col>TotalDistance</th><th scope=col>TrackerDistance</th><th scope=col>LoggedActivitiesDistance</th><th scope=col>VeryActiveDistance</th><th scope=col>ModeratelyActiveDistance</th><th scope=col>LightActiveDistance</th><th scope=col>SedentaryActiveDistance</th><th scope=col>⋯</th><th scope=col>FairlyActiveMinutes</th><th scope=col>LightlyActiveMinutes</th><th scope=col>SedentaryMinutes</th><th scope=col>Calories</th><th scope=col>date</th><th scope=col>month</th><th scope=col>day</th><th scope=col>weekday</th><th scope=col>days_used</th><th scope=col>tracker_usage</th></tr>\n",
       "\t<tr><th></th><th scope=col>&lt;dbl&gt;</th><th scope=col>&lt;dttm&gt;</th><th scope=col>&lt;int&gt;</th><th scope=col>&lt;dbl&gt;</th><th scope=col>&lt;dbl&gt;</th><th scope=col>&lt;dbl&gt;</th><th scope=col>&lt;dbl&gt;</th><th scope=col>&lt;dbl&gt;</th><th scope=col>&lt;dbl&gt;</th><th scope=col>&lt;dbl&gt;</th><th scope=col>⋯</th><th scope=col>&lt;int&gt;</th><th scope=col>&lt;int&gt;</th><th scope=col>&lt;int&gt;</th><th scope=col>&lt;int&gt;</th><th scope=col>&lt;chr&gt;</th><th scope=col>&lt;chr&gt;</th><th scope=col>&lt;chr&gt;</th><th scope=col>&lt;chr&gt;</th><th scope=col>&lt;int&gt;</th><th scope=col>&lt;chr&gt;</th></tr>\n",
       "</thead>\n",
       "<tbody>\n",
       "\t<tr><th scope=row>1</th><td>1503960366</td><td>2016-04-30</td><td>14673</td><td>9.25</td><td>9.25</td><td>0</td><td>3.56</td><td>1.42</td><td>4.27</td><td>0</td><td>⋯</td><td>34</td><td>217</td><td>712</td><td>1947</td><td>04/30/16</td><td>April</td><td>30</td><td>Saturday</td><td>25</td><td>High Use</td></tr>\n",
       "\t<tr><th scope=row>2</th><td>1503960366</td><td>2016-05-01</td><td>10602</td><td>6.81</td><td>6.81</td><td>0</td><td>2.29</td><td>1.60</td><td>2.92</td><td>0</td><td>⋯</td><td>35</td><td>246</td><td>730</td><td>1820</td><td>05/01/16</td><td>May  </td><td>01</td><td>Sunday  </td><td>25</td><td>High Use</td></tr>\n",
       "\t<tr><th scope=row>3</th><td>1503960366</td><td>2016-05-07</td><td>11992</td><td>7.71</td><td>7.71</td><td>0</td><td>2.46</td><td>2.12</td><td>3.13</td><td>0</td><td>⋯</td><td>46</td><td>175</td><td>833</td><td>1821</td><td>05/07/16</td><td>May  </td><td>07</td><td>Saturday</td><td>25</td><td>High Use</td></tr>\n",
       "\t<tr><th scope=row>4</th><td>1503960366</td><td>2016-04-25</td><td>15355</td><td>9.80</td><td>9.80</td><td>0</td><td>5.29</td><td>0.57</td><td>3.94</td><td>0</td><td>⋯</td><td>14</td><td>216</td><td>814</td><td>2013</td><td>04/25/16</td><td>April</td><td>25</td><td>Monday  </td><td>25</td><td>High Use</td></tr>\n",
       "\t<tr><th scope=row>5</th><td>1503960366</td><td>2016-04-28</td><td>13154</td><td>8.53</td><td>8.53</td><td>0</td><td>3.54</td><td>1.16</td><td>3.79</td><td>0</td><td>⋯</td><td>28</td><td>189</td><td>782</td><td>1898</td><td>04/28/16</td><td>April</td><td>28</td><td>Thursday</td><td>25</td><td>High Use</td></tr>\n",
       "\t<tr><th scope=row>6</th><td>1503960366</td><td>2016-04-29</td><td>11181</td><td>7.15</td><td>7.15</td><td>0</td><td>1.06</td><td>0.50</td><td>5.58</td><td>0</td><td>⋯</td><td>12</td><td>243</td><td>815</td><td>1837</td><td>04/29/16</td><td>April</td><td>29</td><td>Friday  </td><td>25</td><td>High Use</td></tr>\n",
       "</tbody>\n",
       "</table>\n"
      ],
      "text/latex": [
       "A data.frame: 6 × 21\n",
       "\\begin{tabular}{r|lllllllllllllllllllll}\n",
       "  & Id & ActivityDate & TotalSteps & TotalDistance & TrackerDistance & LoggedActivitiesDistance & VeryActiveDistance & ModeratelyActiveDistance & LightActiveDistance & SedentaryActiveDistance & ⋯ & FairlyActiveMinutes & LightlyActiveMinutes & SedentaryMinutes & Calories & date & month & day & weekday & days\\_used & tracker\\_usage\\\\\n",
       "  & <dbl> & <dttm> & <int> & <dbl> & <dbl> & <dbl> & <dbl> & <dbl> & <dbl> & <dbl> & ⋯ & <int> & <int> & <int> & <int> & <chr> & <chr> & <chr> & <chr> & <int> & <chr>\\\\\n",
       "\\hline\n",
       "\t1 & 1503960366 & 2016-04-30 & 14673 & 9.25 & 9.25 & 0 & 3.56 & 1.42 & 4.27 & 0 & ⋯ & 34 & 217 & 712 & 1947 & 04/30/16 & April & 30 & Saturday & 25 & High Use\\\\\n",
       "\t2 & 1503960366 & 2016-05-01 & 10602 & 6.81 & 6.81 & 0 & 2.29 & 1.60 & 2.92 & 0 & ⋯ & 35 & 246 & 730 & 1820 & 05/01/16 & May   & 01 & Sunday   & 25 & High Use\\\\\n",
       "\t3 & 1503960366 & 2016-05-07 & 11992 & 7.71 & 7.71 & 0 & 2.46 & 2.12 & 3.13 & 0 & ⋯ & 46 & 175 & 833 & 1821 & 05/07/16 & May   & 07 & Saturday & 25 & High Use\\\\\n",
       "\t4 & 1503960366 & 2016-04-25 & 15355 & 9.80 & 9.80 & 0 & 5.29 & 0.57 & 3.94 & 0 & ⋯ & 14 & 216 & 814 & 2013 & 04/25/16 & April & 25 & Monday   & 25 & High Use\\\\\n",
       "\t5 & 1503960366 & 2016-04-28 & 13154 & 8.53 & 8.53 & 0 & 3.54 & 1.16 & 3.79 & 0 & ⋯ & 28 & 189 & 782 & 1898 & 04/28/16 & April & 28 & Thursday & 25 & High Use\\\\\n",
       "\t6 & 1503960366 & 2016-04-29 & 11181 & 7.15 & 7.15 & 0 & 1.06 & 0.50 & 5.58 & 0 & ⋯ & 12 & 243 & 815 & 1837 & 04/29/16 & April & 29 & Friday   & 25 & High Use\\\\\n",
       "\\end{tabular}\n"
      ],
      "text/markdown": [
       "\n",
       "A data.frame: 6 × 21\n",
       "\n",
       "| <!--/--> | Id &lt;dbl&gt; | ActivityDate &lt;dttm&gt; | TotalSteps &lt;int&gt; | TotalDistance &lt;dbl&gt; | TrackerDistance &lt;dbl&gt; | LoggedActivitiesDistance &lt;dbl&gt; | VeryActiveDistance &lt;dbl&gt; | ModeratelyActiveDistance &lt;dbl&gt; | LightActiveDistance &lt;dbl&gt; | SedentaryActiveDistance &lt;dbl&gt; | ⋯ ⋯ | FairlyActiveMinutes &lt;int&gt; | LightlyActiveMinutes &lt;int&gt; | SedentaryMinutes &lt;int&gt; | Calories &lt;int&gt; | date &lt;chr&gt; | month &lt;chr&gt; | day &lt;chr&gt; | weekday &lt;chr&gt; | days_used &lt;int&gt; | tracker_usage &lt;chr&gt; |\n",
       "|---|---|---|---|---|---|---|---|---|---|---|---|---|---|---|---|---|---|---|---|---|---|\n",
       "| 1 | 1503960366 | 2016-04-30 | 14673 | 9.25 | 9.25 | 0 | 3.56 | 1.42 | 4.27 | 0 | ⋯ | 34 | 217 | 712 | 1947 | 04/30/16 | April | 30 | Saturday | 25 | High Use |\n",
       "| 2 | 1503960366 | 2016-05-01 | 10602 | 6.81 | 6.81 | 0 | 2.29 | 1.60 | 2.92 | 0 | ⋯ | 35 | 246 | 730 | 1820 | 05/01/16 | May   | 01 | Sunday   | 25 | High Use |\n",
       "| 3 | 1503960366 | 2016-05-07 | 11992 | 7.71 | 7.71 | 0 | 2.46 | 2.12 | 3.13 | 0 | ⋯ | 46 | 175 | 833 | 1821 | 05/07/16 | May   | 07 | Saturday | 25 | High Use |\n",
       "| 4 | 1503960366 | 2016-04-25 | 15355 | 9.80 | 9.80 | 0 | 5.29 | 0.57 | 3.94 | 0 | ⋯ | 14 | 216 | 814 | 2013 | 04/25/16 | April | 25 | Monday   | 25 | High Use |\n",
       "| 5 | 1503960366 | 2016-04-28 | 13154 | 8.53 | 8.53 | 0 | 3.54 | 1.16 | 3.79 | 0 | ⋯ | 28 | 189 | 782 | 1898 | 04/28/16 | April | 28 | Thursday | 25 | High Use |\n",
       "| 6 | 1503960366 | 2016-04-29 | 11181 | 7.15 | 7.15 | 0 | 1.06 | 0.50 | 5.58 | 0 | ⋯ | 12 | 243 | 815 | 1837 | 04/29/16 | April | 29 | Friday   | 25 | High Use |\n",
       "\n"
      ],
      "text/plain": [
       "  Id         ActivityDate TotalSteps TotalDistance TrackerDistance\n",
       "1 1503960366 2016-04-30   14673      9.25          9.25           \n",
       "2 1503960366 2016-05-01   10602      6.81          6.81           \n",
       "3 1503960366 2016-05-07   11992      7.71          7.71           \n",
       "4 1503960366 2016-04-25   15355      9.80          9.80           \n",
       "5 1503960366 2016-04-28   13154      8.53          8.53           \n",
       "6 1503960366 2016-04-29   11181      7.15          7.15           \n",
       "  LoggedActivitiesDistance VeryActiveDistance ModeratelyActiveDistance\n",
       "1 0                        3.56               1.42                    \n",
       "2 0                        2.29               1.60                    \n",
       "3 0                        2.46               2.12                    \n",
       "4 0                        5.29               0.57                    \n",
       "5 0                        3.54               1.16                    \n",
       "6 0                        1.06               0.50                    \n",
       "  LightActiveDistance SedentaryActiveDistance ⋯ FairlyActiveMinutes\n",
       "1 4.27                0                       ⋯ 34                 \n",
       "2 2.92                0                       ⋯ 35                 \n",
       "3 3.13                0                       ⋯ 46                 \n",
       "4 3.94                0                       ⋯ 14                 \n",
       "5 3.79                0                       ⋯ 28                 \n",
       "6 5.58                0                       ⋯ 12                 \n",
       "  LightlyActiveMinutes SedentaryMinutes Calories date     month day weekday \n",
       "1 217                  712              1947     04/30/16 April 30  Saturday\n",
       "2 246                  730              1820     05/01/16 May   01  Sunday  \n",
       "3 175                  833              1821     05/07/16 May   07  Saturday\n",
       "4 216                  814              2013     04/25/16 April 25  Monday  \n",
       "5 189                  782              1898     04/28/16 April 28  Thursday\n",
       "6 243                  815              1837     04/29/16 April 29  Friday  \n",
       "  days_used tracker_usage\n",
       "1 25        High Use     \n",
       "2 25        High Use     \n",
       "3 25        High Use     \n",
       "4 25        High Use     \n",
       "5 25        High Use     \n",
       "6 25        High Use     "
      ]
     },
     "metadata": {},
     "output_type": "display_data"
    }
   ],
   "source": [
    "# Merge daily activity and tracker use by id, and save as new df\n",
    "daily_use_merged <- merge(daily_activity, daily_tracker_use_table, by=c (\"Id\"))\n",
    "head(daily_use_merged)"
   ]
  },
  {
   "cell_type": "code",
   "execution_count": 39,
   "id": "efe7b3e5",
   "metadata": {
    "execution": {
     "iopub.execute_input": "2022-07-15T08:46:15.361182Z",
     "iopub.status.busy": "2022-07-15T08:46:15.359679Z",
     "iopub.status.idle": "2022-07-15T08:46:15.405908Z",
     "shell.execute_reply": "2022-07-15T08:46:15.404004Z"
    },
    "papermill": {
     "duration": 0.36143,
     "end_time": "2022-07-15T08:46:15.406066",
     "exception": false,
     "start_time": "2022-07-15T08:46:15.044636",
     "status": "completed"
    },
    "tags": []
   },
   "outputs": [
    {
     "data": {
      "text/html": [
       "<table class=\"dataframe\">\n",
       "<caption>A data.frame: 6 × 24</caption>\n",
       "<thead>\n",
       "\t<tr><th></th><th scope=col>Id</th><th scope=col>ActivityDate</th><th scope=col>TotalSteps</th><th scope=col>TotalDistance</th><th scope=col>TrackerDistance</th><th scope=col>LoggedActivitiesDistance</th><th scope=col>VeryActiveDistance</th><th scope=col>ModeratelyActiveDistance</th><th scope=col>LightActiveDistance</th><th scope=col>SedentaryActiveDistance</th><th scope=col>⋯</th><th scope=col>Calories</th><th scope=col>date</th><th scope=col>month</th><th scope=col>day</th><th scope=col>weekday</th><th scope=col>days_used</th><th scope=col>tracker_usage</th><th scope=col>total_minutes_worn</th><th scope=col>percent_minutes_worn</th><th scope=col>worn</th></tr>\n",
       "\t<tr><th></th><th scope=col>&lt;dbl&gt;</th><th scope=col>&lt;dttm&gt;</th><th scope=col>&lt;int&gt;</th><th scope=col>&lt;dbl&gt;</th><th scope=col>&lt;dbl&gt;</th><th scope=col>&lt;dbl&gt;</th><th scope=col>&lt;dbl&gt;</th><th scope=col>&lt;dbl&gt;</th><th scope=col>&lt;dbl&gt;</th><th scope=col>&lt;dbl&gt;</th><th scope=col>⋯</th><th scope=col>&lt;int&gt;</th><th scope=col>&lt;chr&gt;</th><th scope=col>&lt;chr&gt;</th><th scope=col>&lt;chr&gt;</th><th scope=col>&lt;chr&gt;</th><th scope=col>&lt;int&gt;</th><th scope=col>&lt;chr&gt;</th><th scope=col>&lt;int&gt;</th><th scope=col>&lt;dbl&gt;</th><th scope=col>&lt;chr&gt;</th></tr>\n",
       "</thead>\n",
       "<tbody>\n",
       "\t<tr><th scope=row>1</th><td>1503960366</td><td>2016-04-30</td><td>14673</td><td>9.25</td><td>9.25</td><td>0</td><td>3.56</td><td>1.42</td><td>4.27</td><td>0</td><td>⋯</td><td>1947</td><td>04/30/16</td><td>April</td><td>30</td><td>Saturday</td><td>25</td><td>High Use</td><td>1015</td><td>70.48611</td><td>More than half day</td></tr>\n",
       "\t<tr><th scope=row>2</th><td>1503960366</td><td>2016-05-01</td><td>10602</td><td>6.81</td><td>6.81</td><td>0</td><td>2.29</td><td>1.60</td><td>2.92</td><td>0</td><td>⋯</td><td>1820</td><td>05/01/16</td><td>May  </td><td>01</td><td>Sunday  </td><td>25</td><td>High Use</td><td>1044</td><td>72.50000</td><td>More than half day</td></tr>\n",
       "\t<tr><th scope=row>3</th><td>1503960366</td><td>2016-05-07</td><td>11992</td><td>7.71</td><td>7.71</td><td>0</td><td>2.46</td><td>2.12</td><td>3.13</td><td>0</td><td>⋯</td><td>1821</td><td>05/07/16</td><td>May  </td><td>07</td><td>Saturday</td><td>25</td><td>High Use</td><td>1091</td><td>75.76389</td><td>More than half day</td></tr>\n",
       "\t<tr><th scope=row>4</th><td>1503960366</td><td>2016-04-25</td><td>15355</td><td>9.80</td><td>9.80</td><td>0</td><td>5.29</td><td>0.57</td><td>3.94</td><td>0</td><td>⋯</td><td>2013</td><td>04/25/16</td><td>April</td><td>25</td><td>Monday  </td><td>25</td><td>High Use</td><td>1117</td><td>77.56944</td><td>More than half day</td></tr>\n",
       "\t<tr><th scope=row>5</th><td>1503960366</td><td>2016-04-28</td><td>13154</td><td>8.53</td><td>8.53</td><td>0</td><td>3.54</td><td>1.16</td><td>3.79</td><td>0</td><td>⋯</td><td>1898</td><td>04/28/16</td><td>April</td><td>28</td><td>Thursday</td><td>25</td><td>High Use</td><td>1047</td><td>72.70833</td><td>More than half day</td></tr>\n",
       "\t<tr><th scope=row>6</th><td>1503960366</td><td>2016-04-29</td><td>11181</td><td>7.15</td><td>7.15</td><td>0</td><td>1.06</td><td>0.50</td><td>5.58</td><td>0</td><td>⋯</td><td>1837</td><td>04/29/16</td><td>April</td><td>29</td><td>Friday  </td><td>25</td><td>High Use</td><td>1086</td><td>75.41667</td><td>More than half day</td></tr>\n",
       "</tbody>\n",
       "</table>\n"
      ],
      "text/latex": [
       "A data.frame: 6 × 24\n",
       "\\begin{tabular}{r|lllllllllllllllllllll}\n",
       "  & Id & ActivityDate & TotalSteps & TotalDistance & TrackerDistance & LoggedActivitiesDistance & VeryActiveDistance & ModeratelyActiveDistance & LightActiveDistance & SedentaryActiveDistance & ⋯ & Calories & date & month & day & weekday & days\\_used & tracker\\_usage & total\\_minutes\\_worn & percent\\_minutes\\_worn & worn\\\\\n",
       "  & <dbl> & <dttm> & <int> & <dbl> & <dbl> & <dbl> & <dbl> & <dbl> & <dbl> & <dbl> & ⋯ & <int> & <chr> & <chr> & <chr> & <chr> & <int> & <chr> & <int> & <dbl> & <chr>\\\\\n",
       "\\hline\n",
       "\t1 & 1503960366 & 2016-04-30 & 14673 & 9.25 & 9.25 & 0 & 3.56 & 1.42 & 4.27 & 0 & ⋯ & 1947 & 04/30/16 & April & 30 & Saturday & 25 & High Use & 1015 & 70.48611 & More than half day\\\\\n",
       "\t2 & 1503960366 & 2016-05-01 & 10602 & 6.81 & 6.81 & 0 & 2.29 & 1.60 & 2.92 & 0 & ⋯ & 1820 & 05/01/16 & May   & 01 & Sunday   & 25 & High Use & 1044 & 72.50000 & More than half day\\\\\n",
       "\t3 & 1503960366 & 2016-05-07 & 11992 & 7.71 & 7.71 & 0 & 2.46 & 2.12 & 3.13 & 0 & ⋯ & 1821 & 05/07/16 & May   & 07 & Saturday & 25 & High Use & 1091 & 75.76389 & More than half day\\\\\n",
       "\t4 & 1503960366 & 2016-04-25 & 15355 & 9.80 & 9.80 & 0 & 5.29 & 0.57 & 3.94 & 0 & ⋯ & 2013 & 04/25/16 & April & 25 & Monday   & 25 & High Use & 1117 & 77.56944 & More than half day\\\\\n",
       "\t5 & 1503960366 & 2016-04-28 & 13154 & 8.53 & 8.53 & 0 & 3.54 & 1.16 & 3.79 & 0 & ⋯ & 1898 & 04/28/16 & April & 28 & Thursday & 25 & High Use & 1047 & 72.70833 & More than half day\\\\\n",
       "\t6 & 1503960366 & 2016-04-29 & 11181 & 7.15 & 7.15 & 0 & 1.06 & 0.50 & 5.58 & 0 & ⋯ & 1837 & 04/29/16 & April & 29 & Friday   & 25 & High Use & 1086 & 75.41667 & More than half day\\\\\n",
       "\\end{tabular}\n"
      ],
      "text/markdown": [
       "\n",
       "A data.frame: 6 × 24\n",
       "\n",
       "| <!--/--> | Id &lt;dbl&gt; | ActivityDate &lt;dttm&gt; | TotalSteps &lt;int&gt; | TotalDistance &lt;dbl&gt; | TrackerDistance &lt;dbl&gt; | LoggedActivitiesDistance &lt;dbl&gt; | VeryActiveDistance &lt;dbl&gt; | ModeratelyActiveDistance &lt;dbl&gt; | LightActiveDistance &lt;dbl&gt; | SedentaryActiveDistance &lt;dbl&gt; | ⋯ ⋯ | Calories &lt;int&gt; | date &lt;chr&gt; | month &lt;chr&gt; | day &lt;chr&gt; | weekday &lt;chr&gt; | days_used &lt;int&gt; | tracker_usage &lt;chr&gt; | total_minutes_worn &lt;int&gt; | percent_minutes_worn &lt;dbl&gt; | worn &lt;chr&gt; |\n",
       "|---|---|---|---|---|---|---|---|---|---|---|---|---|---|---|---|---|---|---|---|---|---|\n",
       "| 1 | 1503960366 | 2016-04-30 | 14673 | 9.25 | 9.25 | 0 | 3.56 | 1.42 | 4.27 | 0 | ⋯ | 1947 | 04/30/16 | April | 30 | Saturday | 25 | High Use | 1015 | 70.48611 | More than half day |\n",
       "| 2 | 1503960366 | 2016-05-01 | 10602 | 6.81 | 6.81 | 0 | 2.29 | 1.60 | 2.92 | 0 | ⋯ | 1820 | 05/01/16 | May   | 01 | Sunday   | 25 | High Use | 1044 | 72.50000 | More than half day |\n",
       "| 3 | 1503960366 | 2016-05-07 | 11992 | 7.71 | 7.71 | 0 | 2.46 | 2.12 | 3.13 | 0 | ⋯ | 1821 | 05/07/16 | May   | 07 | Saturday | 25 | High Use | 1091 | 75.76389 | More than half day |\n",
       "| 4 | 1503960366 | 2016-04-25 | 15355 | 9.80 | 9.80 | 0 | 5.29 | 0.57 | 3.94 | 0 | ⋯ | 2013 | 04/25/16 | April | 25 | Monday   | 25 | High Use | 1117 | 77.56944 | More than half day |\n",
       "| 5 | 1503960366 | 2016-04-28 | 13154 | 8.53 | 8.53 | 0 | 3.54 | 1.16 | 3.79 | 0 | ⋯ | 1898 | 04/28/16 | April | 28 | Thursday | 25 | High Use | 1047 | 72.70833 | More than half day |\n",
       "| 6 | 1503960366 | 2016-04-29 | 11181 | 7.15 | 7.15 | 0 | 1.06 | 0.50 | 5.58 | 0 | ⋯ | 1837 | 04/29/16 | April | 29 | Friday   | 25 | High Use | 1086 | 75.41667 | More than half day |\n",
       "\n"
      ],
      "text/plain": [
       "  Id         ActivityDate TotalSteps TotalDistance TrackerDistance\n",
       "1 1503960366 2016-04-30   14673      9.25          9.25           \n",
       "2 1503960366 2016-05-01   10602      6.81          6.81           \n",
       "3 1503960366 2016-05-07   11992      7.71          7.71           \n",
       "4 1503960366 2016-04-25   15355      9.80          9.80           \n",
       "5 1503960366 2016-04-28   13154      8.53          8.53           \n",
       "6 1503960366 2016-04-29   11181      7.15          7.15           \n",
       "  LoggedActivitiesDistance VeryActiveDistance ModeratelyActiveDistance\n",
       "1 0                        3.56               1.42                    \n",
       "2 0                        2.29               1.60                    \n",
       "3 0                        2.46               2.12                    \n",
       "4 0                        5.29               0.57                    \n",
       "5 0                        3.54               1.16                    \n",
       "6 0                        1.06               0.50                    \n",
       "  LightActiveDistance SedentaryActiveDistance ⋯ Calories date     month day\n",
       "1 4.27                0                       ⋯ 1947     04/30/16 April 30 \n",
       "2 2.92                0                       ⋯ 1820     05/01/16 May   01 \n",
       "3 3.13                0                       ⋯ 1821     05/07/16 May   07 \n",
       "4 3.94                0                       ⋯ 2013     04/25/16 April 25 \n",
       "5 3.79                0                       ⋯ 1898     04/28/16 April 28 \n",
       "6 5.58                0                       ⋯ 1837     04/29/16 April 29 \n",
       "  weekday  days_used tracker_usage total_minutes_worn percent_minutes_worn\n",
       "1 Saturday 25        High Use      1015               70.48611            \n",
       "2 Sunday   25        High Use      1044               72.50000            \n",
       "3 Saturday 25        High Use      1091               75.76389            \n",
       "4 Monday   25        High Use      1117               77.56944            \n",
       "5 Thursday 25        High Use      1047               72.70833            \n",
       "6 Friday   25        High Use      1086               75.41667            \n",
       "  worn              \n",
       "1 More than half day\n",
       "2 More than half day\n",
       "3 More than half day\n",
       "4 More than half day\n",
       "5 More than half day\n",
       "6 More than half day"
      ]
     },
     "metadata": {},
     "output_type": "display_data"
    }
   ],
   "source": [
    "# Create new df and classify length of use for wearable tracker\n",
    "minutes_worn <- daily_use_merged %>% \n",
    "  mutate(total_minutes_worn = VeryActiveMinutes+FairlyActiveMinutes+LightlyActiveMinutes+SedentaryMinutes) %>%\n",
    "  mutate (percent_minutes_worn = (total_minutes_worn/1440)*100) %>%\n",
    "  mutate (worn = case_when(\n",
    "    percent_minutes_worn == 100 ~ \"All Day\",\n",
    "    percent_minutes_worn < 100 & percent_minutes_worn >= 50~ \"More than half day\", \n",
    "    percent_minutes_worn < 50 & percent_minutes_worn > 0 ~ \"Less than half day\"\n",
    "  ))\n",
    "\n",
    "head(minutes_worn)"
   ]
  },
  {
   "cell_type": "code",
   "execution_count": 40,
   "id": "0d7833cd",
   "metadata": {
    "execution": {
     "iopub.execute_input": "2022-07-15T08:46:16.099199Z",
     "iopub.status.busy": "2022-07-15T08:46:16.079649Z",
     "iopub.status.idle": "2022-07-15T08:46:16.193970Z",
     "shell.execute_reply": "2022-07-15T08:46:16.192660Z"
    },
    "papermill": {
     "duration": 0.474806,
     "end_time": "2022-07-15T08:46:16.194117",
     "exception": false,
     "start_time": "2022-07-15T08:46:15.719311",
     "status": "completed"
    },
    "tags": []
   },
   "outputs": [],
   "source": [
    "# Create new df with percentage of wearable tracker usage by minutes\n",
    "minutes_worn_pct <- minutes_worn %>%\n",
    "  group_by(worn) %>%\n",
    "  summarise(total = n()) %>%\n",
    "  mutate(totals = sum(total)) %>%\n",
    "  group_by(worn) %>%\n",
    "  summarise(total_percent = scales::percent(total / totals))\n",
    "\n",
    "# Create new df with percentage of high usage of the wearable tracker\n",
    "minutes_worn_high_use <- minutes_worn %>%\n",
    "  filter (tracker_usage == \"High Use\")%>%\n",
    "  group_by(worn) %>%\n",
    "  summarise(total = n()) %>%\n",
    "  mutate(totals = sum(total)) %>%\n",
    "  group_by(worn) %>%\n",
    "  summarise(total_percent = scales::percent(total / totals))\n",
    "\n",
    "# Create new df with percentage of moderate usage of the wearable tracker\n",
    "minutes_worn_moderate_use <- minutes_worn %>%\n",
    "  filter(tracker_usage == \"Moderate Use\") %>%\n",
    "  group_by(worn) %>%\n",
    "  summarise(total = n()) %>%\n",
    "  mutate(totals = sum(total)) %>%\n",
    "  group_by(worn) %>%\n",
    "  summarise(total_percent = scales::percent(total / totals))\n",
    "\n",
    "# Create new df with percentage of low usage of the wearable tracker\n",
    "minutes_worn_light_use <- minutes_worn %>%\n",
    "  filter (tracker_usage == \"Light Use\") %>%\n",
    "  group_by(worn) %>%\n",
    "  summarise(total = n()) %>%\n",
    "  mutate(totals = sum(total)) %>%\n",
    "  group_by(worn) %>%\n",
    "  summarise(total_percent = scales::percent(total / totals))\n",
    "\n",
    "# Create vectors for each wearable tracker usage lengths\n",
    "minutes_worn_high_use$worn <- factor(minutes_worn_high_use$worn, levels = c(\"All Day\", \"More than half day\", \"Less than half day\"))\n",
    "minutes_worn_pct$worn <- factor(minutes_worn_pct$worn, levels = c(\"All Day\", \"More than half day\", \"Less than half day\"))\n",
    "minutes_worn_moderate_use$worn <- factor(minutes_worn_moderate_use$worn, levels = c(\"All Day\", \"More than half day\", \"Less than half day\"))\n",
    "minutes_worn_light_use$worn <- factor(minutes_worn_light_use$worn, levels = c(\"All Day\", \"More than half day\", \"Less than half day\"))"
   ]
  },
  {
   "cell_type": "code",
   "execution_count": 41,
   "id": "1c35dc8c",
   "metadata": {
    "execution": {
     "iopub.execute_input": "2022-07-15T08:46:16.830237Z",
     "iopub.status.busy": "2022-07-15T08:46:16.828660Z",
     "iopub.status.idle": "2022-07-15T08:46:16.852499Z",
     "shell.execute_reply": "2022-07-15T08:46:16.850955Z"
    },
    "papermill": {
     "duration": 0.347365,
     "end_time": "2022-07-15T08:46:16.852673",
     "exception": false,
     "start_time": "2022-07-15T08:46:16.505308",
     "status": "completed"
    },
    "tags": []
   },
   "outputs": [
    {
     "data": {
      "text/html": [
       "<table class=\"dataframe\">\n",
       "<caption>A tibble: 3 × 2</caption>\n",
       "<thead>\n",
       "\t<tr><th scope=col>worn</th><th scope=col>total_percent</th></tr>\n",
       "\t<tr><th scope=col>&lt;fct&gt;</th><th scope=col>&lt;chr&gt;</th></tr>\n",
       "</thead>\n",
       "<tbody>\n",
       "\t<tr><td>All Day           </td><td>38%</td></tr>\n",
       "\t<tr><td>Less than half day</td><td>3% </td></tr>\n",
       "\t<tr><td>More than half day</td><td>59%</td></tr>\n",
       "</tbody>\n",
       "</table>\n"
      ],
      "text/latex": [
       "A tibble: 3 × 2\n",
       "\\begin{tabular}{ll}\n",
       " worn & total\\_percent\\\\\n",
       " <fct> & <chr>\\\\\n",
       "\\hline\n",
       "\t All Day            & 38\\%\\\\\n",
       "\t Less than half day & 3\\% \\\\\n",
       "\t More than half day & 59\\%\\\\\n",
       "\\end{tabular}\n"
      ],
      "text/markdown": [
       "\n",
       "A tibble: 3 × 2\n",
       "\n",
       "| worn &lt;fct&gt; | total_percent &lt;chr&gt; |\n",
       "|---|---|\n",
       "| All Day            | 38% |\n",
       "| Less than half day | 3%  |\n",
       "| More than half day | 59% |\n",
       "\n"
      ],
      "text/plain": [
       "  worn               total_percent\n",
       "1 All Day            38%          \n",
       "2 Less than half day 3%           \n",
       "3 More than half day 59%          "
      ]
     },
     "metadata": {},
     "output_type": "display_data"
    }
   ],
   "source": [
    "head(minutes_worn_pct)"
   ]
  },
  {
   "cell_type": "code",
   "execution_count": 42,
   "id": "36bf3313",
   "metadata": {
    "execution": {
     "iopub.execute_input": "2022-07-15T08:46:17.483074Z",
     "iopub.status.busy": "2022-07-15T08:46:17.481517Z",
     "iopub.status.idle": "2022-07-15T08:46:17.508712Z",
     "shell.execute_reply": "2022-07-15T08:46:17.506947Z"
    },
    "papermill": {
     "duration": 0.340885,
     "end_time": "2022-07-15T08:46:17.508881",
     "exception": false,
     "start_time": "2022-07-15T08:46:17.167996",
     "status": "completed"
    },
    "tags": []
   },
   "outputs": [
    {
     "name": "stdout",
     "output_type": "stream",
     "text": [
      "[1] \"High User\"\n"
     ]
    },
    {
     "data": {
      "text/html": [
       "<table class=\"dataframe\">\n",
       "<caption>A tibble: 3 × 2</caption>\n",
       "<thead>\n",
       "\t<tr><th scope=col>worn</th><th scope=col>total_percent</th></tr>\n",
       "\t<tr><th scope=col>&lt;fct&gt;</th><th scope=col>&lt;chr&gt;</th></tr>\n",
       "</thead>\n",
       "<tbody>\n",
       "\t<tr><td>All Day           </td><td>7% </td></tr>\n",
       "\t<tr><td>Less than half day</td><td>4% </td></tr>\n",
       "\t<tr><td>More than half day</td><td>88%</td></tr>\n",
       "</tbody>\n",
       "</table>\n"
      ],
      "text/latex": [
       "A tibble: 3 × 2\n",
       "\\begin{tabular}{ll}\n",
       " worn & total\\_percent\\\\\n",
       " <fct> & <chr>\\\\\n",
       "\\hline\n",
       "\t All Day            & 7\\% \\\\\n",
       "\t Less than half day & 4\\% \\\\\n",
       "\t More than half day & 88\\%\\\\\n",
       "\\end{tabular}\n"
      ],
      "text/markdown": [
       "\n",
       "A tibble: 3 × 2\n",
       "\n",
       "| worn &lt;fct&gt; | total_percent &lt;chr&gt; |\n",
       "|---|---|\n",
       "| All Day            | 7%  |\n",
       "| Less than half day | 4%  |\n",
       "| More than half day | 88% |\n",
       "\n"
      ],
      "text/plain": [
       "  worn               total_percent\n",
       "1 All Day            7%           \n",
       "2 Less than half day 4%           \n",
       "3 More than half day 88%          "
      ]
     },
     "metadata": {},
     "output_type": "display_data"
    }
   ],
   "source": [
    "print(\"High User\")\n",
    "head(minutes_worn_high_use)"
   ]
  },
  {
   "cell_type": "code",
   "execution_count": 43,
   "id": "3f110c37",
   "metadata": {
    "execution": {
     "iopub.execute_input": "2022-07-15T08:46:18.165897Z",
     "iopub.status.busy": "2022-07-15T08:46:18.164269Z",
     "iopub.status.idle": "2022-07-15T08:46:18.206516Z",
     "shell.execute_reply": "2022-07-15T08:46:18.188334Z"
    },
    "papermill": {
     "duration": 0.367878,
     "end_time": "2022-07-15T08:46:18.206690",
     "exception": false,
     "start_time": "2022-07-15T08:46:17.838812",
     "status": "completed"
    },
    "tags": []
   },
   "outputs": [
    {
     "name": "stdout",
     "output_type": "stream",
     "text": [
      "[1] \"Moderate User\"\n"
     ]
    },
    {
     "data": {
      "text/html": [
       "<table class=\"dataframe\">\n",
       "<caption>A tibble: 3 × 2</caption>\n",
       "<thead>\n",
       "\t<tr><th scope=col>worn</th><th scope=col>total_percent</th></tr>\n",
       "\t<tr><th scope=col>&lt;fct&gt;</th><th scope=col>&lt;chr&gt;</th></tr>\n",
       "</thead>\n",
       "<tbody>\n",
       "\t<tr><td>All Day           </td><td>27%</td></tr>\n",
       "\t<tr><td>Less than half day</td><td>4% </td></tr>\n",
       "\t<tr><td>More than half day</td><td>69%</td></tr>\n",
       "</tbody>\n",
       "</table>\n"
      ],
      "text/latex": [
       "A tibble: 3 × 2\n",
       "\\begin{tabular}{ll}\n",
       " worn & total\\_percent\\\\\n",
       " <fct> & <chr>\\\\\n",
       "\\hline\n",
       "\t All Day            & 27\\%\\\\\n",
       "\t Less than half day & 4\\% \\\\\n",
       "\t More than half day & 69\\%\\\\\n",
       "\\end{tabular}\n"
      ],
      "text/markdown": [
       "\n",
       "A tibble: 3 × 2\n",
       "\n",
       "| worn &lt;fct&gt; | total_percent &lt;chr&gt; |\n",
       "|---|---|\n",
       "| All Day            | 27% |\n",
       "| Less than half day | 4%  |\n",
       "| More than half day | 69% |\n",
       "\n"
      ],
      "text/plain": [
       "  worn               total_percent\n",
       "1 All Day            27%          \n",
       "2 Less than half day 4%           \n",
       "3 More than half day 69%          "
      ]
     },
     "metadata": {},
     "output_type": "display_data"
    }
   ],
   "source": [
    "print(\"Moderate User\")\n",
    "head(minutes_worn_moderate_use)"
   ]
  },
  {
   "cell_type": "code",
   "execution_count": 44,
   "id": "8a68e435",
   "metadata": {
    "execution": {
     "iopub.execute_input": "2022-07-15T08:46:18.847224Z",
     "iopub.status.busy": "2022-07-15T08:46:18.846560Z",
     "iopub.status.idle": "2022-07-15T08:46:18.868912Z",
     "shell.execute_reply": "2022-07-15T08:46:18.867681Z"
    },
    "papermill": {
     "duration": 0.348206,
     "end_time": "2022-07-15T08:46:18.869049",
     "exception": false,
     "start_time": "2022-07-15T08:46:18.520843",
     "status": "completed"
    },
    "tags": []
   },
   "outputs": [
    {
     "name": "stdout",
     "output_type": "stream",
     "text": [
      "[1] \"Light User\"\n"
     ]
    },
    {
     "data": {
      "text/html": [
       "<table class=\"dataframe\">\n",
       "<caption>A tibble: 3 × 2</caption>\n",
       "<thead>\n",
       "\t<tr><th scope=col>worn</th><th scope=col>total_percent</th></tr>\n",
       "\t<tr><th scope=col>&lt;fct&gt;</th><th scope=col>&lt;chr&gt;</th></tr>\n",
       "</thead>\n",
       "<tbody>\n",
       "\t<tr><td>All Day           </td><td>80%</td></tr>\n",
       "\t<tr><td>Less than half day</td><td>2% </td></tr>\n",
       "\t<tr><td>More than half day</td><td>18%</td></tr>\n",
       "</tbody>\n",
       "</table>\n"
      ],
      "text/latex": [
       "A tibble: 3 × 2\n",
       "\\begin{tabular}{ll}\n",
       " worn & total\\_percent\\\\\n",
       " <fct> & <chr>\\\\\n",
       "\\hline\n",
       "\t All Day            & 80\\%\\\\\n",
       "\t Less than half day & 2\\% \\\\\n",
       "\t More than half day & 18\\%\\\\\n",
       "\\end{tabular}\n"
      ],
      "text/markdown": [
       "\n",
       "A tibble: 3 × 2\n",
       "\n",
       "| worn &lt;fct&gt; | total_percent &lt;chr&gt; |\n",
       "|---|---|\n",
       "| All Day            | 80% |\n",
       "| Less than half day | 2%  |\n",
       "| More than half day | 18% |\n",
       "\n"
      ],
      "text/plain": [
       "  worn               total_percent\n",
       "1 All Day            80%          \n",
       "2 Less than half day 2%           \n",
       "3 More than half day 18%          "
      ]
     },
     "metadata": {},
     "output_type": "display_data"
    }
   ],
   "source": [
    "print(\"Light User\")\n",
    "head(minutes_worn_light_use)"
   ]
  },
  {
   "cell_type": "markdown",
   "id": "1a5e2395",
   "metadata": {
    "papermill": {
     "duration": 0.316685,
     "end_time": "2022-07-15T08:46:19.509488",
     "exception": false,
     "start_time": "2022-07-15T08:46:19.192803",
     "status": "completed"
    },
    "tags": []
   },
   "source": [
    "# Health and Wearable Trends\n",
    "\n",
    "* The wearable usage data indicates that there is an inverse coorelation between how many days the tracker is worn during the month and the length of time worn each day --\n",
    "  * 7% of high users (wearing tracker for at least 21 days a month) wear the tracker all day\n",
    "  * 27% of moderate users (wearing tracker between 11 and 20 days) wear the tracker all day\n",
    "  * 80% light users (wearing tracker for less than 11 days) wear the tracker all day\n",
    "\n",
    "\n",
    "* Users are not sleeping the recommended 8 hours a day, with the least amount of sleep occuring on Thursdays\n",
    "\n",
    "* Users are not walking the recommended 10,000 daily steps, with users walking the least amount of steps on Fridays\n",
    "\n",
    "* Only 38% of users are at a healthy weight and BMI, indicating that more daily activity is needed for the remaining 62% of users"
   ]
  },
  {
   "cell_type": "markdown",
   "id": "91d8b3e0",
   "metadata": {
    "papermill": {
     "duration": 0.320967,
     "end_time": "2022-07-15T08:46:20.152822",
     "exception": false,
     "start_time": "2022-07-15T08:46:19.831855",
     "status": "completed"
    },
    "tags": []
   },
   "source": [
    "# Recommendations\n",
    "\n",
    "* Invest in additional data capture techniques as current datasets provide a small sample size and do not include any demographic details\n",
    "\n",
    "* Integrate notifications, gamification, and/or competitions into the wearables --\n",
    "  * **Notifications** - Provide notifications within the wearable or app of the user's daily progress towards steps goal or weekly sleep goal. Notifications could also be sent an hour before the user's desired time to go to bed to help them prepare for sleep.\n",
    "\n",
    "  * **Gamification** - While some users are not motivated by notifications, there could be some who respond better to rewards, wherein a user receives points if they meet or exceed the recommended daily steps, hours of sleep, etc. Once enough points are accumulated the user can redeem for free merchandise or a set percentage discount on a future purchase of a wearable.\n",
    "\n",
    "  * **Competitions** - Create regional leaderboard with each user's weekly/monthly number of steps ranked against other users. At the end of each term, the top 3 users are awarded merchandise or discount codes for a future wearable purchase.\n",
    "\n",
    "* Partner with health technology companies for integration of their products with Bellabeat wearables. Partnerships could include scales for weight tracking, insulin pumps for blood sugar tracking, or water bottles for water intake tracking.\n",
    "\n",
    "* Incorporate a referal program where current wearable users can receive incremental discounts on merchandise or future wearable purchases based on the how many of their referrals who purchase a wearable."
   ]
  }
 ],
 "metadata": {
  "kernelspec": {
   "display_name": "R",
   "language": "R",
   "name": "ir"
  },
  "language_info": {
   "codemirror_mode": "r",
   "file_extension": ".r",
   "mimetype": "text/x-r-source",
   "name": "R",
   "pygments_lexer": "r",
   "version": "4.0.5"
  },
  "papermill": {
   "default_parameters": {},
   "duration": 52.089987,
   "end_time": "2022-07-15T08:46:20.581247",
   "environment_variables": {},
   "exception": null,
   "input_path": "__notebook__.ipynb",
   "output_path": "__notebook__.ipynb",
   "parameters": {},
   "start_time": "2022-07-15T08:45:28.491260",
   "version": "2.3.3"
  }
 },
 "nbformat": 4,
 "nbformat_minor": 5
}
